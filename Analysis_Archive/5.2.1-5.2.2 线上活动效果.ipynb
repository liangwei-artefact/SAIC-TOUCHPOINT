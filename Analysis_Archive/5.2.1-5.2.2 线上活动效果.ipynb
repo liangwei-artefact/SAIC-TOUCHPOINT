{
 "cells": [
  {
   "cell_type": "code",
   "execution_count": null,
   "metadata": {},
   "outputs": [],
   "source": [
    "import re\n",
    "import datetime\n",
    "from pychattr.channel_attribution import MarkovModel\n",
    "import pandas as pd\n",
    "import numpy as np\n",
    "from sklearn.metrics import classification_report\n",
    "import warnings\n",
    "warnings.filterwarnings('ignore')"
   ]
  },
  {
   "cell_type": "code",
   "execution_count": null,
   "metadata": {},
   "outputs": [],
   "source": [
    "# pd.set_option('display.max_colwidth', None)\n",
    "# import findspark\n",
    "# findspark.init(\"/opt/cloudera/parcels/CDH-6.3.1-1.cdh6.3.1.p0.1470567/lib/spark\",\"/usr/bin/python2.7\")\n",
    "\n",
    "# import os\n",
    "# os.environ[\"JAVA_HOME\"] = \"/usr/java/jdk1.8.0_181-cloudera\"\n",
    "\n",
    "# from pyspark.sql import functions as F\n",
    "# from pyspark import SparkContext\n",
    "# from pyspark.sql import SparkSession,HiveContext,Window\n",
    "# from pyspark.sql.types import IntegerType, FloatType, DoubleType, ArrayType, StringType, DecimalType\n",
    "# from pyspark.sql.functions import *\n",
    "\n",
    "# spark_session = SparkSession.builder.enableHiveSupport().appName(\"artefact_attribution_analysis\") \\\n",
    "#     .config(\"spark.driver.memory\",\"50g\") \\\n",
    "#     .config(\"spark.pyspark.driver.python\",\"/usr/bin/python2.7\")\\\n",
    "#     .config(\"spark.pyspark.python\",\"/usr/bin/python2.7\") \\\n",
    "#     .config(\"spark.yarn.executor.memoryOverhead\",\"8G\") \\\n",
    "#     .getOrCreate()\n",
    "# hc = HiveContext(spark_session.sparkContext)"
   ]
  },
  {
   "cell_type": "markdown",
   "metadata": {},
   "source": [
    "##### Fetch data and data processing"
   ]
  },
  {
   "cell_type": "code",
   "execution_count": null,
   "metadata": {},
   "outputs": [],
   "source": [
    "activity = hc.sql(\"select * from marketing_modeling.dw_ts_adhoc_app_activity_i\")\n",
    "activity = activity.toPandas()"
   ]
  },
  {
   "cell_type": "code",
   "execution_count": null,
   "metadata": {},
   "outputs": [],
   "source": [
    "# deal_time.csv 为从marketing_modeling.dw_deliver_behavior获取的mobile and behavior_time\n",
    "deal_time = pd.read_csv('data/deal_time.csv',names=['mobile','deal_time'],sep='\\t')"
   ]
  },
  {
   "cell_type": "code",
   "execution_count": null,
   "metadata": {},
   "outputs": [],
   "source": [
    "df = pd.read_csv('data/tp_analysis_base.csv',sep = '\\t',header = None)\n",
    "id_mapping = pd.read_csv('data/id_mapping.csv')"
   ]
  },
  {
   "cell_type": "code",
   "execution_count": null,
   "metadata": {},
   "outputs": [],
   "source": [
    "df = df.rename(columns = {0:'mobile',1:'touchpoint_id',2:'action_time'})\n",
    "df = df[['mobile','action_time','touchpoint_id']]\n",
    "df.head()"
   ]
  },
  {
   "cell_type": "code",
   "execution_count": null,
   "metadata": {},
   "outputs": [],
   "source": [
    "def preprocess(df):\n",
    "    df.dropna(inplace = True)\n",
    "    df['mobile'] = df['mobile'].astype('string')\n",
    "    ##filter the uncleaned mobile\n",
    "    df = df[df.mobile.str.contains('^1\\d{10}$')]\n",
    "    ##phone number of dealer to remove\n",
    "    mobile_to_remove = pd.read_csv('mobile_to_remove.csv').drop(columns =[ 'Unnamed: 0'])\n",
    "    mobile_to_remove_list = mobile_to_remove.mobile.unique()\n",
    "    df = df[~df.mobile.isin(mobile_to_remove_list)]\n",
    "    return df\n",
    "\n",
    "def if_has_endpoint(touchpoint_id,list1):\n",
    "    if touchpoint_id in list1:\n",
    "        return 1\n",
    "    else:\n",
    "        return 0"
   ]
  },
  {
   "cell_type": "code",
   "execution_count": null,
   "metadata": {},
   "outputs": [],
   "source": [
    "df = preprocess(df)\n",
    "\n",
    "# link consumer journey\n",
    "df = df.sort_values(['mobile', 'action_time'],ascending=[False, True])\n",
    "df_paths = df.groupby('mobile')['touchpoint_id'].aggregate(lambda x: x.tolist()).reset_index()"
   ]
  },
  {
   "cell_type": "markdown",
   "metadata": {},
   "source": [
    "##### 总人数 & 车主/意向/机会比例 "
   ]
  },
  {
   "cell_type": "code",
   "execution_count": null,
   "metadata": {},
   "outputs": [],
   "source": [
    "def get_proportion(cyberster_activity_mobile, tp_id):\n",
    "    df_cyberster = df[df.mobile.isin(cyberster_activity_mobile)]\n",
    "    tmp = df_cyberster[df_cyberster.touchpoint_id.isin(tp_id)].groupby('mobile',as_index = False)['action_time'].min()\n",
    "    tmp = tmp.merge(deal_time,on = 'mobile',how = 'left')\n",
    "    owner_percentage = tmp[tmp.action_time > tmp.deal_time].mobile.count()/tmp.mobile.count()\n",
    "    yixiang = df_cyberster[df_cyberster.touchpoint_id == '004000000000_tp'].groupby('mobile',as_index = False)['action_time'].min()\n",
    "    yixiang = yixiang.rename(columns = {'action_time':'min_yixiang'})\n",
    "    tmp = tmp.merge(yixiang, on = 'mobile',how = 'left')\n",
    "    tmp2 = tmp[~(tmp.action_time > tmp.deal_time)]\n",
    "    chance_percentage = (tmp2[(tmp2.action_time < tmp2.min_yixiang)].mobile.count() + tmp2.min_yixiang.isnull().sum()) /tmp.mobile.count()\n",
    "    return owner_percentage,chance_percentage,tmp.mobile.count()"
   ]
  },
  {
   "cell_type": "code",
   "execution_count": null,
   "metadata": {},
   "outputs": [],
   "source": [
    "# 1) Cyberster 车主比例 意向比例 总人数\n",
    "cyberster_activity_mobile = activity[(activity.touchpoint_id == '008002006005_tp')&(activity.activity_type == 'Cyberster')].mobile.unique()\n",
    "owner_percentage,chance_percentage,num = get_proportion(cyberster_activity_mobile,['008002006005_tp'])\n",
    "print(owner_percentage,chance_percentage,num)"
   ]
  },
  {
   "cell_type": "code",
   "execution_count": null,
   "metadata": {},
   "outputs": [],
   "source": [
    "# 2) 集点积分 车主比例 意向比例 总人数\n",
    "points_activity_mobile = activity[(activity.touchpoint_id == '008002006005_tp')&(activity.activity_type == '集点积分')].mobile.unique()\n",
    "owner_percentage,chance_percentage,num = get_proportion(points_activity_mobile,['008002006005_tp'])\n",
    "print(owner_percentage,chance_percentage,num)"
   ]
  },
  {
   "cell_type": "code",
   "execution_count": null,
   "metadata": {},
   "outputs": [],
   "source": [
    "# 3) 社区活动 车主比例 意向比例 总人数\n",
    "community_activity_mobile = df[df.touchpoint_id.isin(['008002006004_tp','008002006002_tp','008002006003_tp'])].mobile.unique()\n",
    "owner_percentage,chance_percentage,num = get_proportion(community_activity_mobile,['008002006004_tp','008002006002_tp','008002006003_tp'])\n",
    "print(owner_percentage,chance_percentage,num)"
   ]
  },
  {
   "cell_type": "code",
   "execution_count": null,
   "metadata": {},
   "outputs": [],
   "source": [
    "# 4) APP直播 车主比例 意向比例 总人数\n",
    "app_activity_mobile = df[df.touchpoint_id.str.startswith('008002002')].mobile.unique()\n",
    "app_id = [i for i in id_mapping.touchpoint_id.tolist() if i.startswith('008002002')]\n",
    "owner_percentage,chance_percentage,num = get_proportion(app_activity_mobile,app_id)\n",
    "print(owner_percentage,chance_percentage,num)"
   ]
  },
  {
   "cell_type": "code",
   "execution_count": null,
   "metadata": {},
   "outputs": [],
   "source": [
    "# 5) 推荐有礼 车主比例 意向比例 总人数\n",
    "liebian_activity_mobile = list(df df.touchpoint_id == '008002006001_tp'].mobile.unique())\n",
    "tuijian_activity_mobile =  list(activity[(activity.touchpoint_id == '008002006005_tp')&(activity.activity_type == '推荐有礼')].mobile.unique())\n",
    "liebian_activity_mobile.extend(tuijian_activity_mobile)\n",
    "liebian_activity_mobile = list(set(liebian_activity_mobile))\n",
    "owner_percentage,chance_percentage,num = get_proportion(liebian_activity_mobile,['008002006001_tp','008002006005_tp'])\n",
    "print(owner_percentage,chance_percentage,num)"
   ]
  },
  {
   "cell_type": "code",
   "execution_count": null,
   "metadata": {},
   "outputs": [],
   "source": [
    "# 6) 其他 车主比例 意向比例 总人数\n",
    "qita_activity_mobile =  list(activity[(activity.touchpoint_id == '008002006005_tp')&(activity.activity_type != '推荐有礼')&(activity.activity_type != 'Cyberster')&(activity.activity_type != '集点积分')].mobile.unique())\n",
    "owner_percentage,chance_percentage,num = get_proportion(qita_activity_mobile,['008002006005_tp'])\n",
    "print(owner_percentage,chance_percentage,num)"
   ]
  },
  {
   "cell_type": "markdown",
   "metadata": {},
   "source": [
    "##### 到店&成交转化率"
   ]
  },
  {
   "cell_type": "code",
   "execution_count": null,
   "metadata": {},
   "outputs": [],
   "source": [
    "df_paths['cyberster'] = df_paths.mobile.isin(cyberster_activity_mobile).astype('int')\n",
    "df_paths['points'] = df_paths.mobile.isin(points_activity_mobile).astype('int')\n",
    "df_paths['community'] = df_paths.mobile.isin(community_activity_mobile).astype('int')\n",
    "df_paths['app'] = df_paths.mobile.isin(app_activity_mobile).astype('int')\n",
    "df_paths['liebian'] = df_paths.mobile.isin(liebian_activity_mobile).astype('int')\n",
    "df_paths['others'] = df_paths.mobile.isin(qita_activity_mobile).astype('int')"
   ]
  },
  {
   "cell_type": "code",
   "execution_count": null,
   "metadata": {},
   "outputs": [],
   "source": [
    "adhoc = df_paths.copy()\n",
    "adhoc['if_008002006004_tp'] = adhoc.touchpoint_id.apply(lambda x:if_has_endpoint('008002006004_tp',x))\n",
    "adhoc['if_008002006002_tp'] = adhoc.touchpoint_id.apply(lambda x:if_has_endpoint('008002006002_tp',x))\n",
    "adhoc['if_008002006003_tp'] = adhoc.touchpoint_id.apply(lambda x:if_has_endpoint('008002006003_tp',x))\n",
    "adhoc['if_008002002000_tp'] = adhoc.touchpoint_id.apply(lambda x:if_has_endpoint('008002002000_tp',x))\n",
    "adhoc['if_008002002001_tp'] = adhoc.touchpoint_id.apply(lambda x:if_has_endpoint('008002002001_tp',x))\n",
    "adhoc['if_008002002002_tp'] = adhoc.touchpoint_id.apply(lambda x:if_has_endpoint('008002002002_tp',x))\n",
    "adhoc['if_008002002003_tp'] = adhoc.touchpoint_id.apply(lambda x:if_has_endpoint('008002002003_tp',x))\n",
    "adhoc['if_008002002004_tp'] = adhoc.touchpoint_id.apply(lambda x:if_has_endpoint('008002002004_tp',x))\n",
    "adhoc['if_008002002005_tp'] = adhoc.touchpoint_id.apply(lambda x:if_has_endpoint('008002002005_tp',x))\n",
    "adhoc['if_008002002006_tp'] = adhoc.touchpoint_id.apply(lambda x:if_has_endpoint('008002002006_tp',x))\n",
    "adhoc['if_008002002007_tp'] = adhoc.touchpoint_id.apply(lambda x:if_has_endpoint('008002002007_tp',x))\n",
    "adhoc['if_008002002008_tp'] = adhoc.touchpoint_id.apply(lambda x:if_has_endpoint('008002002008_tp',x))\n",
    "adhoc['if_008002006001_tp'] = adhoc.touchpoint_id.apply(lambda x:if_has_endpoint('008002006001_tp',x))\n",
    "adhoc['if_008002006005_tp'] = adhoc.touchpoint_id.apply(lambda x:if_has_endpoint('008002006005_tp',x))\n",
    "adhoc['if_008002003000_tp'] = adhoc.touchpoint_id.apply(lambda x:if_has_endpoint('008002003000_tp',x))\n",
    "adhoc['if_008002003001_tp'] = adhoc.touchpoint_id.apply(lambda x:if_has_endpoint('008002003001_tp',x))\n",
    "adhoc['if_008002003002_tp'] = adhoc.touchpoint_id.apply(lambda x:if_has_endpoint('008002003002_tp',x))\n",
    "adhoc['if_008002003003_tp'] = adhoc.touchpoint_id.apply(lambda x:if_has_endpoint('008002003003_tp',x))"
   ]
  },
  {
   "cell_type": "code",
   "execution_count": null,
   "metadata": {},
   "outputs": [],
   "source": [
    "adhoc['if_go_store'] = adhoc.touchpoint_id.apply(lambda x:if_has_endpoint('006000000000_tp',x))\n",
    "adhoc['if_order'] = adhoc.touchpoint_id.apply(lambda x:if_has_endpoint('011000000000_tp',x))\n",
    "adhoc['if_finish_drive'] = adhoc.touchpoint_id.apply(lambda x:if_has_endpoint('007003000000_tp',x))\n",
    "adhoc['if_review_drive'] = adhoc.touchpoint_id.apply(lambda x:if_has_endpoint('007004000000_tp',x))\n",
    "adhoc['if_drive'] = ((adhoc['if_finish_drive'] + adhoc['if_review_drive'])>=1).astype('int')"
   ]
  },
  {
   "cell_type": "code",
   "execution_count": null,
   "metadata": {},
   "outputs": [],
   "source": [
    "adhoc['tuijian'] = adhoc.mobile.isin(qita_activity_mobile).astype('int')\n",
    "adhoc['cyberster'] = ((adhoc['cyberster']+ adhoc.if_008002006005_tp) == 2).astype('int')\n",
    "adhoc['points'] = ((adhoc['points']+ adhoc.if_008002006005_tp) == 2).astype('int')\n",
    "adhoc['others'] = ((adhoc['others']+ adhoc.if_008002006005_tp) == 2).astype('int')\n",
    "adhoc['tuijian'] = ((adhoc['tuijian']+ adhoc.if_008002006005_tp) == 2).astype('int')"
   ]
  },
  {
   "cell_type": "code",
   "execution_count": null,
   "metadata": {},
   "outputs": [],
   "source": [
    "def exclude_endpoint(touchpoint_id,list1):\n",
    "    if touchpoint_id in list1:\n",
    "        list1 = list1[list1.index(touchpoint_id):]\n",
    "    return list1"
   ]
  },
  {
   "cell_type": "code",
   "execution_count": null,
   "metadata": {},
   "outputs": [],
   "source": [
    "# 1) APP直播-到店&成交\n",
    "tmp = adhoc.copy()\n",
    "tmp.loc[tmp.app == 1,'touchpoint_id'] = tmp.loc[tmp.app == 1,'touchpoint_id'].apply(lambda x:exclude_endpoint('008002002001_tp',x))\n",
    "tmp.loc[tmp.app == 1,'touchpoint_id'] = tmp.loc[tmp.app == 1,'touchpoint_id'].apply(lambda x:exclude_endpoint('008002002002_tp',x))\n",
    "tmp.loc[tmp.app == 1,'touchpoint_id'] = tmp.loc[tmp.app == 1,'touchpoint_id'].apply(lambda x:exclude_endpoint('008002002003_tp',x))\n",
    "tmp['if_go_store'] = tmp.touchpoint_id.apply(lambda x:if_has_endpoint('006000000000_tp',x))\n",
    "tmp['if_order'] = tmp.touchpoint_id.apply(lambda x:if_has_endpoint('011000000000_tp',x))\n",
    "\n",
    "# 到店\n",
    "print(tmp[(tmp.app ==1)&(tmp.if_go_store ==1)].mobile.count())\n",
    "# 成交\n",
    "print(tmp[(tmp.app ==1)&(tmp.if_order ==1)].mobile.count())"
   ]
  },
  {
   "cell_type": "code",
   "execution_count": null,
   "metadata": {},
   "outputs": [],
   "source": [
    "# 2) Cyberster-到店&成交\n",
    "tmp = adhoc.copy()\n",
    "tmp.loc[tmp.cyberster == 1,'touchpoint_id'] = tmp.loc[tmp.cyberster == 1,'touchpoint_id'].apply(lambda x:exclude_endpoint('008002006005_tp',x))\n",
    "tmp['if_go_store'] = tmp.touchpoint_id.apply(lambda x:if_has_endpoint('006000000000_tp',x))\n",
    "tmp['if_order'] = tmp.touchpoint_id.apply(lambda x:if_has_endpoint('011000000000_tp',x))\n",
    "tmp['if_finish_drive'] = tmp.touchpoint_id.apply(lambda x:if_has_endpoint('007003000000_tp',x))\n",
    "tmp['if_review_drive'] = tmp.touchpoint_id.apply(lambda x:if_has_endpoint('007004000000_tp',x))\n",
    "tmp['if_drive'] = ((tmp['if_finish_drive'] + tmp['if_review_drive'])>=1).astype('int')\n",
    "\n",
    "# 到店\n",
    "print(tmp[(tmp.cyberster == 1)&(tmp.if_go_store ==1)].mobile.nunique())\n",
    "# 成交\n",
    "print(tmp[(tmp.cyberster == 1)&(tmp.if_order ==1)].mobile.nunique())"
   ]
  },
  {
   "cell_type": "code",
   "execution_count": null,
   "metadata": {},
   "outputs": [],
   "source": [
    "# 3) 集点积分-到店&成交\n",
    "tmp = adhoc.copy()\n",
    "tmp.loc[tmp.points == 1,'touchpoint_id'] = tmp.loc[tmp.points == 1,'touchpoint_id'].apply(lambda x:exclude_endpoint('008002006005_tp',x))\n",
    "tmp['if_go_store'] = tmp.touchpoint_id.apply(lambda x:if_has_endpoint('006000000000_tp',x))\n",
    "tmp['if_order'] = tmp.touchpoint_id.apply(lambda x:if_has_endpoint('011000000000_tp',x))\n",
    "tmp['if_finish_drive'] = tmp.touchpoint_id.apply(lambda x:if_has_endpoint('007003000000_tp',x))\n",
    "tmp['if_review_drive'] = tmp.touchpoint_id.apply(lambda x:if_has_endpoint('007004000000_tp',x))\n",
    "tmp['if_drive'] = ((tmp['if_finish_drive'] + tmp['if_review_drive'])>=1).astype('int')\n",
    "# 到店\n",
    "tmp[(tmp.points == 1)&(tmp.if_go_store ==1)].mobile.nunique()\n",
    "# 成交\n",
    "tmp[(tmp.points == 1)&(tmp.if_order ==1)].mobile.nunique()"
   ]
  },
  {
   "cell_type": "code",
   "execution_count": null,
   "metadata": {},
   "outputs": [],
   "source": [
    "# 4) 社区活动-到店&成交\n",
    "tmp = adhoc.copy()\n",
    "tmp.loc[tmp.community == 1,'touchpoint_id'] = tmp.loc[tmp.community == 1,'touchpoint_id'].apply(lambda x:exclude_endpoint('008002006004_tp',x))\n",
    "tmp.loc[tmp.community == 1,'touchpoint_id'] = tmp.loc[tmp.community == 1,'touchpoint_id'].apply(lambda x:exclude_endpoint('008002006002_tp',x))\n",
    "tmp.loc[tmp.community == 1,'touchpoint_id'] = tmp.loc[tmp.community == 1,'touchpoint_id'].apply(lambda x:exclude_endpoint('008002006003_tp',x))\n",
    "tmp['if_go_store'] = tmp.touchpoint_id.apply(lambda x:if_has_endpoint('006000000000_tp',x))\n",
    "tmp['if_order'] = tmp.touchpoint_id.apply(lambda x:if_has_endpoint('011000000000_tp',x))\n",
    "tmp['if_finish_drive'] = tmp.touchpoint_id.apply(lambda x:if_has_endpoint('007003000000_tp',x))\n",
    "tmp['if_review_drive'] = tmp.touchpoint_id.apply(lambda x:if_has_endpoint('007004000000_tp',x))\n",
    "tmp['if_drive'] = ((tmp['if_finish_drive'] + tmp['if_review_drive'])>=1).astype('int')\n",
    "\n",
    "#到店\n",
    "tmp[(tmp.community == 1)&(tmp.if_go_store ==1)].mobile.nunique()/tmp[(tmp.community == 1)].mobile.nunique()\n",
    "# 成交\n",
    "tmp[(tmp.community == 1)&(tmp.if_order ==1)].mobile.nunique()/tmp[(tmp.community == 1)].mobile.nunique()"
   ]
  },
  {
   "cell_type": "code",
   "execution_count": null,
   "metadata": {},
   "outputs": [],
   "source": [
    "# 5) 推荐有礼-到店&成交\n",
    "tmp = adhoc.copy()\n",
    "tmp.loc[tmp.tuijian == 1,'touchpoint_id'] = tmp.loc[tmp.tuijian == 1,'touchpoint_id'].apply(lambda x:exclude_endpoint('008002006005_tp',x))\n",
    "tmp['if_go_store'] = tmp.touchpoint_id.apply(lambda x:if_has_endpoint('006000000000_tp',x))\n",
    "tmp['if_order'] = tmp.touchpoint_id.apply(lambda x:if_has_endpoint('011000000000_tp',x))\n",
    "tmp['if_finish_drive'] = tmp.touchpoint_id.apply(lambda x:if_has_endpoint('007003000000_tp',x))\n",
    "tmp['if_review_drive'] = tmp.touchpoint_id.apply(lambda x:if_has_endpoint('007004000000_tp',x))\n",
    "tmp['if_drive'] = ((tmp['if_finish_drive'] + tmp['if_review_drive'])>=1).astype('int')\n",
    "\n",
    "#到店\n",
    "tmp[(tmp.tuijian == 1)&(tmp.if_go_store ==1)].mobile.nunique()\n",
    "# 成交\n",
    "tmp[(tmp.tuijian == 1)&(tmp.if_order ==1)].mobile.nunique()"
   ]
  },
  {
   "cell_type": "code",
   "execution_count": null,
   "metadata": {},
   "outputs": [],
   "source": [
    "# 6) 其他-到店&成交\n",
    "tmp = adhoc.copy()\n",
    "tmp.loc[tmp.others == 1,'touchpoint_id'] = tmp.loc[tmp.others == 1,'touchpoint_id'].apply(lambda x:exclude_endpoint('008002006005_tp',x))\n",
    "tmp['if_go_store'] = tmp.touchpoint_id.apply(lambda x:if_has_endpoint('006000000000_tp',x))\n",
    "tmp['if_order'] = tmp.touchpoint_id.apply(lambda x:if_has_endpoint('011000000000_tp',x))\n",
    "tmp['if_finish_drive'] = tmp.touchpoint_id.apply(lambda x:if_has_endpoint('007003000000_tp',x))\n",
    "tmp['if_review_drive'] = tmp.touchpoint_id.apply(lambda x:if_has_endpoint('007004000000_tp',x))\n",
    "tmp['if_drive'] = ((tmp['if_finish_drive'] + tmp['if_review_drive'])>=1).astype('int')\n",
    "\n",
    "#到店\n",
    "tmp[(tmp.others == 1)&(tmp.if_go_store ==1)].mobile.nunique()\n",
    "# 成交\n",
    "tmp[(tmp.others == 1)&(tmp.if_order ==1)].mobile.nunique()"
   ]
  },
  {
   "cell_type": "markdown",
   "metadata": {},
   "source": [
    "##### 7天活跃率"
   ]
  },
  {
   "cell_type": "code",
   "execution_count": null,
   "metadata": {},
   "outputs": [],
   "source": [
    "app_id = [i for i in id_mapping.touchpoint_id.tolist() if i.startswith('003')] + \\\n",
    "[i for i in id_mapping.touchpoint_id.tolist() if i.startswith('008002')] + \\\n",
    "[i for i in id_mapping.touchpoint_id.tolist() if i.startswith('002') and i.startswith('002011') == False] + \\\n",
    "[i for i in id_mapping.touchpoint_id.tolist() if i.startswith('019')] \n",
    "\n",
    "def get_seven_days_active(cyberster_activity_mobile):\n",
    "    cyberster = df[df.mobile.isin(cyberster_activity_mobile)]\n",
    "    cyberster['action_time'] = pd.to_datetime(cyberster['action_time'])\n",
    "    tmp = cyberster[cyberster.touchpoint_id.isin(app_id)].groupby('mobile',as_index = False).action_time.min()\n",
    "    tmp['7_days_later'] = tmp['action_time'] + timedelta(days = 7)\n",
    "    tmp = tmp.rename(columns = {'action_time':'min_time'})\n",
    "    cyberster = cyberster.merge(tmp, on = 'mobile',how = 'left')\n",
    "    a = cyberster[(cyberster.touchpoint_id.str.startswith('00800200'))&(cyberster.action_time > cyberster.min_time)&(cyberster.action_time < cyberster['7_days_later'])].mobile.nunique()\n",
    "    b = cyberster.mobile.nunique()\n",
    "    return a,b,a/b"
   ]
  },
  {
   "cell_type": "code",
   "execution_count": null,
   "metadata": {},
   "outputs": [],
   "source": [
    "get_seven_days_active(cyberster_activity_mobile)"
   ]
  },
  {
   "cell_type": "code",
   "execution_count": null,
   "metadata": {},
   "outputs": [],
   "source": [
    "get_seven_days_active(points_activity_mobile)"
   ]
  },
  {
   "cell_type": "code",
   "execution_count": null,
   "metadata": {},
   "outputs": [],
   "source": [
    "get_seven_days_active(community_activity_mobile)"
   ]
  },
  {
   "cell_type": "code",
   "execution_count": null,
   "metadata": {},
   "outputs": [],
   "source": [
    "get_seven_days_active(app_activity_mobile)"
   ]
  },
  {
   "cell_type": "code",
   "execution_count": null,
   "metadata": {},
   "outputs": [],
   "source": [
    "get_seven_days_active(liebian_activity_mobile)"
   ]
  },
  {
   "cell_type": "code",
   "execution_count": null,
   "metadata": {},
   "outputs": [],
   "source": [
    "get_seven_days_active(qita_activity_mobile)"
   ]
  }
 ],
 "metadata": {
  "kernelspec": {
   "display_name": "python37_smcsandbox",
   "language": "python",
   "name": "python3"
  },
  "language_info": {
   "codemirror_mode": {
    "name": "ipython",
    "version": 3
   },
   "file_extension": ".py",
   "mimetype": "text/x-python",
   "name": "python",
   "nbconvert_exporter": "python",
   "pygments_lexer": "ipython3",
   "version": "3.7.5"
  }
 },
 "nbformat": 4,
 "nbformat_minor": 2
}
