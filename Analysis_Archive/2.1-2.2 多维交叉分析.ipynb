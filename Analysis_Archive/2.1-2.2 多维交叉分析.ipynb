{
 "cells": [
  {
   "cell_type": "code",
   "execution_count": 2,
   "metadata": {},
   "outputs": [],
   "source": [
    "import pandas as pd\n",
    "import numpy as np"
   ]
  },
  {
   "cell_type": "code",
   "execution_count": null,
   "metadata": {},
   "outputs": [],
   "source": [
    "# 读取数据\n",
    "names = ['mobile','action_time','touchpoint_id','action_rank']\n",
    "df_valid = pd.read_csv('tp_analysis_base.csv',sep = '\\t', names = names)\n",
    "df_valid['mobile'] = df_valid['mobile'].astype(str)\n",
    "\n",
    "tid_cat = pd.read_csv('data/id_mapping.csv')"
   ]
  },
  {
   "cell_type": "code",
   "execution_count": 2,
   "metadata": {},
   "outputs": [],
   "source": [
    "# 读取城市和省份数据 (获取每个手机号码意向所在的经销商，根据经销商的位置判断省份和城市)\n",
    "df_loc = pd.read_csv('id_loc_mapping.csv').drop('Unnamed: 0',axis=1)"
   ]
  },
  {
   "cell_type": "code",
   "execution_count": 7,
   "metadata": {},
   "outputs": [],
   "source": [
    "# 从公开地图网站获取城市所在经纬度\n",
    "locs = pd.read_csv('locations.csv',header=None)\n",
    "locs.columns=['area','city_name','longitude','latitude']\n",
    "#locs.loc[locs.city_name.apply(lambda x:'亳' in x)]"
   ]
  },
  {
   "cell_type": "code",
   "execution_count": 10,
   "metadata": {},
   "outputs": [
    {
     "data": {
      "text/html": [
       "<div>\n",
       "<style scoped>\n",
       "    .dataframe tbody tr th:only-of-type {\n",
       "        vertical-align: middle;\n",
       "    }\n",
       "\n",
       "    .dataframe tbody tr th {\n",
       "        vertical-align: top;\n",
       "    }\n",
       "\n",
       "    .dataframe thead th {\n",
       "        text-align: right;\n",
       "    }\n",
       "</style>\n",
       "<table border=\"1\" class=\"dataframe\">\n",
       "  <thead>\n",
       "    <tr style=\"text-align: right;\">\n",
       "      <th></th>\n",
       "      <th>area</th>\n",
       "      <th>city_name</th>\n",
       "      <th>longitude</th>\n",
       "      <th>latitude</th>\n",
       "    </tr>\n",
       "  </thead>\n",
       "  <tbody>\n",
       "    <tr>\n",
       "      <th>0</th>\n",
       "      <td>广东省</td>\n",
       "      <td>广州</td>\n",
       "      <td>113.26436</td>\n",
       "      <td>23.12908</td>\n",
       "    </tr>\n",
       "    <tr>\n",
       "      <th>1</th>\n",
       "      <td>广东省</td>\n",
       "      <td>越秀</td>\n",
       "      <td>113.26680</td>\n",
       "      <td>23.12901</td>\n",
       "    </tr>\n",
       "  </tbody>\n",
       "</table>\n",
       "</div>"
      ],
      "text/plain": [
       "  area city_name  longitude  latitude\n",
       "0  广东省        广州  113.26436  23.12908\n",
       "1  广东省        越秀  113.26680  23.12901"
      ]
     },
     "execution_count": 10,
     "metadata": {},
     "output_type": "execute_result"
    }
   ],
   "source": [
    "locs.head(2)"
   ]
  },
  {
   "cell_type": "code",
   "execution_count": 150,
   "metadata": {},
   "outputs": [],
   "source": [
    "def get_region(ser):\n",
    "    p = ser['area']\n",
    "    c = ser['city_name']\n",
    "    \n",
    "    if p == '西藏自治区':\n",
    "        p ='西藏藏族自治区'\n",
    "    \n",
    "    if '地区' in c:\n",
    "        c = c[:-2]\n",
    "    elif '自治' not in c and len(c)>1:\n",
    "        c = c[:-1]\n",
    "    temp = locs[(locs.area==p)&(locs.city_name==c)]\n",
    "    if temp.shape[0]>0:\n",
    "        lat = float(temp['latitude'].iloc[0])\n",
    "        if lat>33:\n",
    "            return '北方'\n",
    "        else:\n",
    "            return '南方'\n",
    "    \n",
    "    if p in ['北京市','天津市','河北省','山西省','山东省','黑龙江省','吉林省','辽宁省','内蒙古自治区',\n",
    "            '新疆维吾尔自治区','青海省','陕西省','甘肃省']:\n",
    "        return '北方'\n",
    "    elif p in ['浙江省','上海市','湖北省','湖南省','江西省','福建省','贵州省','重庆市','广西壮族自治区','广东省',\n",
    "                      '海南省','四川省','云南省']:\n",
    "        return '南方'\n",
    "    #云南大部,四川东部\n",
    "    elif c in ['亳州']:\n",
    "        return '北方'\n",
    "    elif c in ['池州','黄山']:\n",
    "        return '南方'\n",
    "    else:\n",
    "        return '其他'"
   ]
  },
  {
   "cell_type": "code",
   "execution_count": 151,
   "metadata": {},
   "outputs": [
    {
     "data": {
      "text/plain": [
       "南方    176\n",
       "北方    152\n",
       "Name: region, dtype: int64"
      ]
     },
     "execution_count": 151,
     "metadata": {},
     "output_type": "execute_result"
    }
   ],
   "source": [
    "df_city = df_loc.groupby(['area','city_name']).count().reset_index()[['area','city_name']]\n",
    "df_city['region'] = df_city.apply(get_region,axis=1)\n",
    "df_city.region.value_counts()"
   ]
  },
  {
   "cell_type": "code",
   "execution_count": 171,
   "metadata": {},
   "outputs": [],
   "source": [
    "mapping = df_loc.merge(df_city,how='left',on=['area','city_name'])[['phone','region']].rename(columns={'phone':'mobile'})\n",
    "mapping['mobile'] = mapping.mobile.astype(str)\n",
    "df_valid['mobile'] = df_valid.mobile.astype(str)\n",
    "df_valid = df_valid.merge(mapping,how='left',on='mobile')"
   ]
  },
  {
   "cell_type": "code",
   "execution_count": 153,
   "metadata": {},
   "outputs": [
    {
     "data": {
      "text/html": [
       "<div>\n",
       "<style scoped>\n",
       "    .dataframe tbody tr th:only-of-type {\n",
       "        vertical-align: middle;\n",
       "    }\n",
       "\n",
       "    .dataframe tbody tr th {\n",
       "        vertical-align: top;\n",
       "    }\n",
       "\n",
       "    .dataframe thead th {\n",
       "        text-align: right;\n",
       "    }\n",
       "</style>\n",
       "<table border=\"1\" class=\"dataframe\">\n",
       "  <thead>\n",
       "    <tr style=\"text-align: right;\">\n",
       "      <th></th>\n",
       "      <th>mobile</th>\n",
       "    </tr>\n",
       "    <tr>\n",
       "      <th>region</th>\n",
       "      <th></th>\n",
       "    </tr>\n",
       "  </thead>\n",
       "  <tbody>\n",
       "    <tr>\n",
       "      <th>北方</th>\n",
       "      <td>830685</td>\n",
       "    </tr>\n",
       "    <tr>\n",
       "      <th>南方</th>\n",
       "      <td>1421469</td>\n",
       "    </tr>\n",
       "  </tbody>\n",
       "</table>\n",
       "</div>"
      ],
      "text/plain": [
       "         mobile\n",
       "region         \n",
       "北方       830685\n",
       "南方      1421469"
      ]
     },
     "execution_count": 153,
     "metadata": {},
     "output_type": "execute_result"
    }
   ],
   "source": [
    "mapping.groupby('region').count()"
   ]
  },
  {
   "cell_type": "markdown",
   "metadata": {},
   "source": [
    "##### 2.1.1 南北方用户触点特征行为（成交前 VS 成交后）"
   ]
  },
  {
   "cell_type": "code",
   "execution_count": 154,
   "metadata": {},
   "outputs": [],
   "source": [
    "yixiang_time = df_valid.loc[df_valid.touchpoint_id=='004000000000_tp'].groupby('mobile').max()['action_time']\\\n",
    ".to_frame().rename(columns={'action_time':'yixiang_time'})"
   ]
  },
  {
   "cell_type": "code",
   "execution_count": 155,
   "metadata": {},
   "outputs": [],
   "source": [
    "chengjiao_time = df_valid.loc[df_valid.touchpoint_id=='011000000000_tp'].groupby('mobile').max()['action_time']\\\n",
    ".to_frame().rename(columns={'action_time':'chengjiao_time'})"
   ]
  },
  {
   "cell_type": "code",
   "execution_count": 174,
   "metadata": {},
   "outputs": [],
   "source": [
    "yixiang_time = yixiang_time.reset_index()\n",
    "yixiang_time['mobile'] = yixiang_time.mobile.astype(str)\n",
    "chengjiao_time = chengjiao_time.reset_index()\n",
    "chengjiao_time['mobile'] = chengjiao_time.mobile.astype(str)"
   ]
  },
  {
   "cell_type": "code",
   "execution_count": 175,
   "metadata": {},
   "outputs": [],
   "source": [
    "df_valid = df_valid.merge(yixiang_time,how='left',on='mobile').merge(chengjiao_time,how='left',on='mobile')"
   ]
  },
  {
   "cell_type": "code",
   "execution_count": 179,
   "metadata": {},
   "outputs": [],
   "source": [
    "temp = df_valid.loc[df_valid.action_time>df_valid.chengjiao_time_y]\n",
    "temp = temp.loc[temp.touchpoint_id == '004000000000_tp']"
   ]
  },
  {
   "cell_type": "code",
   "execution_count": null,
   "metadata": {},
   "outputs": [],
   "source": [
    "tid_info = tid_cat[['touchpoint_id','touchpoint_level','level_1','level_2','level_3','level_4']]\n",
    "df_valid = pd.merge(df_valid, tid_info, how='left', on='touchpoint_id').reset_index().drop('index',axis=1)"
   ]
  },
  {
   "cell_type": "code",
   "execution_count": 158,
   "metadata": {},
   "outputs": [],
   "source": [
    "df_after_yixiang = df_valid.loc[df_valid.action_time>df_valid.yixiang_time]\n",
    "df_after_yixiang = df_after_yixiang.loc[(df_after_yixiang.action_time<df_after_yixiang.chengjiao_time)|(pd.isna(df_after_yixiang.chengjiao_time))]"
   ]
  },
  {
   "cell_type": "code",
   "execution_count": 159,
   "metadata": {},
   "outputs": [
    {
     "name": "stderr",
     "output_type": "stream",
     "text": [
      "/app/anaconda3/envs/python37_smcsandbox/lib/python3.7/site-packages/ipykernel_launcher.py:4: SettingWithCopyWarning: \n",
      "A value is trying to be set on a copy of a slice from a DataFrame.\n",
      "Try using .loc[row_indexer,col_indexer] = value instead\n",
      "\n",
      "See the caveats in the documentation: https://pandas.pydata.org/pandas-docs/stable/user_guide/indexing.html#returning-a-view-versus-a-copy\n",
      "  after removing the cwd from sys.path.\n"
     ]
    },
    {
     "data": {
      "text/html": [
       "<div>\n",
       "<style scoped>\n",
       "    .dataframe tbody tr th:only-of-type {\n",
       "        vertical-align: middle;\n",
       "    }\n",
       "\n",
       "    .dataframe tbody tr th {\n",
       "        vertical-align: top;\n",
       "    }\n",
       "\n",
       "    .dataframe thead th {\n",
       "        text-align: right;\n",
       "    }\n",
       "</style>\n",
       "<table border=\"1\" class=\"dataframe\">\n",
       "  <thead>\n",
       "    <tr style=\"text-align: right;\">\n",
       "      <th></th>\n",
       "      <th>touchpoint_id</th>\n",
       "      <th>touchpoint_level</th>\n",
       "      <th>region</th>\n",
       "    </tr>\n",
       "  </thead>\n",
       "  <tbody>\n",
       "    <tr>\n",
       "      <th>0</th>\n",
       "      <td>003001003008_tp</td>\n",
       "      <td>4</td>\n",
       "      <td>南方</td>\n",
       "    </tr>\n",
       "    <tr>\n",
       "      <th>1</th>\n",
       "      <td>003001003008_tp</td>\n",
       "      <td>4</td>\n",
       "      <td>北方</td>\n",
       "    </tr>\n",
       "    <tr>\n",
       "      <th>2</th>\n",
       "      <td>003001003009_tp</td>\n",
       "      <td>4</td>\n",
       "      <td>南方</td>\n",
       "    </tr>\n",
       "    <tr>\n",
       "      <th>3</th>\n",
       "      <td>003001003009_tp</td>\n",
       "      <td>4</td>\n",
       "      <td>北方</td>\n",
       "    </tr>\n",
       "    <tr>\n",
       "      <th>4</th>\n",
       "      <td>003001003010_tp</td>\n",
       "      <td>4</td>\n",
       "      <td>南方</td>\n",
       "    </tr>\n",
       "  </tbody>\n",
       "</table>\n",
       "</div>"
      ],
      "text/plain": [
       "     touchpoint_id  touchpoint_level region\n",
       "0  003001003008_tp                 4     南方\n",
       "1  003001003008_tp                 4     北方\n",
       "2  003001003009_tp                 4     南方\n",
       "3  003001003009_tp                 4     北方\n",
       "4  003001003010_tp                 4     南方"
      ]
     },
     "execution_count": 159,
     "metadata": {},
     "output_type": "execute_result"
    }
   ],
   "source": [
    "regions = pd.Series(['南方','北方']).to_frame().rename(columns={0:'region'})\n",
    "tids = tid_cat[['touchpoint_id','touchpoint_level']]\n",
    "regions['key']=1\n",
    "tids['key']=1\n",
    "conversion_rates=tids.merge(regions,on='key',how='left').drop('key',axis=1)\n",
    "conversion_rates.head()"
   ]
  },
  {
   "cell_type": "code",
   "execution_count": 166,
   "metadata": {},
   "outputs": [],
   "source": [
    "mapping['mobile'] = mapping.mobile.astype(float)"
   ]
  },
  {
   "cell_type": "code",
   "execution_count": 167,
   "metadata": {},
   "outputs": [],
   "source": [
    "temp = yixiang_time.merge(mapping,how='left',on='mobile').groupby(['mobile','region']).count().reset_index().groupby('region')\\\n",
    ".count()[['mobile']].reset_index().rename(columns={'mobile':'yixiang_uv'})"
   ]
  },
  {
   "cell_type": "code",
   "execution_count": 168,
   "metadata": {},
   "outputs": [],
   "source": [
    "conversion_rates = conversion_rates.merge(temp,how='left',on='region')"
   ]
  },
  {
   "cell_type": "code",
   "execution_count": null,
   "metadata": {},
   "outputs": [],
   "source": [
    "cd_level_1 = df_after_yixiang.groupby(['mobile','level_1','region'])\\\n",
    ".count().reset_index().groupby(['level_1','region']).count().mobile\n",
    "\n",
    "cd_level_2 = df_after_yixiang.groupby(['mobile','level_2','region'])\\\n",
    ".count().reset_index().groupby(['level_2','region']).count().mobile\n",
    "\n",
    "cd_level_3 = df_after_yixiang.groupby(['mobile','level_3','region'])\\\n",
    ".count().reset_index().groupby(['level_3','region']).count().mobile\n",
    "\n",
    "cd_level_4 = df_after_yixiang.groupby(['mobile','level_4','region'])\\\n",
    ".count().reset_index().groupby(['level_4','region']).count().mobile\n",
    "\n",
    "cd_uv = cd_level_1.\\\n",
    "append(cd_level_2).append(cd_level_3)\\\n",
    ".append(cd_level_4)\n",
    "\n",
    "cd_uv = cd_uv.loc[cd_uv.index!='N'].reset_index()\\\n",
    ".rename(columns={'level_1':'touchpoint_id','mobile':'yixianghou_touchpoint_uv'})\n",
    "conversion_rates = conversion_rates.merge(cd_uv,how='left',on=['touchpoint_id','region'])"
   ]
  },
  {
   "cell_type": "code",
   "execution_count": null,
   "metadata": {},
   "outputs": [],
   "source": [
    "df_after_chengjiao = df_valid.loc[df_valid.action_time>df_valid.chengjiao_time]"
   ]
  },
  {
   "cell_type": "code",
   "execution_count": null,
   "metadata": {},
   "outputs": [],
   "source": [
    "temp = chengjiao_time.merge(mapping,how='left',on='mobile').groupby(['mobile','region']).count().reset_index().groupby('region')\\\n",
    ".count()[['mobile']].reset_index().rename(columns={'mobile':'chengjiao_uv'})\n",
    "\n",
    "conversion_rates = conversion_rates.merge(temp,how='left',on='region')"
   ]
  },
  {
   "cell_type": "code",
   "execution_count": null,
   "metadata": {},
   "outputs": [],
   "source": [
    "cd_level_1 = df_after_chengjiao.groupby(['mobile','level_1','region'])\\\n",
    ".count().reset_index().groupby(['level_1','region']).count().mobile\n",
    "\n",
    "cd_level_2 = df_after_chengjiao.groupby(['mobile','level_2','region'])\\\n",
    ".count().reset_index().groupby(['level_2','region']).count().mobile\n",
    "\n",
    "cd_level_3 = df_after_chengjiao.groupby(['mobile','level_3','region'])\\\n",
    ".count().reset_index().groupby(['level_3','region']).count().mobile\n",
    "\n",
    "cd_level_4 = df_after_chengjiao.groupby(['mobile','level_4','region'])\\\n",
    ".count().reset_index().groupby(['level_4','region']).count().mobile\n",
    "\n",
    "cd_uv = cd_level_1.\\\n",
    "append(cd_level_2).append(cd_level_3)\\\n",
    ".append(cd_level_4)\n",
    "\n",
    "cd_uv = cd_uv.loc[cd_uv.index!='N'].reset_index()\\\n",
    ".rename(columns={'level_1':'touchpoint_id','mobile':'chengjiaohou_touchpoint_uv'})\n",
    "conversion_rates = conversion_rates.merge(cd_uv,how='left',on=['touchpoint_id','region'])"
   ]
  },
  {
   "cell_type": "code",
   "execution_count": null,
   "metadata": {},
   "outputs": [],
   "source": [
    "conversion_rates['意向后成交前覆盖率']=conversion_rates.yixianghou_touchpoint_uv/conversion_rates.yixiang_uv"
   ]
  },
  {
   "cell_type": "code",
   "execution_count": null,
   "metadata": {},
   "outputs": [],
   "source": [
    "conversion_rates['成交后覆盖率']=conversion_rates.chengjiaohou_touchpoint_uv/conversion_rates.chengjiao_uv"
   ]
  },
  {
   "cell_type": "code",
   "execution_count": null,
   "metadata": {},
   "outputs": [],
   "source": [
    "conversion_rates = conversion_rates.rename(columns={'region':'南北方','yixiang_uv':'意向后成交前基数',\n",
    "                                                   'chengjiao_uv':'成交后基数',\n",
    "                                                   'yixianghou_touchpoint_uv':'意向后成交前uv',\n",
    "                                                   'chengjiaohou_touchpoint_uv':'成交后uv'})"
   ]
  },
  {
   "cell_type": "code",
   "execution_count": null,
   "metadata": {},
   "outputs": [],
   "source": [
    "conversion_rates.to_csv('南北方覆盖率.csv')"
   ]
  },
  {
   "cell_type": "markdown",
   "metadata": {},
   "source": [
    "#### 2.1.2 南北方用户购车颜色"
   ]
  },
  {
   "cell_type": "code",
   "execution_count": 11,
   "metadata": {},
   "outputs": [],
   "source": [
    "# cdm_dim_vehicle_info关联marketing_modeling.dw_deliver_behavior获取电话号码，车系内外饰颜色的标签\n",
    "vin_info = pd.read_csv('vin_info.csv')"
   ]
  },
  {
   "cell_type": "code",
   "execution_count": 13,
   "metadata": {},
   "outputs": [
    {
     "data": {
      "text/html": [
       "<div>\n",
       "<style scoped>\n",
       "    .dataframe tbody tr th:only-of-type {\n",
       "        vertical-align: middle;\n",
       "    }\n",
       "\n",
       "    .dataframe tbody tr th {\n",
       "        vertical-align: top;\n",
       "    }\n",
       "\n",
       "    .dataframe thead th {\n",
       "        text-align: right;\n",
       "    }\n",
       "</style>\n",
       "<table border=\"1\" class=\"dataframe\">\n",
       "  <thead>\n",
       "    <tr style=\"text-align: right;\">\n",
       "      <th></th>\n",
       "      <th>Unnamed: 0</th>\n",
       "      <th>vin</th>\n",
       "      <th>mobile</th>\n",
       "      <th>neishi</th>\n",
       "      <th>waishi</th>\n",
       "      <th>series_name</th>\n",
       "    </tr>\n",
       "  </thead>\n",
       "  <tbody>\n",
       "    <tr>\n",
       "      <th>0</th>\n",
       "      <td>0</td>\n",
       "      <td>LNPA3GBC08G025556</td>\n",
       "      <td>15828282030</td>\n",
       "      <td>NaN</td>\n",
       "      <td>维多利亚蓝</td>\n",
       "      <td>MG3</td>\n",
       "    </tr>\n",
       "    <tr>\n",
       "      <th>1</th>\n",
       "      <td>1</td>\n",
       "      <td>LNPA3GBC09G032251</td>\n",
       "      <td>13565749519</td>\n",
       "      <td>NaN</td>\n",
       "      <td>威尔士金</td>\n",
       "      <td>MG3</td>\n",
       "    </tr>\n",
       "  </tbody>\n",
       "</table>\n",
       "</div>"
      ],
      "text/plain": [
       "   Unnamed: 0                vin       mobile neishi waishi series_name\n",
       "0           0  LNPA3GBC08G025556  15828282030    NaN  维多利亚蓝         MG3\n",
       "1           1  LNPA3GBC09G032251  13565749519    NaN   威尔士金         MG3"
      ]
     },
     "execution_count": 13,
     "metadata": {},
     "output_type": "execute_result"
    }
   ],
   "source": [
    "vin_info.head(2)"
   ]
  },
  {
   "cell_type": "code",
   "execution_count": 14,
   "metadata": {},
   "outputs": [
    {
     "data": {
      "text/plain": [
       "array([nan, '深', 'dark', '浅', '皮深', '棕黑', 'beige', '伦敦黑', '蓝白', '黑色',\n",
       "       '花色', '骑士黑', '琥珀棕', '米色', '马鞍黑', '巴塞红', '黑内', '黑', '红黑', '红皮深',\n",
       "       '炽烈黄', '红黑竞速', '赛道红', '燃动红', '黑+红缝线', '利物浦红', '勇士棕', '橙黑',\n",
       "       'redblack', 'Dark', '摩纳哥蓝', '弗拉明戈红'], dtype=object)"
      ]
     },
     "execution_count": 14,
     "metadata": {},
     "output_type": "execute_result"
    }
   ],
   "source": [
    "vin_info.neishi.unique()"
   ]
  },
  {
   "cell_type": "code",
   "execution_count": null,
   "metadata": {},
   "outputs": [],
   "source": [
    "black=['深','dark','皮深','伦敦黑','黑色','骑士黑','马鞍黑','黑内','黑','Dark']\n",
    "redblack=['红黑','红皮深','红黑竞速','黑+红缝线','redblack']\n",
    "red=['巴塞红','赛道红','燃动红','利物浦红','弗拉明戈红']\n",
    "brown=['琥珀棕','勇士棕']\n",
    "beige=['beige','米色']\n",
    "def get_color(c):\n",
    "    if c in black:\n",
    "        return '黑色'\n",
    "    elif c in redblack:\n",
    "        return '红黑'\n",
    "    elif c in red:\n",
    "        return '红色'\n",
    "    elif c in brown:\n",
    "        return '棕色'\n",
    "    elif c in beige:\n",
    "        return '米色'\n",
    "    else:\n",
    "        return c"
   ]
  },
  {
   "cell_type": "code",
   "execution_count": null,
   "metadata": {},
   "outputs": [],
   "source": [
    "vin_info = vin_info.merge(mapping,how='left',on='mobile')"
   ]
  },
  {
   "cell_type": "code",
   "execution_count": null,
   "metadata": {},
   "outputs": [],
   "source": [
    "vin_info['region']=vin_info.region.fillna('未知')"
   ]
  },
  {
   "cell_type": "code",
   "execution_count": null,
   "metadata": {},
   "outputs": [],
   "source": [
    "vin_info['interior']=vin_info.neishi.apply(get_color)\n",
    "vin_info['interior'] = vin_info.interior.fillna('未知')"
   ]
  },
  {
   "cell_type": "code",
   "execution_count": 15,
   "metadata": {},
   "outputs": [
    {
     "data": {
      "text/plain": [
       "array(['维多利亚蓝', '威尔士金', '泰晤士绿', '苏格兰红', '骑士黑', '勋章银', '新骑士黑', '皇家蓝', '铂金',\n",
       "       '大不列颠绿', '玫瑰紫', '古堡灰', '新约克白', '月星白', '温莎紫', '伯明翰橙', '英伦红', '雾都灰',\n",
       "       '苏格兰银', '耀石黑', '泰晤士青', '珠光白', '哥本哈根蓝', '氧化铁灰', '约克棕', '宝石红', '电光橙',\n",
       "       '香槟金', '雪山白', '冲浪蓝', '魅影红', '幻彩灰', '曜石黑', '玛雅棕', '伯明翰橙黑顶', '核能黄',\n",
       "       '赛博灰', '赤焰红', '圣峰白', '曼城红', '圣峰白黑顶', '湖心蓝', '碳素灰', '名爵红', '赛道绿',\n",
       "       '极速红', '激光蓝', '圣莫里茨蓝', nan, '都铎黄', '泰晤士蓝', '都铎黄黑顶', '泰晤士蓝新白顶',\n",
       "       '曼城红白顶', '泰晤士蓝白顶', '宝石红新白顶', '泰晤士蓝黑顶', '曼城红黑顶', '冰晶蓝', '约克白',\n",
       "       '光速银', '月星白黑顶', '彩蜥绿', '玫瑰红', '魔法绿', '比利金', '激情红', '泰坦灰', '瑞丽黄',\n",
       "       '激光红', '多弗蓝', '矩阵黑', '铀核金', '温莎白', '都铎黄白顶', '燕尾灰'], dtype=object)"
      ]
     },
     "execution_count": 15,
     "metadata": {},
     "output_type": "execute_result"
    }
   ],
   "source": [
    "vin_info.waishi.unique()"
   ]
  },
  {
   "cell_type": "code",
   "execution_count": null,
   "metadata": {},
   "outputs": [],
   "source": [
    "def get_ext(c):\n",
    "    if pd.isna(c):\n",
    "        return '未知'\n",
    "    elif c[-1]=='顶':\n",
    "        if c[-3]=='新':\n",
    "            return c[-4]+'色'+c[-2:]\n",
    "        return c[-3]+'色'+c[-2:]\n",
    "    else:\n",
    "        return c[-1]+'色'"
   ]
  },
  {
   "cell_type": "code",
   "execution_count": null,
   "metadata": {},
   "outputs": [],
   "source": [
    "vin_info['exterior'] = vin_info.waishi.apply(get_ext)"
   ]
  },
  {
   "cell_type": "code",
   "execution_count": null,
   "metadata": {},
   "outputs": [],
   "source": [
    "vin_info.series_name.unique()"
   ]
  },
  {
   "cell_type": "code",
   "execution_count": null,
   "metadata": {},
   "outputs": [],
   "source": [
    "temp = vin_info.loc[vin_info.series_name=='MG6']"
   ]
  },
  {
   "cell_type": "code",
   "execution_count": null,
   "metadata": {},
   "outputs": [],
   "source": [
    "res = temp.groupby(['region','exterior']).count()['mobile'].reset_index().pivot_table(index='exterior',\n",
    "                                                                                    columns='region',\n",
    "                                                                                    values='mobile',aggfunc=np.sum)\n",
    "res = res.fillna(0)"
   ]
  },
  {
   "cell_type": "code",
   "execution_count": null,
   "metadata": {},
   "outputs": [],
   "source": [
    "res['n']=res['北方']/sum(res['北方'])\n",
    "res['s']=res['南方']/sum(res['南方'])\n",
    "res['u']=res['未知']/sum(res['未知'])"
   ]
  },
  {
   "cell_type": "code",
   "execution_count": null,
   "metadata": {},
   "outputs": [],
   "source": [
    "res = vin_info.groupby(['region','series_name']).count()['mobile'].reset_index().pivot_table(index='series_name',\n",
    "                                                                                    columns='region',\n",
    "                                                                                    values='mobile',aggfunc=np.sum)\n",
    "res = res.fillna(0)"
   ]
  },
  {
   "cell_type": "code",
   "execution_count": null,
   "metadata": {},
   "outputs": [],
   "source": [
    "res['n']=res['北方']/sum(res['北方'])\n",
    "res['s']=res['南方']/sum(res['南方'])\n",
    "res['u']=res['未知']/sum(res['未知'])"
   ]
  },
  {
   "cell_type": "code",
   "execution_count": null,
   "metadata": {},
   "outputs": [],
   "source": [
    "vin_info.groupby(['region','series_name','interior','exterior']).count()[['vin']].reset_index().rename(columns={'vin':'cnt'}).to_csv('yanse.csv')"
   ]
  },
  {
   "cell_type": "markdown",
   "metadata": {},
   "source": [
    "##### 2.2.1 名爵不同车型意向后试驾率 vs 试驾后成交率对比"
   ]
  },
  {
   "cell_type": "code",
   "execution_count": null,
   "metadata": {},
   "outputs": [],
   "source": [
    "'''\n",
    "create table marketing_modeling.tmp_rw_series_matrix as\n",
    "select \n",
    "    series_id,\n",
    "    count(phone) as oppor_vol,\n",
    "    sum(oppor_trial_same) as oppor_trial_same,\n",
    "    count(oppor_trial_same) as oppor_trial_same_cnt,\n",
    "    sum(oppor_trial_diff) as oppor_trial_diff,\n",
    "    count(oppor_trial_diff) as oppor_trial_diff_cnt,\n",
    "    sum(trial_deal_same) as trial_deal_same,\n",
    "    count(trial_deal_same) as trial_deal_same_cnt,\n",
    "    sum(trial_deal_diff) as trial_deal_diff,\n",
    "    count(trial_deal_diff) as trial_deal_diff_cnt\n",
    "from\n",
    "(\n",
    "    select \n",
    "        a.phone,\n",
    "        a.series_id,\n",
    "        max(case when a.series_id = b.series_id and a.behavior_time <= b.behavior_time then 1 else 0 end) as oppor_trial_same,\n",
    "        max(case when a.series_id <> b.series_id and b.series_id is not null and a.behavior_time <= b.behavior_time then 1 else 0 end) as oppor_trial_diff,\n",
    "        max(case when b.series_id = c.series_id and a.behavior_time <= b.behavior_time then 1 else 0 end) as trial_deal_same,\n",
    "        max(case when b.series_id <> c.series_id and c.series_id is not null and a.behavior_time <= b.behavior_time then 1 else 0 end) as trial_deal_diff\n",
    "    from \n",
    "    (\n",
    "        select \n",
    "            phone, series_id, behavior_time\n",
    "        from marketing_modeling.dw_oppor_behavior\n",
    "        where pt between 20210101 and 20210531\n",
    "        and brand_id = 101\n",
    "    ) a\n",
    "    left join\n",
    "    (\n",
    "        select phone, series_id, behavior_time\n",
    "        from marketing_modeling.dw_trial_behavior\n",
    "        where brand_id = 101\n",
    "    ) b\n",
    "    on a.phone = b.phone\n",
    "    left join\n",
    "    (\n",
    "        select phone, series_id, behavior_time\n",
    "        from marketing_modeling.dw_deliver_behavior\n",
    "        where brand_id = 101\n",
    "    ) c\n",
    "    on b.phone = c.phone\n",
    "    group by a.phone, a.series_id\n",
    ") a\n",
    "group by series_id;\n",
    "'''"
   ]
  },
  {
   "cell_type": "markdown",
   "metadata": {},
   "source": [
    "##### 2.2.2 成交车系交叉流转"
   ]
  },
  {
   "cell_type": "code",
   "execution_count": null,
   "metadata": {},
   "outputs": [],
   "source": [
    "'''\n",
    "create table marketing_modeling.tmp_rw_series_transition\n",
    "as\n",
    "select \n",
    "    a.series_id as oppor_series,\n",
    "    b.series_id as deliver_series,\n",
    "    count(*) as vol\n",
    "from \n",
    "(\n",
    "    select \n",
    "        phone, series_id, behavior_time\n",
    "    from marketing_modeling.dw_oppor_behavior\n",
    "    where pt between 20210101 and 20210630\n",
    "    and brand_id = 121\n",
    ") a\n",
    "left join\n",
    "(\n",
    "    select phone, series_id, behavior_time\n",
    "    from marketing_modeling.dw_deliver_behavior\n",
    ") b\n",
    "on a.phone = b.phone\n",
    "where b.behavior_time >= a.behavior_time\n",
    "group by a.series_id, b.series_id\n",
    "'''"
   ]
  },
  {
   "cell_type": "markdown",
   "metadata": {},
   "source": [
    "##### 2.2.3 不同车系用户成交前触点覆盖度"
   ]
  },
  {
   "cell_type": "code",
   "execution_count": null,
   "metadata": {},
   "outputs": [],
   "source": [
    "'''\n",
    "select \n",
    "    c.level_1_tp_id,\n",
    "    count(distinct b.mobile) as tp_cnt\n",
    "from \n",
    "(\n",
    "    select * \n",
    "    from marketing_modeling.dw_deliver_behavior\n",
    "    where behavior_time between '2021-01-01' and '2021-06-30'\n",
    "    and series_id = '923'\n",
    ") a\n",
    "left join marketing_modeling.tmp_tp_convert_base b\n",
    "on a.phone = b.mobile and a.behavior_time >= b.action_time\n",
    "left join marketing_modeling.cdm_touchpoints_id_system c\n",
    "on b.touchpoint_id = c.touchpoint_id\n",
    "'''"
   ]
  }
 ],
 "metadata": {
  "kernelspec": {
   "display_name": "python37_smcsandbox",
   "language": "python",
   "name": "python3"
  },
  "language_info": {
   "codemirror_mode": {
    "name": "ipython",
    "version": 3
   },
   "file_extension": ".py",
   "mimetype": "text/x-python",
   "name": "python",
   "nbconvert_exporter": "python",
   "pygments_lexer": "ipython3",
   "version": "3.7.5"
  }
 },
 "nbformat": 4,
 "nbformat_minor": 2
}
