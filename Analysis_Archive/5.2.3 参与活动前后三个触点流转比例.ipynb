{
 "cells": [
  {
   "cell_type": "code",
   "execution_count": 28,
   "metadata": {},
   "outputs": [],
   "source": [
    "import pandas as pd\n",
    "pd.set_option('display.max_colwidth', None)\n",
    "import numpy as np\n",
    "import findspark\n",
    "findspark.init(\"/opt/cloudera/parcels/CDH-6.3.1-1.cdh6.3.1.p0.1470567/lib/spark\",\"/usr/bin/python2.7\")\n",
    "\n",
    "import os\n",
    "os.environ[\"JAVA_HOME\"] = \"/usr/java/jdk1.8.0_181-cloudera\"\n",
    "\n",
    "from pyspark.sql import functions as F\n",
    "from pyspark import SparkContext\n",
    "from pyspark.sql import SparkSession,HiveContext,Window\n",
    "from pyspark.sql.types import IntegerType, FloatType, DoubleType, ArrayType, StringType, DecimalType\n",
    "from pyspark.sql.functions import *\n",
    "import re\n",
    "import datetime\n",
    "from pychattr.channel_attribution import MarkovModel\n",
    "\n",
    "spark_session = SparkSession.builder.enableHiveSupport().appName(\"artefact_attribution_analysis\") \\\n",
    "    .config(\"spark.driver.memory\",\"10g\") \\\n",
    "    .config(\"spark.pyspark.driver.python\",\"/usr/bin/python2.7\")\\\n",
    "    .config(\"spark.pyspark.python\",\"/usr/bin/python2.7\") \\\n",
    "    .config(\"spark.yarn.executor.memoryOverhead\",\"8G\") \\\n",
    "    .getOrCreate()\n",
    "hc = HiveContext(spark_session.sparkContext)"
   ]
  },
  {
   "cell_type": "code",
   "execution_count": 2,
   "metadata": {},
   "outputs": [],
   "source": [
    "import pandas as pd\n",
    "import numpy as np\n",
    "import datetime\n",
    "from datetime import datetime\n",
    "import itertools"
   ]
  },
  {
   "cell_type": "code",
   "execution_count": 3,
   "metadata": {},
   "outputs": [],
   "source": [
    "names = ['mobile','touchpoint_id','action_time','row_number','time_lag','tp_id_through','row_number_lag','conv_period']\n",
    "df = pd.read_csv('data/tp_analysis_base.csv',sep = '\\t', names = names)\n",
    "df['mobile'] = df['mobile'].astype(str)"
   ]
  },
  {
   "cell_type": "code",
   "execution_count": 5,
   "metadata": {},
   "outputs": [],
   "source": [
    "# fetch id mapping system\n",
    "#id_mapping = hc.sql('select * from marketing_modeling.dw_touchpoints_id_system').toPandas()"
   ]
  },
  {
   "cell_type": "code",
   "execution_count": 6,
   "metadata": {},
   "outputs": [],
   "source": [
    "id_mapping = pd.read_csv('data/id_mapping.csv')\n",
    "\n",
    "tp_name = {k:v for k,v in zip(id_mapping.touchpoint_id,id_mapping.touchpoint_name)}\n",
    "#inbound_map = {k:v for k,v in zip(id_mapping.touchpoint_id,id_mapping.is_inbound)}"
   ]
  },
  {
   "cell_type": "code",
   "execution_count": null,
   "metadata": {},
   "outputs": [],
   "source": [
    "len(df.mobile.unique())"
   ]
  },
  {
   "cell_type": "markdown",
   "metadata": {},
   "source": [
    "##### 5.2.3 参与活动前后三个触点流转比例 - 线下活动"
   ]
  },
  {
   "cell_type": "code",
   "execution_count": null,
   "metadata": {},
   "outputs": [],
   "source": [
    "# get activity_index\n",
    "## offline\n",
    "offline_act_user = df[df.touchpoint_id.str.startswith('008001')].mobile.unique().tolist()\n",
    "offline_act = df[df.mobile.isin(offline_act_user)][['mobile','touchpoint_id','row_number','action_time','segment']]\n",
    "def act_id(tp_id):\n",
    "    if tp_id.startswith('008001'):\n",
    "        return tp_id[:9]+'000_tp'\n",
    "    else:\n",
    "        return tp_id\n",
    "offline_act['act_id'] = offline_act['touchpoint_id'].apply(lambda x:act_id(x))"
   ]
  },
  {
   "cell_type": "code",
   "execution_count": null,
   "metadata": {},
   "outputs": [],
   "source": [
    "offline_act_index = offline_act[offline_act.act_id.str.startswith('008001')][['mobile','act_id','row_number']].groupby(by=['mobile','act_id'],as_index=False).agg({'row_number':'min'})\n",
    "\n",
    "offline_act_index = offline_act_index.merge(offline_act,on=['mobile','row_number','act_id'],how='inner')\n",
    "\n",
    "offline_act_index = offline_act_index.rename(columns={'row_number':'act_index',\n",
    "                                                      'action_time':'act_time'})[['mobile','act_index','act_id','segment','act_time']]\n",
    "\n",
    "offline_act_df = offline_act_index.merge(offline_act[['mobile','touchpoint_id','row_number','action_time']],on='mobile',how = 'inner')"
   ]
  },
  {
   "cell_type": "code",
   "execution_count": null,
   "metadata": {},
   "outputs": [],
   "source": [
    "lag_ = [-3,-2,-1,1,2,3]\n",
    "offline_final_result = pd.DataFrame()\n",
    "for lag in lag_:\n",
    "    lag_df = offline_act_df[(offline_act_df.act_index < offline_act_df.row_number+lag) \\\n",
    "                            & (offline_act_df.action_time > offline_act_df.act_time)\\\n",
    "                            & (offline_act_df.touchpoint_id.isin(['001001001000_tp', '001001002000_tp']) == False)]\n",
    "    \n",
    "    tmp_lag_df = lag_df.groupby(by=['mobile','act_id'],as_index=False).agg({'row_number':'min'})\n",
    "    if lag > 0:\n",
    "        tmp_lag_df['row_number'] = tmp_lag_df['row_number'].apply(lambda x:x+lag-1)\n",
    "    else:\n",
    "        pass\n",
    "    final_df = offline_act_index[['mobile','act_id','segment']].merge(tmp_lag_df,on=['mobile','act_id'],how='left')\\\n",
    "    .merge(lag_df,on=['mobile','act_id','row_number'],how='left')\n",
    "\n",
    "    final_df['diff'] = (pd.to_datetime(final_df.action_time) - pd.to_datetime(final_df.act_time)).apply(lambda x:x.total_seconds()/3600)\n",
    "    #.groupby(by=['act_id','segment_x']).touchpoint_id.value_counts()\n",
    "\n",
    "    final_df['touchpoint_id'] = final_df['touchpoint_id'].fillna('Exit')\n",
    "    final_df['is_inbound'] = final_df['touchpoint_id'].apply(lambda x:is_inbound(x))\n",
    "\n",
    "    result = final_df.groupby(by=['act_id','touchpoint_id'],as_index=False).agg({'mobile':'count','diff':'median'})\n",
    "    #result = final_df.groupby(by=['act_id','is_inbound'],as_index=False).agg({'mobile':'count','diff':'median'})\n",
    "\n",
    "   # result = result.merge(id_mapping[['level_1_name','level_2_name','level_3_name','level_4_name',\n",
    "   #                                   'touchpoint_id','touchpoint_level']],on='touchpoint_id',how='left')\n",
    "    if lag > 0:\n",
    "        prefix = 'Next_'\n",
    "    else:\n",
    "        prefix = 'Previous_'\n",
    "    result['type'] = prefix+str(np.abs(lag))\n",
    "    offline_final_result = offline_final_result.append(result)\n",
    "\n",
    "#offline_final_result.to_csv('offline_act_tp_transition.csv',index=False)"
   ]
  },
  {
   "cell_type": "markdown",
   "metadata": {},
   "source": [
    "##### 5.2.3 参与活动前后三个触点流转比例 - 线上活动"
   ]
  },
  {
   "cell_type": "code",
   "execution_count": null,
   "metadata": {},
   "outputs": [],
   "source": [
    "# online\n",
    "adhoc_app_act = hc.sql('select * from marketing_modeling.dw_ts_adhoc_app_activity_i').toPandas()\n",
    "adhoc_app_act.mobile = adhoc_app_act.mobile.astype(str)"
   ]
  },
  {
   "cell_type": "code",
   "execution_count": 175,
   "metadata": {},
   "outputs": [],
   "source": [
    "online_act_tp = ['008002006005_tp','008002006005_tp','008002006004_tp','008002006002_tp','008002006003_tp',\n",
    "                 '008002002000_tp','008002002001_tp','008002002002_tp','008002002003_tp','008002002004_tp',\n",
    "                 '008002002005_tp','008002002006_tp','008002002007_tp','008002002008_tp','008002006001_tp',\n",
    "                 '008002003000_tp','008002003001_tp','008002003002_tp','008002003003_tp','008002006005_tp',\n",
    "                 '008002006005_tp']\n",
    "\n",
    "online_act_user = df[df.touchpoint_id.isin(online_act_tp)].mobile.unique().tolist()\n",
    "online_act = df[df.mobile.isin(online_act_user)][['mobile','touchpoint_id','row_number','action_time']]\n",
    "\n",
    "online_act = online_act.merge(adhoc_app_act[['mobile','touchpoint_id','activity_name','activity_type']],on=['mobile','touchpoint_id'],how='left')"
   ]
  },
  {
   "cell_type": "code",
   "execution_count": 176,
   "metadata": {},
   "outputs": [
    {
     "name": "stderr",
     "output_type": "stream",
     "text": [
      "/app/anaconda3/envs/python37_smcsandbox/lib/python3.7/site-packages/ipykernel_launcher.py:2: SettingWithCopyWarning: \n",
      "A value is trying to be set on a copy of a slice from a DataFrame\n",
      "\n",
      "See the caveats in the documentation: https://pandas.pydata.org/pandas-docs/stable/user_guide/indexing.html#returning-a-view-versus-a-copy\n",
      "  \n"
     ]
    }
   ],
   "source": [
    "online_act['act_type'] = np.nan\n",
    "online_act['act_type'][online_act.touchpoint_id.str.startswith('008002002')] = 'APP直播'\n",
    "online_act['act_type'][online_act.touchpoint_id.isin(['008002006004_tp','008002006002_tp','008002006003_tp'])] = '社区活动'\n",
    "online_act['act_type'][online_act.touchpoint_id.isin(['008002006001_tp'])] = '推荐或裂变' #'008002003000_tp','008002003001_tp','008002003002_tp','008002003003_tp'\n",
    "online_act['act_type'][(online_act.touchpoint_id == '008002006005_tp') & (online_act.activity_name == '推荐有礼')] = '推荐或裂变'\n",
    "online_act['act_type'][(online_act.touchpoint_id == '008002006005_tp') & (online_act.activity_type == 'Cyberster')] = '众创'\n",
    "online_act['act_type'][(online_act.touchpoint_id == '008002006005_tp') & (online_act.activity_type == '集点积分')] = '集点积分'\n",
    "online_act['act_type'][(online_act.touchpoint_id == '008002006005_tp')] = online_act['act_type'][(online_act.touchpoint_id == '008002006005_tp')].fillna('其他活动')"
   ]
  },
  {
   "cell_type": "code",
   "execution_count": null,
   "metadata": {},
   "outputs": [],
   "source": [
    "online_act_index = online_act[online_act.act_type.isna()==False][['mobile','row_number','act_type']].groupby(by=['mobile','act_type'],as_index=False).agg({'row_number':'min'})\n",
    "\n",
    "online_act_index = online_act_index.merge(online_act,on=['mobile','row_number','act_type'],how='inner')\n",
    "\n",
    "online_act_index = online_act_index.rename(columns={'row_number':'act_index',\n",
    "                                                      'action_time':'act_time'})[['mobile','act_index','act_type','segment','act_time']]\n",
    "\n",
    "online_act_df = online_act_index.merge(online_act[['mobile','touchpoint_id','row_number','action_time']],on='mobile',how = 'inner')"
   ]
  },
  {
   "cell_type": "code",
   "execution_count": null,
   "metadata": {},
   "outputs": [],
   "source": [
    "def is_inbound(x):\n",
    "    if x.startswith('014'):\n",
    "        return '战败操作'\n",
    "    elif x == 'Exit':\n",
    "        return 'Exit'\n",
    "    elif x.startswith('001'):\n",
    "        return '1'\n",
    "    else:\n",
    "        return inbound_map[x]"
   ]
  },
  {
   "cell_type": "code",
   "execution_count": null,
   "metadata": {},
   "outputs": [],
   "source": [
    "lag_ = [-3,-2,-1,1,2,3]\n",
    "final_result = pd.DataFrame()\n",
    "for lag in lag_:\n",
    "    lag_df = online_act_df[(online_act_df.act_index < online_act_df.row_number+lag) \\\n",
    "                            & (online_act_df.action_time > online_act_df.act_time)\\\n",
    "                            & (online_act_df.touchpoint_id.isin(['001001001000_tp', '001001002000_tp']) == False)]\n",
    " \n",
    "    tmp_lag_df = lag_df.groupby(by=['mobile','act_type'],as_index=False).agg({'row_number':'min'})    \n",
    "    if lag > 0:\n",
    "        tmp_lag_df['row_number'] = tmp_lag_df['row_number'].apply(lambda x:x+lag-1)\n",
    "    else:\n",
    "        pass\n",
    "    final_df = online_act_index[['mobile','act_type','segment']].merge(tmp_lag_df,on=['mobile','act_type'],how='left')\\\n",
    "    .merge(lag_df,on=['mobile','act_type','row_number'],how='left')\n",
    "    \n",
    "    final_df['diff'] = (pd.to_datetime(final_df.action_time) - pd.to_datetime(final_df.act_time)).apply(lambda x:x.total_seconds()/3600)\n",
    "\n",
    "    final_df['touchpoint_id'] = final_df['touchpoint_id'].fillna('Exit')\n",
    "    final_df['is_inbound'] = final_df['touchpoint_id'].apply(lambda x:is_inbound(x))\n",
    "\n",
    "    result = final_df.groupby(by=['act_type','touchpoint_id'],as_index=False).agg({'mobile':'count','diff':'median'})\n",
    "    #result = final_df.groupby(by=['act_type','is_inbound'],as_index=False).agg({'mobile':'count','diff':'median'})\n",
    "    \n",
    "    #result = result.merge(id_mapping[['level_1_name','level_2_name','level_3_name','level_4_name',\n",
    "    #                                  'touchpoint_id','touchpoint_level']],on='touchpoint_id',how='left')\n",
    "    if lag > 0:\n",
    "        prefix = 'Next_'\n",
    "    else:\n",
    "        prefix = 'Previous_'\n",
    "    result['type'] = prefix+str(np.abs(lag))\n",
    "    final_result =final_result.append(result)\n",
    "\n",
    "#final_result.to_csv('result/online_act_tp_transition.csv',index=False)"
   ]
  },
  {
   "cell_type": "code",
   "execution_count": null,
   "metadata": {},
   "outputs": [],
   "source": [
    "offline_final_result['act_id'] = offline_final_result['act_id'].apply(lambda x:tp_name[x])"
   ]
  },
  {
   "cell_type": "code",
   "execution_count": null,
   "metadata": {},
   "outputs": [],
   "source": [
    "result_vf = pd.DataFrame()\n",
    "for act in offline_final_result['act_id'].unique():\n",
    "    for stage in ['Previous_1','Previous_2','Previous_3','Next_1','Next_2','Next_3']:\n",
    "        print('Processing:{0}---{1}'.format(act,stage))\n",
    "        tmp_data = offline_final_result[(offline_final_result.act_id == act) & (offline_final_result.type == stage)]\n",
    "        tmp_result = tmp_data.groupby(by='touchpoint_id',as_index=False).agg({'mobile':'sum'})\n",
    "        tmp_result['percentage'] = tmp_result['mobile'].apply(lambda x: x/tmp_data.mobile.sum())\n",
    "        tmp_result['type'] = act+'&'+stage\n",
    "        tmp_result = tmp_result.sort_values(by='percentage',ascending=False)\n",
    "        tmp_result = tmp_result[:3]\n",
    "        tmp_result['rank_'] = [1,2,3]\n",
    "        result_vf = result_vf.append(tmp_result)"
   ]
  },
  {
   "cell_type": "code",
   "execution_count": null,
   "metadata": {},
   "outputs": [],
   "source": [
    "result_vf = pd.DataFrame()\n",
    "for act in final_result['act_type'].unique():\n",
    "    for stage in ['Previous_1','Previous_2','Previous_3','Next_1','Next_2','Next_3']:\n",
    "        print('Processing:{0}---{1}'.format(act,stage))\n",
    "        tmp_data = final_result[(final_result.act_type == act)&(final_result.type == stage)]\n",
    "        tmp_result = tmp_data.groupby(by = 'touchpoint_id',as_index=False).agg({'mobile':'sum'})\n",
    "        tmp_result['percentage'] = tmp_result['mobile'].apply(lambda x: x/tmp_data.mobile.sum())\n",
    "        tmp_result['type'] = act+'&'+stage\n",
    "        tmp_result = tmp_result.sort_values(by='percentage',ascending=False)\n",
    "        tmp_result = tmp_result[:3]\n",
    "        tmp_result['rank_'] = [1,2,3]\n",
    "        result_vf = result_vf.append(tmp_result)"
   ]
  },
  {
   "cell_type": "code",
   "execution_count": null,
   "metadata": {},
   "outputs": [],
   "source": [
    "result_vf.merge(id_mapping[['level_1_name','level_2_name','level_3_name','level_4_name',\n",
    "                                      'touchpoint_id','touchpoint_level']],on='touchpoint_id',how='left').to_csv('result/off_act_final.csv',index=False)"
   ]
  }
 ],
 "metadata": {
  "kernelspec": {
   "display_name": "python37_smcsandbox",
   "language": "python",
   "name": "python3"
  },
  "language_info": {
   "codemirror_mode": {
    "name": "ipython",
    "version": 3
   },
   "file_extension": ".py",
   "mimetype": "text/x-python",
   "name": "python",
   "nbconvert_exporter": "python",
   "pygments_lexer": "ipython3",
   "version": "3.7.5"
  }
 },
 "nbformat": 4,
 "nbformat_minor": 2
}
