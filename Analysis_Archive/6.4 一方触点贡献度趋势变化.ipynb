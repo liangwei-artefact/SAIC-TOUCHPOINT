{
 "cells": [
  {
   "cell_type": "code",
   "execution_count": 2,
   "metadata": {},
   "outputs": [],
   "source": [
    "import re\n",
    "import datetime\n",
    "from pychattr.channel_attribution import MarkovModel\n",
    "import pandas as pd\n",
    "import numpy as np\n",
    "from sklearn.metrics import classification_report"
   ]
  },
  {
   "cell_type": "code",
   "execution_count": 3,
   "metadata": {},
   "outputs": [],
   "source": [
    "df = pd.read_csv('/home/mam_jupyter/jupyter_dir/artefact/attribution/tp_analysis/data/tp_analysis_base.csv',sep = '\\t',header = None)\n",
    "id_mapping = pd.read_csv('/home/mam_jupyter/jupyter_dir/artefact/attribution/tp_analysis/data/id_mapping.csv')"
   ]
  },
  {
   "cell_type": "markdown",
   "metadata": {},
   "source": [
    "df = df.rename(columns = {0:'mobile',1:'touchpoint_id',2:'action_time'})\n",
    "df = df[['mobile','action_time','touchpoint_id']]\n",
    "df.head()"
   ]
  },
  {
   "cell_type": "code",
   "execution_count": 5,
   "metadata": {},
   "outputs": [],
   "source": [
    "def preprocess(df):\n",
    "    df.dropna(inplace = True)\n",
    "    df['mobile'] = df['mobile'].astype('string')\n",
    "    ##filter the uncleaned mobile\n",
    "    df = df[df.mobile.str.contains('^1\\d{10}$')]\n",
    "    ##phone number of dealer to remove\n",
    "    mobile_to_remove = pd.read_csv('mobile_to_remove.csv').drop(columns =[ 'Unnamed: 0'])\n",
    "    mobile_to_remove_list = mobile_to_remove.mobile.unique()\n",
    "    df = df[~df.mobile.isin(mobile_to_remove_list)]\n",
    "    ##删除无效节点：005000000000_tp，004000000000_tp\n",
    "    df = df[~df.touchpoint_id.isin(['005000000000_tp','004000000000_tp'])]\n",
    "    return df"
   ]
  },
  {
   "cell_type": "code",
   "execution_count": 6,
   "metadata": {},
   "outputs": [],
   "source": [
    "df = preprocess(df)"
   ]
  },
  {
   "cell_type": "code",
   "execution_count": 7,
   "metadata": {},
   "outputs": [
    {
     "name": "stdout",
     "output_type": "stream",
     "text": [
      "<class 'pandas.core.frame.DataFrame'>\n",
      "Int64Index: 49830374 entries, 0 to 55565402\n",
      "Data columns (total 3 columns):\n",
      " #   Column         Dtype \n",
      "---  ------         ----- \n",
      " 0   mobile         string\n",
      " 1   action_time    object\n",
      " 2   touchpoint_id  object\n",
      "dtypes: object(2), string(1)\n",
      "memory usage: 1.5+ GB\n"
     ]
    }
   ],
   "source": [
    "df.info()"
   ]
  },
  {
   "cell_type": "code",
   "execution_count": 14,
   "metadata": {},
   "outputs": [],
   "source": [
    "##focus on people has app behaviors\n",
    "mobile_to_pick = list(df[df.touchpoint_id.str.startswith('00800200')].mobile.unique())"
   ]
  },
  {
   "cell_type": "code",
   "execution_count": 17,
   "metadata": {},
   "outputs": [
    {
     "name": "stdout",
     "output_type": "stream",
     "text": [
      "<class 'pandas.core.frame.DataFrame'>\n",
      "Int64Index: 13921364 entries, 27 to 55565377\n",
      "Data columns (total 3 columns):\n",
      " #   Column         Dtype \n",
      "---  ------         ----- \n",
      " 0   mobile         string\n",
      " 1   action_time    object\n",
      " 2   touchpoint_id  object\n",
      "dtypes: object(2), string(1)\n",
      "memory usage: 424.8+ MB\n"
     ]
    }
   ],
   "source": [
    "df = df[df.mobile.isin(mobile_to_pick)]\n",
    "df.info()"
   ]
  },
  {
   "cell_type": "code",
   "execution_count": 18,
   "metadata": {},
   "outputs": [],
   "source": [
    "# link consumer journey\n",
    "df = df.sort_values(['mobile', 'action_time'],ascending=[False, True])\n",
    "df_paths = df.groupby('mobile')['touchpoint_id'].aggregate(lambda x: x.tolist()).reset_index()"
   ]
  },
  {
   "cell_type": "code",
   "execution_count": 19,
   "metadata": {},
   "outputs": [
    {
     "data": {
      "text/html": [
       "<div>\n",
       "<style scoped>\n",
       "    .dataframe tbody tr th:only-of-type {\n",
       "        vertical-align: middle;\n",
       "    }\n",
       "\n",
       "    .dataframe tbody tr th {\n",
       "        vertical-align: top;\n",
       "    }\n",
       "\n",
       "    .dataframe thead th {\n",
       "        text-align: right;\n",
       "    }\n",
       "</style>\n",
       "<table border=\"1\" class=\"dataframe\">\n",
       "  <thead>\n",
       "    <tr style=\"text-align: right;\">\n",
       "      <th></th>\n",
       "      <th>mobile</th>\n",
       "      <th>touchpoint_id</th>\n",
       "    </tr>\n",
       "  </thead>\n",
       "  <tbody>\n",
       "    <tr>\n",
       "      <th>0</th>\n",
       "      <td>13000000003</td>\n",
       "      <td>[009002002000_tp, 008002007000_tp, 00201100500...</td>\n",
       "    </tr>\n",
       "    <tr>\n",
       "      <th>1</th>\n",
       "      <td>13000000005</td>\n",
       "      <td>[009002004000_tp, 008002007000_tp, 00201100500...</td>\n",
       "    </tr>\n",
       "    <tr>\n",
       "      <th>2</th>\n",
       "      <td>13000986326</td>\n",
       "      <td>[001008003001_tp, 009002002000_tp, 00900200700...</td>\n",
       "    </tr>\n",
       "    <tr>\n",
       "      <th>3</th>\n",
       "      <td>13001103210</td>\n",
       "      <td>[006000000000_tp, 001001002000_tp, 00100100100...</td>\n",
       "    </tr>\n",
       "    <tr>\n",
       "      <th>4</th>\n",
       "      <td>13001222821</td>\n",
       "      <td>[008002006003_tp, 002011005003_tp]</td>\n",
       "    </tr>\n",
       "  </tbody>\n",
       "</table>\n",
       "</div>"
      ],
      "text/plain": [
       "        mobile                                      touchpoint_id\n",
       "0  13000000003  [009002002000_tp, 008002007000_tp, 00201100500...\n",
       "1  13000000005  [009002004000_tp, 008002007000_tp, 00201100500...\n",
       "2  13000986326  [001008003001_tp, 009002002000_tp, 00900200700...\n",
       "3  13001103210  [006000000000_tp, 001001002000_tp, 00100100100...\n",
       "4  13001222821                 [008002006003_tp, 002011005003_tp]"
      ]
     },
     "execution_count": 19,
     "metadata": {},
     "output_type": "execute_result"
    }
   ],
   "source": [
    "df_paths.head()"
   ]
  },
  {
   "cell_type": "code",
   "execution_count": 20,
   "metadata": {},
   "outputs": [],
   "source": [
    "def if_has_endpoint(touchpoint_id,list1):\n",
    "    if touchpoint_id in list1:\n",
    "        return 1\n",
    "    else:\n",
    "        return 0\n",
    "\n",
    "def exclude_endpoint(touchpoint_id,list1):\n",
    "    list1 = list1[:list1.index(touchpoint_id)]\n",
    "    return list1"
   ]
  },
  {
   "cell_type": "code",
   "execution_count": 21,
   "metadata": {},
   "outputs": [],
   "source": [
    "df_paths['if_order'] = df_paths['touchpoint_id'].apply(lambda x:if_has_endpoint('011000000000_tp',x))"
   ]
  },
  {
   "cell_type": "code",
   "execution_count": 22,
   "metadata": {},
   "outputs": [
    {
     "data": {
      "text/plain": [
       "0    159504\n",
       "1     19616\n",
       "Name: if_order, dtype: int64"
      ]
     },
     "execution_count": 22,
     "metadata": {},
     "output_type": "execute_result"
    }
   ],
   "source": [
    "df_paths.if_order.value_counts()"
   ]
  },
  {
   "cell_type": "code",
   "execution_count": 23,
   "metadata": {},
   "outputs": [],
   "source": [
    "df_paths.loc[df_paths.if_order == 1,'touchpoint_id'] = df_paths.loc[df_paths.if_order == 1,'touchpoint_id'].apply(lambda x:exclude_endpoint('011000000000_tp',x))\n",
    "df_paths = df_paths[df_paths['touchpoint_id'].str.len() > 0]"
   ]
  },
  {
   "cell_type": "code",
   "execution_count": 24,
   "metadata": {},
   "outputs": [
    {
     "data": {
      "text/plain": [
       "0    159504\n",
       "1     17951\n",
       "Name: if_order, dtype: int64"
      ]
     },
     "execution_count": 24,
     "metadata": {},
     "output_type": "execute_result"
    }
   ],
   "source": [
    "df_paths.if_order.value_counts()"
   ]
  },
  {
   "cell_type": "code",
   "execution_count": 25,
   "metadata": {},
   "outputs": [
    {
     "data": {
      "text/html": [
       "<div>\n",
       "<style scoped>\n",
       "    .dataframe tbody tr th:only-of-type {\n",
       "        vertical-align: middle;\n",
       "    }\n",
       "\n",
       "    .dataframe tbody tr th {\n",
       "        vertical-align: top;\n",
       "    }\n",
       "\n",
       "    .dataframe thead th {\n",
       "        text-align: right;\n",
       "    }\n",
       "</style>\n",
       "<table border=\"1\" class=\"dataframe\">\n",
       "  <thead>\n",
       "    <tr style=\"text-align: right;\">\n",
       "      <th></th>\n",
       "      <th>mobile</th>\n",
       "      <th>touchpoint_id</th>\n",
       "      <th>if_order</th>\n",
       "    </tr>\n",
       "  </thead>\n",
       "  <tbody>\n",
       "    <tr>\n",
       "      <th>0</th>\n",
       "      <td>13000000003</td>\n",
       "      <td>[009002002000_tp, 008002007000_tp, 00201100500...</td>\n",
       "      <td>0</td>\n",
       "    </tr>\n",
       "    <tr>\n",
       "      <th>1</th>\n",
       "      <td>13000000005</td>\n",
       "      <td>[009002004000_tp, 008002007000_tp, 00201100500...</td>\n",
       "      <td>0</td>\n",
       "    </tr>\n",
       "    <tr>\n",
       "      <th>2</th>\n",
       "      <td>13000986326</td>\n",
       "      <td>[001008003001_tp, 009002002000_tp, 00900200700...</td>\n",
       "      <td>0</td>\n",
       "    </tr>\n",
       "    <tr>\n",
       "      <th>3</th>\n",
       "      <td>13001103210</td>\n",
       "      <td>[006000000000_tp, 001001002000_tp, 00100100100...</td>\n",
       "      <td>1</td>\n",
       "    </tr>\n",
       "    <tr>\n",
       "      <th>4</th>\n",
       "      <td>13001222821</td>\n",
       "      <td>[008002006003_tp, 002011005003_tp]</td>\n",
       "      <td>0</td>\n",
       "    </tr>\n",
       "  </tbody>\n",
       "</table>\n",
       "</div>"
      ],
      "text/plain": [
       "        mobile                                      touchpoint_id  if_order\n",
       "0  13000000003  [009002002000_tp, 008002007000_tp, 00201100500...         0\n",
       "1  13000000005  [009002004000_tp, 008002007000_tp, 00201100500...         0\n",
       "2  13000986326  [001008003001_tp, 009002002000_tp, 00900200700...         0\n",
       "3  13001103210  [006000000000_tp, 001001002000_tp, 00100100100...         1\n",
       "4  13001222821                 [008002006003_tp, 002011005003_tp]         0"
      ]
     },
     "execution_count": 25,
     "metadata": {},
     "output_type": "execute_result"
    }
   ],
   "source": [
    "df_paths.head()"
   ]
  },
  {
   "cell_type": "code",
   "execution_count": 26,
   "metadata": {},
   "outputs": [],
   "source": [
    "df_paths['path'] = df_paths['touchpoint_id'].apply(lambda x: \",\".join(x))"
   ]
  },
  {
   "cell_type": "code",
   "execution_count": 27,
   "metadata": {},
   "outputs": [],
   "source": [
    "df_paths = df_paths[['mobile','path','if_order']]"
   ]
  },
  {
   "cell_type": "code",
   "execution_count": 28,
   "metadata": {},
   "outputs": [
    {
     "data": {
      "text/html": [
       "<div>\n",
       "<style scoped>\n",
       "    .dataframe tbody tr th:only-of-type {\n",
       "        vertical-align: middle;\n",
       "    }\n",
       "\n",
       "    .dataframe tbody tr th {\n",
       "        vertical-align: top;\n",
       "    }\n",
       "\n",
       "    .dataframe thead th {\n",
       "        text-align: right;\n",
       "    }\n",
       "</style>\n",
       "<table border=\"1\" class=\"dataframe\">\n",
       "  <thead>\n",
       "    <tr style=\"text-align: right;\">\n",
       "      <th></th>\n",
       "      <th>mobile</th>\n",
       "      <th>path</th>\n",
       "      <th>if_order</th>\n",
       "    </tr>\n",
       "  </thead>\n",
       "  <tbody>\n",
       "    <tr>\n",
       "      <th>0</th>\n",
       "      <td>13000000003</td>\n",
       "      <td>009002002000_tp,008002007000_tp,002011005003_t...</td>\n",
       "      <td>0</td>\n",
       "    </tr>\n",
       "    <tr>\n",
       "      <th>1</th>\n",
       "      <td>13000000005</td>\n",
       "      <td>009002004000_tp,008002007000_tp,002011005003_t...</td>\n",
       "      <td>0</td>\n",
       "    </tr>\n",
       "    <tr>\n",
       "      <th>2</th>\n",
       "      <td>13000986326</td>\n",
       "      <td>001008003001_tp,009002002000_tp,009002007000_t...</td>\n",
       "      <td>0</td>\n",
       "    </tr>\n",
       "    <tr>\n",
       "      <th>3</th>\n",
       "      <td>13001103210</td>\n",
       "      <td>006000000000_tp,001001002000_tp,001001001000_t...</td>\n",
       "      <td>1</td>\n",
       "    </tr>\n",
       "    <tr>\n",
       "      <th>4</th>\n",
       "      <td>13001222821</td>\n",
       "      <td>008002006003_tp,002011005003_tp</td>\n",
       "      <td>0</td>\n",
       "    </tr>\n",
       "  </tbody>\n",
       "</table>\n",
       "</div>"
      ],
      "text/plain": [
       "        mobile                                               path  if_order\n",
       "0  13000000003  009002002000_tp,008002007000_tp,002011005003_t...         0\n",
       "1  13000000005  009002004000_tp,008002007000_tp,002011005003_t...         0\n",
       "2  13000986326  001008003001_tp,009002002000_tp,009002007000_t...         0\n",
       "3  13001103210  006000000000_tp,001001002000_tp,001001001000_t...         1\n",
       "4  13001222821                    008002006003_tp,002011005003_tp         0"
      ]
     },
     "execution_count": 28,
     "metadata": {},
     "output_type": "execute_result"
    }
   ],
   "source": [
    "df_paths.head()"
   ]
  },
  {
   "cell_type": "markdown",
   "metadata": {},
   "source": [
    "## 根据app行为时间切割人群"
   ]
  },
  {
   "cell_type": "code",
   "execution_count": 52,
   "metadata": {},
   "outputs": [],
   "source": [
    "mobile_list_202006 = list(df[(df.touchpoint_id.str.startswith('00800200'))&(df.action_time >= '2020-06-01')&(df.action_time < '2020-07-01')].mobile.unique())"
   ]
  },
  {
   "cell_type": "code",
   "execution_count": 53,
   "metadata": {},
   "outputs": [
    {
     "data": {
      "text/plain": [
       "2381"
      ]
     },
     "execution_count": 53,
     "metadata": {},
     "output_type": "execute_result"
    }
   ],
   "source": [
    "len(mobile_list_202006)"
   ]
  },
  {
   "cell_type": "code",
   "execution_count": 54,
   "metadata": {},
   "outputs": [],
   "source": [
    "target_paths = df_paths[df_paths.mobile.isin(mobile_list_202006)]"
   ]
  },
  {
   "cell_type": "code",
   "execution_count": 55,
   "metadata": {},
   "outputs": [],
   "source": [
    "def get_attribution_score(df_paths):\n",
    "    data = {\n",
    "    \"path\": df_paths.path.values.tolist(),\n",
    "    \"conversions\": df_paths.if_order.values.tolist()\n",
    "}\n",
    "\n",
    "    data = pd.DataFrame(data)\n",
    "\n",
    "    df = pd.DataFrame(data)\n",
    "\n",
    "    path_feature=\"path\"\n",
    "    conversion_feature=\"conversions\"\n",
    "    null_feature=None\n",
    "\n",
    "    separator=\",\"\n",
    "    k_order=1\n",
    "    n_simulations=10000\n",
    "    max_steps=None\n",
    "    return_transition_probs=True\n",
    "    random_state=26\n",
    "\n",
    "    # instantiate the model\n",
    "    mm = MarkovModel(path_feature=path_feature,\n",
    "                     conversion_feature=conversion_feature,\n",
    "                     null_feature=null_feature,\n",
    "                     separator=separator,\n",
    "                     k_order=k_order,\n",
    "                     n_simulations=n_simulations,\n",
    "                     max_steps=max_steps,\n",
    "                     return_transition_probs=return_transition_probs,\n",
    "                     random_state=random_state)\n",
    "\n",
    "    # fit the model\n",
    "    mm.fit(df)\n",
    "    \n",
    "    remove_effects = mm.removal_effects_.merge(id_mapping[['touchpoint_id','touchpoint_name']],left_on = 'channel_name',right_on = 'touchpoint_id').sort_values(by = 'removal_effect',ascending = False)[['touchpoint_id','touchpoint_name','removal_effect']]\n",
    "    ## get share in results\n",
    "    remove_effects['share_in_result'] = remove_effects['removal_effect'] / remove_effects.removal_effect.sum()\n",
    "    return remove_effects\n"
   ]
  },
  {
   "cell_type": "code",
   "execution_count": 56,
   "metadata": {},
   "outputs": [
    {
     "name": "stderr",
     "output_type": "stream",
     "text": [
      "/app/anaconda3/envs/python37_smcsandbox/lib/python3.7/site-packages/pychattr/channel_attribution/_markov.py:91: RuntimeWarning: divide by zero encountered in double_scalars\n",
      "  num_transitions[k] /= vsm[w]\n"
     ]
    }
   ],
   "source": [
    "remove_effects_202006 = get_attribution_score(target_paths)"
   ]
  },
  {
   "cell_type": "code",
   "execution_count": 57,
   "metadata": {},
   "outputs": [
    {
     "data": {
      "text/html": [
       "<div>\n",
       "<style scoped>\n",
       "    .dataframe tbody tr th:only-of-type {\n",
       "        vertical-align: middle;\n",
       "    }\n",
       "\n",
       "    .dataframe tbody tr th {\n",
       "        vertical-align: top;\n",
       "    }\n",
       "\n",
       "    .dataframe thead th {\n",
       "        text-align: right;\n",
       "    }\n",
       "</style>\n",
       "<table border=\"1\" class=\"dataframe\">\n",
       "  <thead>\n",
       "    <tr style=\"text-align: right;\">\n",
       "      <th></th>\n",
       "      <th>touchpoint_id</th>\n",
       "      <th>touchpoint_name</th>\n",
       "      <th>removal_effect</th>\n",
       "      <th>share_in_result</th>\n",
       "    </tr>\n",
       "  </thead>\n",
       "  <tbody>\n",
       "    <tr>\n",
       "      <th>1</th>\n",
       "      <td>009002001000_tp</td>\n",
       "      <td>销售代表跟进邀约</td>\n",
       "      <td>0.8296</td>\n",
       "      <td>0.058368</td>\n",
       "    </tr>\n",
       "    <tr>\n",
       "      <th>7</th>\n",
       "      <td>009002002000_tp</td>\n",
       "      <td>销售代表跟进电话</td>\n",
       "      <td>0.7731</td>\n",
       "      <td>0.054393</td>\n",
       "    </tr>\n",
       "    <tr>\n",
       "      <th>3</th>\n",
       "      <td>009002007000_tp</td>\n",
       "      <td>销售代表跟进其他</td>\n",
       "      <td>0.7212</td>\n",
       "      <td>0.050742</td>\n",
       "    </tr>\n",
       "    <tr>\n",
       "      <th>4</th>\n",
       "      <td>009002003000_tp</td>\n",
       "      <td>销售代表跟进展厅接待</td>\n",
       "      <td>0.6955</td>\n",
       "      <td>0.048933</td>\n",
       "    </tr>\n",
       "    <tr>\n",
       "      <th>6</th>\n",
       "      <td>014003000000_tp</td>\n",
       "      <td>同意战败申请</td>\n",
       "      <td>0.6069</td>\n",
       "      <td>0.042700</td>\n",
       "    </tr>\n",
       "  </tbody>\n",
       "</table>\n",
       "</div>"
      ],
      "text/plain": [
       "     touchpoint_id touchpoint_name  removal_effect  share_in_result\n",
       "1  009002001000_tp        销售代表跟进邀约          0.8296         0.058368\n",
       "7  009002002000_tp        销售代表跟进电话          0.7731         0.054393\n",
       "3  009002007000_tp        销售代表跟进其他          0.7212         0.050742\n",
       "4  009002003000_tp      销售代表跟进展厅接待          0.6955         0.048933\n",
       "6  014003000000_tp          同意战败申请          0.6069         0.042700"
      ]
     },
     "execution_count": 57,
     "metadata": {},
     "output_type": "execute_result"
    }
   ],
   "source": [
    "remove_effects_202006.head()"
   ]
  },
  {
   "cell_type": "code",
   "execution_count": 58,
   "metadata": {},
   "outputs": [
    {
     "name": "stderr",
     "output_type": "stream",
     "text": [
      "/app/anaconda3/envs/python37_smcsandbox/lib/python3.7/site-packages/pychattr/channel_attribution/_markov.py:91: RuntimeWarning: divide by zero encountered in double_scalars\n",
      "  num_transitions[k] /= vsm[w]\n"
     ]
    },
    {
     "data": {
      "text/html": [
       "<div>\n",
       "<style scoped>\n",
       "    .dataframe tbody tr th:only-of-type {\n",
       "        vertical-align: middle;\n",
       "    }\n",
       "\n",
       "    .dataframe tbody tr th {\n",
       "        vertical-align: top;\n",
       "    }\n",
       "\n",
       "    .dataframe thead th {\n",
       "        text-align: right;\n",
       "    }\n",
       "</style>\n",
       "<table border=\"1\" class=\"dataframe\">\n",
       "  <thead>\n",
       "    <tr style=\"text-align: right;\">\n",
       "      <th></th>\n",
       "      <th>touchpoint_id</th>\n",
       "      <th>touchpoint_name</th>\n",
       "      <th>removal_effect</th>\n",
       "      <th>share_in_result</th>\n",
       "    </tr>\n",
       "  </thead>\n",
       "  <tbody>\n",
       "    <tr>\n",
       "      <th>29</th>\n",
       "      <td>009002001000_tp</td>\n",
       "      <td>销售代表跟进邀约</td>\n",
       "      <td>0.7276</td>\n",
       "      <td>0.039711</td>\n",
       "    </tr>\n",
       "    <tr>\n",
       "      <th>34</th>\n",
       "      <td>009002002000_tp</td>\n",
       "      <td>销售代表跟进电话</td>\n",
       "      <td>0.6214</td>\n",
       "      <td>0.033914</td>\n",
       "    </tr>\n",
       "    <tr>\n",
       "      <th>8</th>\n",
       "      <td>009002007000_tp</td>\n",
       "      <td>销售代表跟进其他</td>\n",
       "      <td>0.6078</td>\n",
       "      <td>0.033172</td>\n",
       "    </tr>\n",
       "    <tr>\n",
       "      <th>5</th>\n",
       "      <td>009002003000_tp</td>\n",
       "      <td>销售代表跟进展厅接待</td>\n",
       "      <td>0.5667</td>\n",
       "      <td>0.030929</td>\n",
       "    </tr>\n",
       "    <tr>\n",
       "      <th>23</th>\n",
       "      <td>002009003002_tp</td>\n",
       "      <td>每日福利首页浏览</td>\n",
       "      <td>0.5236</td>\n",
       "      <td>0.028577</td>\n",
       "    </tr>\n",
       "  </tbody>\n",
       "</table>\n",
       "</div>"
      ],
      "text/plain": [
       "      touchpoint_id touchpoint_name  removal_effect  share_in_result\n",
       "29  009002001000_tp        销售代表跟进邀约          0.7276         0.039711\n",
       "34  009002002000_tp        销售代表跟进电话          0.6214         0.033914\n",
       "8   009002007000_tp        销售代表跟进其他          0.6078         0.033172\n",
       "5   009002003000_tp      销售代表跟进展厅接待          0.5667         0.030929\n",
       "23  002009003002_tp        每日福利首页浏览          0.5236         0.028577"
      ]
     },
     "execution_count": 58,
     "metadata": {},
     "output_type": "execute_result"
    }
   ],
   "source": [
    "mobile_list_202007 = list(df[(df.touchpoint_id.str.startswith('00800200'))&(df.action_time >= '2020-07-01')&(df.action_time < '2020-08-01')].mobile.unique())\n",
    "target_paths = df_paths[df_paths.mobile.isin(mobile_list_202007)]\n",
    "remove_effects_202007 = get_attribution_score(target_paths)\n",
    "remove_effects_202007.head()"
   ]
  },
  {
   "cell_type": "code",
   "execution_count": 59,
   "metadata": {},
   "outputs": [
    {
     "name": "stderr",
     "output_type": "stream",
     "text": [
      "/app/anaconda3/envs/python37_smcsandbox/lib/python3.7/site-packages/pychattr/channel_attribution/_markov.py:91: RuntimeWarning: divide by zero encountered in double_scalars\n",
      "  num_transitions[k] /= vsm[w]\n"
     ]
    },
    {
     "data": {
      "text/html": [
       "<div>\n",
       "<style scoped>\n",
       "    .dataframe tbody tr th:only-of-type {\n",
       "        vertical-align: middle;\n",
       "    }\n",
       "\n",
       "    .dataframe tbody tr th {\n",
       "        vertical-align: top;\n",
       "    }\n",
       "\n",
       "    .dataframe thead th {\n",
       "        text-align: right;\n",
       "    }\n",
       "</style>\n",
       "<table border=\"1\" class=\"dataframe\">\n",
       "  <thead>\n",
       "    <tr style=\"text-align: right;\">\n",
       "      <th></th>\n",
       "      <th>touchpoint_id</th>\n",
       "      <th>touchpoint_name</th>\n",
       "      <th>removal_effect</th>\n",
       "      <th>share_in_result</th>\n",
       "    </tr>\n",
       "  </thead>\n",
       "  <tbody>\n",
       "    <tr>\n",
       "      <th>1</th>\n",
       "      <td>009002001000_tp</td>\n",
       "      <td>销售代表跟进邀约</td>\n",
       "      <td>0.7053</td>\n",
       "      <td>0.046507</td>\n",
       "    </tr>\n",
       "    <tr>\n",
       "      <th>36</th>\n",
       "      <td>009002003000_tp</td>\n",
       "      <td>销售代表跟进展厅接待</td>\n",
       "      <td>0.6093</td>\n",
       "      <td>0.040177</td>\n",
       "    </tr>\n",
       "    <tr>\n",
       "      <th>37</th>\n",
       "      <td>009002002000_tp</td>\n",
       "      <td>销售代表跟进电话</td>\n",
       "      <td>0.5681</td>\n",
       "      <td>0.037460</td>\n",
       "    </tr>\n",
       "    <tr>\n",
       "      <th>42</th>\n",
       "      <td>009002007000_tp</td>\n",
       "      <td>销售代表跟进其他</td>\n",
       "      <td>0.5640</td>\n",
       "      <td>0.037190</td>\n",
       "    </tr>\n",
       "    <tr>\n",
       "      <th>2</th>\n",
       "      <td>009002004000_tp</td>\n",
       "      <td>销售代表跟进进入展厅</td>\n",
       "      <td>0.4913</td>\n",
       "      <td>0.032396</td>\n",
       "    </tr>\n",
       "  </tbody>\n",
       "</table>\n",
       "</div>"
      ],
      "text/plain": [
       "      touchpoint_id touchpoint_name  removal_effect  share_in_result\n",
       "1   009002001000_tp        销售代表跟进邀约          0.7053         0.046507\n",
       "36  009002003000_tp      销售代表跟进展厅接待          0.6093         0.040177\n",
       "37  009002002000_tp        销售代表跟进电话          0.5681         0.037460\n",
       "42  009002007000_tp        销售代表跟进其他          0.5640         0.037190\n",
       "2   009002004000_tp      销售代表跟进进入展厅          0.4913         0.032396"
      ]
     },
     "execution_count": 59,
     "metadata": {},
     "output_type": "execute_result"
    }
   ],
   "source": [
    "mobile_list_202008 = list(df[(df.touchpoint_id.str.startswith('00800200'))&(df.action_time >= '2020-08-01')&(df.action_time < '2020-09-01')].mobile.unique())\n",
    "target_paths = df_paths[df_paths.mobile.isin(mobile_list_202008)]\n",
    "remove_effects_202008 = get_attribution_score(target_paths)\n",
    "remove_effects_202008.head()"
   ]
  },
  {
   "cell_type": "code",
   "execution_count": 60,
   "metadata": {},
   "outputs": [
    {
     "name": "stderr",
     "output_type": "stream",
     "text": [
      "/app/anaconda3/envs/python37_smcsandbox/lib/python3.7/site-packages/pychattr/channel_attribution/_markov.py:91: RuntimeWarning: divide by zero encountered in double_scalars\n",
      "  num_transitions[k] /= vsm[w]\n"
     ]
    },
    {
     "data": {
      "text/html": [
       "<div>\n",
       "<style scoped>\n",
       "    .dataframe tbody tr th:only-of-type {\n",
       "        vertical-align: middle;\n",
       "    }\n",
       "\n",
       "    .dataframe tbody tr th {\n",
       "        vertical-align: top;\n",
       "    }\n",
       "\n",
       "    .dataframe thead th {\n",
       "        text-align: right;\n",
       "    }\n",
       "</style>\n",
       "<table border=\"1\" class=\"dataframe\">\n",
       "  <thead>\n",
       "    <tr style=\"text-align: right;\">\n",
       "      <th></th>\n",
       "      <th>touchpoint_id</th>\n",
       "      <th>touchpoint_name</th>\n",
       "      <th>removal_effect</th>\n",
       "      <th>share_in_result</th>\n",
       "    </tr>\n",
       "  </thead>\n",
       "  <tbody>\n",
       "    <tr>\n",
       "      <th>1</th>\n",
       "      <td>009002001000_tp</td>\n",
       "      <td>销售代表跟进邀约</td>\n",
       "      <td>0.6041</td>\n",
       "      <td>0.045603</td>\n",
       "    </tr>\n",
       "    <tr>\n",
       "      <th>7</th>\n",
       "      <td>009002002000_tp</td>\n",
       "      <td>销售代表跟进电话</td>\n",
       "      <td>0.5790</td>\n",
       "      <td>0.043709</td>\n",
       "    </tr>\n",
       "    <tr>\n",
       "      <th>9</th>\n",
       "      <td>009002007000_tp</td>\n",
       "      <td>销售代表跟进其他</td>\n",
       "      <td>0.5340</td>\n",
       "      <td>0.040312</td>\n",
       "    </tr>\n",
       "    <tr>\n",
       "      <th>6</th>\n",
       "      <td>009002003000_tp</td>\n",
       "      <td>销售代表跟进展厅接待</td>\n",
       "      <td>0.5319</td>\n",
       "      <td>0.040153</td>\n",
       "    </tr>\n",
       "    <tr>\n",
       "      <th>10</th>\n",
       "      <td>009002004000_tp</td>\n",
       "      <td>销售代表跟进进入展厅</td>\n",
       "      <td>0.4394</td>\n",
       "      <td>0.033170</td>\n",
       "    </tr>\n",
       "  </tbody>\n",
       "</table>\n",
       "</div>"
      ],
      "text/plain": [
       "      touchpoint_id touchpoint_name  removal_effect  share_in_result\n",
       "1   009002001000_tp        销售代表跟进邀约          0.6041         0.045603\n",
       "7   009002002000_tp        销售代表跟进电话          0.5790         0.043709\n",
       "9   009002007000_tp        销售代表跟进其他          0.5340         0.040312\n",
       "6   009002003000_tp      销售代表跟进展厅接待          0.5319         0.040153\n",
       "10  009002004000_tp      销售代表跟进进入展厅          0.4394         0.033170"
      ]
     },
     "execution_count": 60,
     "metadata": {},
     "output_type": "execute_result"
    }
   ],
   "source": [
    "mobile_list_202009 = list(df[(df.touchpoint_id.str.startswith('00800200'))&(df.action_time >= '2020-09-01')&(df.action_time < '2020-10-01')].mobile.unique())\n",
    "target_paths = df_paths[df_paths.mobile.isin(mobile_list_202009)]\n",
    "remove_effects_202009 = get_attribution_score(target_paths)\n",
    "remove_effects_202009.head()"
   ]
  },
  {
   "cell_type": "code",
   "execution_count": 61,
   "metadata": {},
   "outputs": [
    {
     "name": "stderr",
     "output_type": "stream",
     "text": [
      "/app/anaconda3/envs/python37_smcsandbox/lib/python3.7/site-packages/pychattr/channel_attribution/_markov.py:91: RuntimeWarning: divide by zero encountered in double_scalars\n",
      "  num_transitions[k] /= vsm[w]\n"
     ]
    },
    {
     "data": {
      "text/html": [
       "<div>\n",
       "<style scoped>\n",
       "    .dataframe tbody tr th:only-of-type {\n",
       "        vertical-align: middle;\n",
       "    }\n",
       "\n",
       "    .dataframe tbody tr th {\n",
       "        vertical-align: top;\n",
       "    }\n",
       "\n",
       "    .dataframe thead th {\n",
       "        text-align: right;\n",
       "    }\n",
       "</style>\n",
       "<table border=\"1\" class=\"dataframe\">\n",
       "  <thead>\n",
       "    <tr style=\"text-align: right;\">\n",
       "      <th></th>\n",
       "      <th>touchpoint_id</th>\n",
       "      <th>touchpoint_name</th>\n",
       "      <th>removal_effect</th>\n",
       "      <th>share_in_result</th>\n",
       "    </tr>\n",
       "  </thead>\n",
       "  <tbody>\n",
       "    <tr>\n",
       "      <th>46</th>\n",
       "      <td>009002001000_tp</td>\n",
       "      <td>销售代表跟进邀约</td>\n",
       "      <td>0.6560</td>\n",
       "      <td>0.036054</td>\n",
       "    </tr>\n",
       "    <tr>\n",
       "      <th>5</th>\n",
       "      <td>002009003002_tp</td>\n",
       "      <td>每日福利首页浏览</td>\n",
       "      <td>0.5520</td>\n",
       "      <td>0.030338</td>\n",
       "    </tr>\n",
       "    <tr>\n",
       "      <th>4</th>\n",
       "      <td>002009001003_tp</td>\n",
       "      <td>签到获取积分</td>\n",
       "      <td>0.5347</td>\n",
       "      <td>0.029387</td>\n",
       "    </tr>\n",
       "    <tr>\n",
       "      <th>45</th>\n",
       "      <td>009002003000_tp</td>\n",
       "      <td>销售代表跟进展厅接待</td>\n",
       "      <td>0.5323</td>\n",
       "      <td>0.029255</td>\n",
       "    </tr>\n",
       "    <tr>\n",
       "      <th>1</th>\n",
       "      <td>002009001001_tp</td>\n",
       "      <td>获取积分</td>\n",
       "      <td>0.5270</td>\n",
       "      <td>0.028964</td>\n",
       "    </tr>\n",
       "  </tbody>\n",
       "</table>\n",
       "</div>"
      ],
      "text/plain": [
       "      touchpoint_id touchpoint_name  removal_effect  share_in_result\n",
       "46  009002001000_tp        销售代表跟进邀约          0.6560         0.036054\n",
       "5   002009003002_tp        每日福利首页浏览          0.5520         0.030338\n",
       "4   002009001003_tp          签到获取积分          0.5347         0.029387\n",
       "45  009002003000_tp      销售代表跟进展厅接待          0.5323         0.029255\n",
       "1   002009001001_tp            获取积分          0.5270         0.028964"
      ]
     },
     "execution_count": 61,
     "metadata": {},
     "output_type": "execute_result"
    }
   ],
   "source": [
    "mobile_list_202010 = list(df[(df.touchpoint_id.str.startswith('00800200'))&(df.action_time >= '2020-10-01')&(df.action_time < '2020-11-01')].mobile.unique())\n",
    "target_paths = df_paths[df_paths.mobile.isin(mobile_list_202010)]\n",
    "remove_effects_202010 = get_attribution_score(target_paths)\n",
    "remove_effects_202010.head()"
   ]
  },
  {
   "cell_type": "code",
   "execution_count": 62,
   "metadata": {},
   "outputs": [
    {
     "name": "stderr",
     "output_type": "stream",
     "text": [
      "/app/anaconda3/envs/python37_smcsandbox/lib/python3.7/site-packages/pychattr/channel_attribution/_markov.py:91: RuntimeWarning: divide by zero encountered in double_scalars\n",
      "  num_transitions[k] /= vsm[w]\n"
     ]
    },
    {
     "data": {
      "text/html": [
       "<div>\n",
       "<style scoped>\n",
       "    .dataframe tbody tr th:only-of-type {\n",
       "        vertical-align: middle;\n",
       "    }\n",
       "\n",
       "    .dataframe tbody tr th {\n",
       "        vertical-align: top;\n",
       "    }\n",
       "\n",
       "    .dataframe thead th {\n",
       "        text-align: right;\n",
       "    }\n",
       "</style>\n",
       "<table border=\"1\" class=\"dataframe\">\n",
       "  <thead>\n",
       "    <tr style=\"text-align: right;\">\n",
       "      <th></th>\n",
       "      <th>touchpoint_id</th>\n",
       "      <th>touchpoint_name</th>\n",
       "      <th>removal_effect</th>\n",
       "      <th>share_in_result</th>\n",
       "    </tr>\n",
       "  </thead>\n",
       "  <tbody>\n",
       "    <tr>\n",
       "      <th>4</th>\n",
       "      <td>009002001000_tp</td>\n",
       "      <td>销售代表跟进邀约</td>\n",
       "      <td>0.7416</td>\n",
       "      <td>0.035952</td>\n",
       "    </tr>\n",
       "    <tr>\n",
       "      <th>12</th>\n",
       "      <td>002009004001_tp</td>\n",
       "      <td>服务首页访问</td>\n",
       "      <td>0.6671</td>\n",
       "      <td>0.032340</td>\n",
       "    </tr>\n",
       "    <tr>\n",
       "      <th>11</th>\n",
       "      <td>002009003002_tp</td>\n",
       "      <td>每日福利首页浏览</td>\n",
       "      <td>0.6637</td>\n",
       "      <td>0.032176</td>\n",
       "    </tr>\n",
       "    <tr>\n",
       "      <th>13</th>\n",
       "      <td>003001004000_tp</td>\n",
       "      <td>展厅首页点击</td>\n",
       "      <td>0.6592</td>\n",
       "      <td>0.031957</td>\n",
       "    </tr>\n",
       "    <tr>\n",
       "      <th>18</th>\n",
       "      <td>002008003001_tp</td>\n",
       "      <td>消息中心首页访问</td>\n",
       "      <td>0.6468</td>\n",
       "      <td>0.031356</td>\n",
       "    </tr>\n",
       "  </tbody>\n",
       "</table>\n",
       "</div>"
      ],
      "text/plain": [
       "      touchpoint_id touchpoint_name  removal_effect  share_in_result\n",
       "4   009002001000_tp        销售代表跟进邀约          0.7416         0.035952\n",
       "12  002009004001_tp          服务首页访问          0.6671         0.032340\n",
       "11  002009003002_tp        每日福利首页浏览          0.6637         0.032176\n",
       "13  003001004000_tp          展厅首页点击          0.6592         0.031957\n",
       "18  002008003001_tp        消息中心首页访问          0.6468         0.031356"
      ]
     },
     "execution_count": 62,
     "metadata": {},
     "output_type": "execute_result"
    }
   ],
   "source": [
    "mobile_list_202011 = list(df[(df.touchpoint_id.str.startswith('00800200'))&(df.action_time >= '2020-11-01')&(df.action_time < '2020-12-01')].mobile.unique())\n",
    "target_paths = df_paths[df_paths.mobile.isin(mobile_list_202011)]\n",
    "remove_effects_202011 = get_attribution_score(target_paths)\n",
    "remove_effects_202011.head()"
   ]
  },
  {
   "cell_type": "code",
   "execution_count": 63,
   "metadata": {},
   "outputs": [
    {
     "name": "stderr",
     "output_type": "stream",
     "text": [
      "/app/anaconda3/envs/python37_smcsandbox/lib/python3.7/site-packages/pychattr/channel_attribution/_markov.py:91: RuntimeWarning: divide by zero encountered in double_scalars\n",
      "  num_transitions[k] /= vsm[w]\n"
     ]
    },
    {
     "data": {
      "text/html": [
       "<div>\n",
       "<style scoped>\n",
       "    .dataframe tbody tr th:only-of-type {\n",
       "        vertical-align: middle;\n",
       "    }\n",
       "\n",
       "    .dataframe tbody tr th {\n",
       "        vertical-align: top;\n",
       "    }\n",
       "\n",
       "    .dataframe thead th {\n",
       "        text-align: right;\n",
       "    }\n",
       "</style>\n",
       "<table border=\"1\" class=\"dataframe\">\n",
       "  <thead>\n",
       "    <tr style=\"text-align: right;\">\n",
       "      <th></th>\n",
       "      <th>touchpoint_id</th>\n",
       "      <th>touchpoint_name</th>\n",
       "      <th>removal_effect</th>\n",
       "      <th>share_in_result</th>\n",
       "    </tr>\n",
       "  </thead>\n",
       "  <tbody>\n",
       "    <tr>\n",
       "      <th>16</th>\n",
       "      <td>009002001000_tp</td>\n",
       "      <td>销售代表跟进邀约</td>\n",
       "      <td>0.7055</td>\n",
       "      <td>0.045569</td>\n",
       "    </tr>\n",
       "    <tr>\n",
       "      <th>3</th>\n",
       "      <td>002009003002_tp</td>\n",
       "      <td>每日福利首页浏览</td>\n",
       "      <td>0.5244</td>\n",
       "      <td>0.033872</td>\n",
       "    </tr>\n",
       "    <tr>\n",
       "      <th>20</th>\n",
       "      <td>002009004001_tp</td>\n",
       "      <td>服务首页访问</td>\n",
       "      <td>0.5213</td>\n",
       "      <td>0.033672</td>\n",
       "    </tr>\n",
       "    <tr>\n",
       "      <th>59</th>\n",
       "      <td>009002003000_tp</td>\n",
       "      <td>销售代表跟进展厅接待</td>\n",
       "      <td>0.5199</td>\n",
       "      <td>0.033581</td>\n",
       "    </tr>\n",
       "    <tr>\n",
       "      <th>15</th>\n",
       "      <td>001001002000_tp</td>\n",
       "      <td>线索首触-地域</td>\n",
       "      <td>0.5136</td>\n",
       "      <td>0.033174</td>\n",
       "    </tr>\n",
       "  </tbody>\n",
       "</table>\n",
       "</div>"
      ],
      "text/plain": [
       "      touchpoint_id touchpoint_name  removal_effect  share_in_result\n",
       "16  009002001000_tp        销售代表跟进邀约          0.7055         0.045569\n",
       "3   002009003002_tp        每日福利首页浏览          0.5244         0.033872\n",
       "20  002009004001_tp          服务首页访问          0.5213         0.033672\n",
       "59  009002003000_tp      销售代表跟进展厅接待          0.5199         0.033581\n",
       "15  001001002000_tp         线索首触-地域          0.5136         0.033174"
      ]
     },
     "execution_count": 63,
     "metadata": {},
     "output_type": "execute_result"
    }
   ],
   "source": [
    "mobile_list_202012 = list(df[(df.touchpoint_id.str.startswith('00800200'))&(df.action_time >= '2020-12-01')&(df.action_time < '2021-01-01')].mobile.unique())\n",
    "target_paths = df_paths[df_paths.mobile.isin(mobile_list_202012)]\n",
    "remove_effects_202012 = get_attribution_score(target_paths)\n",
    "remove_effects_202012.head()"
   ]
  },
  {
   "cell_type": "code",
   "execution_count": 64,
   "metadata": {},
   "outputs": [
    {
     "name": "stderr",
     "output_type": "stream",
     "text": [
      "/app/anaconda3/envs/python37_smcsandbox/lib/python3.7/site-packages/pychattr/channel_attribution/_markov.py:91: RuntimeWarning: divide by zero encountered in double_scalars\n",
      "  num_transitions[k] /= vsm[w]\n"
     ]
    },
    {
     "data": {
      "text/html": [
       "<div>\n",
       "<style scoped>\n",
       "    .dataframe tbody tr th:only-of-type {\n",
       "        vertical-align: middle;\n",
       "    }\n",
       "\n",
       "    .dataframe tbody tr th {\n",
       "        vertical-align: top;\n",
       "    }\n",
       "\n",
       "    .dataframe thead th {\n",
       "        text-align: right;\n",
       "    }\n",
       "</style>\n",
       "<table border=\"1\" class=\"dataframe\">\n",
       "  <thead>\n",
       "    <tr style=\"text-align: right;\">\n",
       "      <th></th>\n",
       "      <th>touchpoint_id</th>\n",
       "      <th>touchpoint_name</th>\n",
       "      <th>removal_effect</th>\n",
       "      <th>share_in_result</th>\n",
       "    </tr>\n",
       "  </thead>\n",
       "  <tbody>\n",
       "    <tr>\n",
       "      <th>15</th>\n",
       "      <td>009002001000_tp</td>\n",
       "      <td>销售代表跟进邀约</td>\n",
       "      <td>0.6883</td>\n",
       "      <td>0.046968</td>\n",
       "    </tr>\n",
       "    <tr>\n",
       "      <th>11</th>\n",
       "      <td>009002003000_tp</td>\n",
       "      <td>销售代表跟进展厅接待</td>\n",
       "      <td>0.5572</td>\n",
       "      <td>0.038022</td>\n",
       "    </tr>\n",
       "    <tr>\n",
       "      <th>9</th>\n",
       "      <td>001001002000_tp</td>\n",
       "      <td>线索首触-地域</td>\n",
       "      <td>0.5189</td>\n",
       "      <td>0.035408</td>\n",
       "    </tr>\n",
       "    <tr>\n",
       "      <th>14</th>\n",
       "      <td>002009004001_tp</td>\n",
       "      <td>服务首页访问</td>\n",
       "      <td>0.4840</td>\n",
       "      <td>0.033027</td>\n",
       "    </tr>\n",
       "    <tr>\n",
       "      <th>19</th>\n",
       "      <td>002009003002_tp</td>\n",
       "      <td>每日福利首页浏览</td>\n",
       "      <td>0.4761</td>\n",
       "      <td>0.032488</td>\n",
       "    </tr>\n",
       "  </tbody>\n",
       "</table>\n",
       "</div>"
      ],
      "text/plain": [
       "      touchpoint_id touchpoint_name  removal_effect  share_in_result\n",
       "15  009002001000_tp        销售代表跟进邀约          0.6883         0.046968\n",
       "11  009002003000_tp      销售代表跟进展厅接待          0.5572         0.038022\n",
       "9   001001002000_tp         线索首触-地域          0.5189         0.035408\n",
       "14  002009004001_tp          服务首页访问          0.4840         0.033027\n",
       "19  002009003002_tp        每日福利首页浏览          0.4761         0.032488"
      ]
     },
     "execution_count": 64,
     "metadata": {},
     "output_type": "execute_result"
    }
   ],
   "source": [
    "mobile_list_202101 = list(df[(df.touchpoint_id.str.startswith('00800200'))&(df.action_time >= '2021-01-01')&(df.action_time < '2021-02-01')].mobile.unique())\n",
    "target_paths = df_paths[df_paths.mobile.isin(mobile_list_202101)]\n",
    "remove_effects_202101 = get_attribution_score(target_paths)\n",
    "remove_effects_202101.head()"
   ]
  },
  {
   "cell_type": "code",
   "execution_count": 65,
   "metadata": {},
   "outputs": [
    {
     "name": "stderr",
     "output_type": "stream",
     "text": [
      "/app/anaconda3/envs/python37_smcsandbox/lib/python3.7/site-packages/pychattr/channel_attribution/_markov.py:91: RuntimeWarning: divide by zero encountered in double_scalars\n",
      "  num_transitions[k] /= vsm[w]\n"
     ]
    },
    {
     "data": {
      "text/html": [
       "<div>\n",
       "<style scoped>\n",
       "    .dataframe tbody tr th:only-of-type {\n",
       "        vertical-align: middle;\n",
       "    }\n",
       "\n",
       "    .dataframe tbody tr th {\n",
       "        vertical-align: top;\n",
       "    }\n",
       "\n",
       "    .dataframe thead th {\n",
       "        text-align: right;\n",
       "    }\n",
       "</style>\n",
       "<table border=\"1\" class=\"dataframe\">\n",
       "  <thead>\n",
       "    <tr style=\"text-align: right;\">\n",
       "      <th></th>\n",
       "      <th>touchpoint_id</th>\n",
       "      <th>touchpoint_name</th>\n",
       "      <th>removal_effect</th>\n",
       "      <th>share_in_result</th>\n",
       "    </tr>\n",
       "  </thead>\n",
       "  <tbody>\n",
       "    <tr>\n",
       "      <th>15</th>\n",
       "      <td>009002001000_tp</td>\n",
       "      <td>销售代表跟进邀约</td>\n",
       "      <td>0.6950</td>\n",
       "      <td>0.048036</td>\n",
       "    </tr>\n",
       "    <tr>\n",
       "      <th>16</th>\n",
       "      <td>009002003000_tp</td>\n",
       "      <td>销售代表跟进展厅接待</td>\n",
       "      <td>0.5201</td>\n",
       "      <td>0.035948</td>\n",
       "    </tr>\n",
       "    <tr>\n",
       "      <th>13</th>\n",
       "      <td>001001002000_tp</td>\n",
       "      <td>线索首触-地域</td>\n",
       "      <td>0.5027</td>\n",
       "      <td>0.034745</td>\n",
       "    </tr>\n",
       "    <tr>\n",
       "      <th>10</th>\n",
       "      <td>002009004001_tp</td>\n",
       "      <td>服务首页访问</td>\n",
       "      <td>0.4893</td>\n",
       "      <td>0.033819</td>\n",
       "    </tr>\n",
       "    <tr>\n",
       "      <th>8</th>\n",
       "      <td>002009003002_tp</td>\n",
       "      <td>每日福利首页浏览</td>\n",
       "      <td>0.4706</td>\n",
       "      <td>0.032527</td>\n",
       "    </tr>\n",
       "  </tbody>\n",
       "</table>\n",
       "</div>"
      ],
      "text/plain": [
       "      touchpoint_id touchpoint_name  removal_effect  share_in_result\n",
       "15  009002001000_tp        销售代表跟进邀约          0.6950         0.048036\n",
       "16  009002003000_tp      销售代表跟进展厅接待          0.5201         0.035948\n",
       "13  001001002000_tp         线索首触-地域          0.5027         0.034745\n",
       "10  002009004001_tp          服务首页访问          0.4893         0.033819\n",
       "8   002009003002_tp        每日福利首页浏览          0.4706         0.032527"
      ]
     },
     "execution_count": 65,
     "metadata": {},
     "output_type": "execute_result"
    }
   ],
   "source": [
    "mobile_list_202102 = list(df[(df.touchpoint_id.str.startswith('00800200'))&(df.action_time >= '2021-02-01')&(df.action_time < '2021-03-01')].mobile.unique())\n",
    "target_paths = df_paths[df_paths.mobile.isin(mobile_list_202102)]\n",
    "remove_effects_202102 = get_attribution_score(target_paths)\n",
    "remove_effects_202102.head()"
   ]
  },
  {
   "cell_type": "code",
   "execution_count": 66,
   "metadata": {},
   "outputs": [
    {
     "name": "stderr",
     "output_type": "stream",
     "text": [
      "/app/anaconda3/envs/python37_smcsandbox/lib/python3.7/site-packages/pychattr/channel_attribution/_markov.py:91: RuntimeWarning: divide by zero encountered in double_scalars\n",
      "  num_transitions[k] /= vsm[w]\n"
     ]
    },
    {
     "data": {
      "text/html": [
       "<div>\n",
       "<style scoped>\n",
       "    .dataframe tbody tr th:only-of-type {\n",
       "        vertical-align: middle;\n",
       "    }\n",
       "\n",
       "    .dataframe tbody tr th {\n",
       "        vertical-align: top;\n",
       "    }\n",
       "\n",
       "    .dataframe thead th {\n",
       "        text-align: right;\n",
       "    }\n",
       "</style>\n",
       "<table border=\"1\" class=\"dataframe\">\n",
       "  <thead>\n",
       "    <tr style=\"text-align: right;\">\n",
       "      <th></th>\n",
       "      <th>touchpoint_id</th>\n",
       "      <th>touchpoint_name</th>\n",
       "      <th>removal_effect</th>\n",
       "      <th>share_in_result</th>\n",
       "    </tr>\n",
       "  </thead>\n",
       "  <tbody>\n",
       "    <tr>\n",
       "      <th>5</th>\n",
       "      <td>009002001000_tp</td>\n",
       "      <td>销售代表跟进邀约</td>\n",
       "      <td>0.6897</td>\n",
       "      <td>0.047742</td>\n",
       "    </tr>\n",
       "    <tr>\n",
       "      <th>7</th>\n",
       "      <td>009002003000_tp</td>\n",
       "      <td>销售代表跟进展厅接待</td>\n",
       "      <td>0.5315</td>\n",
       "      <td>0.036791</td>\n",
       "    </tr>\n",
       "    <tr>\n",
       "      <th>19</th>\n",
       "      <td>002009003002_tp</td>\n",
       "      <td>每日福利首页浏览</td>\n",
       "      <td>0.4952</td>\n",
       "      <td>0.034278</td>\n",
       "    </tr>\n",
       "    <tr>\n",
       "      <th>26</th>\n",
       "      <td>002009004001_tp</td>\n",
       "      <td>服务首页访问</td>\n",
       "      <td>0.4845</td>\n",
       "      <td>0.033538</td>\n",
       "    </tr>\n",
       "    <tr>\n",
       "      <th>3</th>\n",
       "      <td>001001002000_tp</td>\n",
       "      <td>线索首触-地域</td>\n",
       "      <td>0.4840</td>\n",
       "      <td>0.033503</td>\n",
       "    </tr>\n",
       "  </tbody>\n",
       "</table>\n",
       "</div>"
      ],
      "text/plain": [
       "      touchpoint_id touchpoint_name  removal_effect  share_in_result\n",
       "5   009002001000_tp        销售代表跟进邀约          0.6897         0.047742\n",
       "7   009002003000_tp      销售代表跟进展厅接待          0.5315         0.036791\n",
       "19  002009003002_tp        每日福利首页浏览          0.4952         0.034278\n",
       "26  002009004001_tp          服务首页访问          0.4845         0.033538\n",
       "3   001001002000_tp         线索首触-地域          0.4840         0.033503"
      ]
     },
     "execution_count": 66,
     "metadata": {},
     "output_type": "execute_result"
    }
   ],
   "source": [
    "mobile_list_202103 = list(df[(df.touchpoint_id.str.startswith('00800200'))&(df.action_time >= '2021-03-01')&(df.action_time < '2021-04-01')].mobile.unique())\n",
    "target_paths = df_paths[df_paths.mobile.isin(mobile_list_202103)]\n",
    "remove_effects_202103 = get_attribution_score(target_paths)\n",
    "remove_effects_202103.head()"
   ]
  },
  {
   "cell_type": "code",
   "execution_count": 67,
   "metadata": {},
   "outputs": [
    {
     "name": "stderr",
     "output_type": "stream",
     "text": [
      "/app/anaconda3/envs/python37_smcsandbox/lib/python3.7/site-packages/pychattr/channel_attribution/_markov.py:91: RuntimeWarning: divide by zero encountered in double_scalars\n",
      "  num_transitions[k] /= vsm[w]\n"
     ]
    },
    {
     "data": {
      "text/html": [
       "<div>\n",
       "<style scoped>\n",
       "    .dataframe tbody tr th:only-of-type {\n",
       "        vertical-align: middle;\n",
       "    }\n",
       "\n",
       "    .dataframe tbody tr th {\n",
       "        vertical-align: top;\n",
       "    }\n",
       "\n",
       "    .dataframe thead th {\n",
       "        text-align: right;\n",
       "    }\n",
       "</style>\n",
       "<table border=\"1\" class=\"dataframe\">\n",
       "  <thead>\n",
       "    <tr style=\"text-align: right;\">\n",
       "      <th></th>\n",
       "      <th>touchpoint_id</th>\n",
       "      <th>touchpoint_name</th>\n",
       "      <th>removal_effect</th>\n",
       "      <th>share_in_result</th>\n",
       "    </tr>\n",
       "  </thead>\n",
       "  <tbody>\n",
       "    <tr>\n",
       "      <th>38</th>\n",
       "      <td>009002001000_tp</td>\n",
       "      <td>销售代表跟进邀约</td>\n",
       "      <td>0.6678</td>\n",
       "      <td>0.049383</td>\n",
       "    </tr>\n",
       "    <tr>\n",
       "      <th>2</th>\n",
       "      <td>001001002000_tp</td>\n",
       "      <td>线索首触-地域</td>\n",
       "      <td>0.5210</td>\n",
       "      <td>0.038527</td>\n",
       "    </tr>\n",
       "    <tr>\n",
       "      <th>5</th>\n",
       "      <td>009002003000_tp</td>\n",
       "      <td>销售代表跟进展厅接待</td>\n",
       "      <td>0.5091</td>\n",
       "      <td>0.037647</td>\n",
       "    </tr>\n",
       "    <tr>\n",
       "      <th>1</th>\n",
       "      <td>001001001000_tp</td>\n",
       "      <td>线索首触-品牌</td>\n",
       "      <td>0.4778</td>\n",
       "      <td>0.035333</td>\n",
       "    </tr>\n",
       "    <tr>\n",
       "      <th>7</th>\n",
       "      <td>002009004001_tp</td>\n",
       "      <td>服务首页访问</td>\n",
       "      <td>0.4750</td>\n",
       "      <td>0.035126</td>\n",
       "    </tr>\n",
       "  </tbody>\n",
       "</table>\n",
       "</div>"
      ],
      "text/plain": [
       "      touchpoint_id touchpoint_name  removal_effect  share_in_result\n",
       "38  009002001000_tp        销售代表跟进邀约          0.6678         0.049383\n",
       "2   001001002000_tp         线索首触-地域          0.5210         0.038527\n",
       "5   009002003000_tp      销售代表跟进展厅接待          0.5091         0.037647\n",
       "1   001001001000_tp         线索首触-品牌          0.4778         0.035333\n",
       "7   002009004001_tp          服务首页访问          0.4750         0.035126"
      ]
     },
     "execution_count": 67,
     "metadata": {},
     "output_type": "execute_result"
    }
   ],
   "source": [
    "mobile_list_202104 = list(df[(df.touchpoint_id.str.startswith('00800200'))&(df.action_time >= '2021-04-01')&(df.action_time < '2021-05-01')].mobile.unique())\n",
    "target_paths = df_paths[df_paths.mobile.isin(mobile_list_202104)]\n",
    "remove_effects_202104 = get_attribution_score(target_paths)\n",
    "remove_effects_202104.head()"
   ]
  },
  {
   "cell_type": "code",
   "execution_count": 68,
   "metadata": {},
   "outputs": [
    {
     "name": "stderr",
     "output_type": "stream",
     "text": [
      "/app/anaconda3/envs/python37_smcsandbox/lib/python3.7/site-packages/pychattr/channel_attribution/_markov.py:91: RuntimeWarning: divide by zero encountered in double_scalars\n",
      "  num_transitions[k] /= vsm[w]\n"
     ]
    },
    {
     "data": {
      "text/html": [
       "<div>\n",
       "<style scoped>\n",
       "    .dataframe tbody tr th:only-of-type {\n",
       "        vertical-align: middle;\n",
       "    }\n",
       "\n",
       "    .dataframe tbody tr th {\n",
       "        vertical-align: top;\n",
       "    }\n",
       "\n",
       "    .dataframe thead th {\n",
       "        text-align: right;\n",
       "    }\n",
       "</style>\n",
       "<table border=\"1\" class=\"dataframe\">\n",
       "  <thead>\n",
       "    <tr style=\"text-align: right;\">\n",
       "      <th></th>\n",
       "      <th>touchpoint_id</th>\n",
       "      <th>touchpoint_name</th>\n",
       "      <th>removal_effect</th>\n",
       "      <th>share_in_result</th>\n",
       "    </tr>\n",
       "  </thead>\n",
       "  <tbody>\n",
       "    <tr>\n",
       "      <th>47</th>\n",
       "      <td>009002001000_tp</td>\n",
       "      <td>销售代表跟进邀约</td>\n",
       "      <td>0.6903</td>\n",
       "      <td>0.050201</td>\n",
       "    </tr>\n",
       "    <tr>\n",
       "      <th>43</th>\n",
       "      <td>009002003000_tp</td>\n",
       "      <td>销售代表跟进展厅接待</td>\n",
       "      <td>0.5285</td>\n",
       "      <td>0.038435</td>\n",
       "    </tr>\n",
       "    <tr>\n",
       "      <th>39</th>\n",
       "      <td>001001002000_tp</td>\n",
       "      <td>线索首触-地域</td>\n",
       "      <td>0.4998</td>\n",
       "      <td>0.036348</td>\n",
       "    </tr>\n",
       "    <tr>\n",
       "      <th>6</th>\n",
       "      <td>002009004001_tp</td>\n",
       "      <td>服务首页访问</td>\n",
       "      <td>0.4592</td>\n",
       "      <td>0.033395</td>\n",
       "    </tr>\n",
       "    <tr>\n",
       "      <th>40</th>\n",
       "      <td>001001001000_tp</td>\n",
       "      <td>线索首触-品牌</td>\n",
       "      <td>0.4465</td>\n",
       "      <td>0.032471</td>\n",
       "    </tr>\n",
       "  </tbody>\n",
       "</table>\n",
       "</div>"
      ],
      "text/plain": [
       "      touchpoint_id touchpoint_name  removal_effect  share_in_result\n",
       "47  009002001000_tp        销售代表跟进邀约          0.6903         0.050201\n",
       "43  009002003000_tp      销售代表跟进展厅接待          0.5285         0.038435\n",
       "39  001001002000_tp         线索首触-地域          0.4998         0.036348\n",
       "6   002009004001_tp          服务首页访问          0.4592         0.033395\n",
       "40  001001001000_tp         线索首触-品牌          0.4465         0.032471"
      ]
     },
     "execution_count": 68,
     "metadata": {},
     "output_type": "execute_result"
    }
   ],
   "source": [
    "mobile_list_202105 = list(df[(df.touchpoint_id.str.startswith('00800200'))&(df.action_time >= '2021-05-01')&(df.action_time < '2021-06-01')].mobile.unique())\n",
    "target_paths = df_paths[df_paths.mobile.isin(mobile_list_202105)]\n",
    "remove_effects_202105 = get_attribution_score(target_paths)\n",
    "remove_effects_202105.head()"
   ]
  },
  {
   "cell_type": "code",
   "execution_count": 85,
   "metadata": {},
   "outputs": [],
   "source": [
    "remove_effects_202105.to_csv('remove_effects_202105.csv',index = False)"
   ]
  },
  {
   "cell_type": "code",
   "execution_count": null,
   "metadata": {},
   "outputs": [],
   "source": []
  }
 ],
 "metadata": {
  "kernelspec": {
   "display_name": "python37_smcsandbox",
   "language": "python",
   "name": "python3"
  },
  "language_info": {
   "codemirror_mode": {
    "name": "ipython",
    "version": 3
   },
   "file_extension": ".py",
   "mimetype": "text/x-python",
   "name": "python",
   "nbconvert_exporter": "python",
   "pygments_lexer": "ipython3",
   "version": "3.7.5"
  }
 },
 "nbformat": 4,
 "nbformat_minor": 2
}
