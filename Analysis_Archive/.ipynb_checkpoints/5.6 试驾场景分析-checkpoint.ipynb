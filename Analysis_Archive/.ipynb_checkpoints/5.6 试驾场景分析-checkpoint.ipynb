{
 "cells": [
  {
   "cell_type": "code",
   "execution_count": 28,
   "metadata": {},
   "outputs": [],
   "source": [
    "import pandas as pd\n",
    "pd.set_option('display.max_colwidth', None)\n",
    "import numpy as np\n",
    "import findspark\n",
    "findspark.init(\"/opt/cloudera/parcels/CDH-6.3.1-1.cdh6.3.1.p0.1470567/lib/spark\",\"/usr/bin/python2.7\")\n",
    "\n",
    "import os\n",
    "os.environ[\"JAVA_HOME\"] = \"/usr/java/jdk1.8.0_181-cloudera\"\n",
    "\n",
    "from pyspark.sql import functions as F\n",
    "from pyspark import SparkContext\n",
    "from pyspark.sql import SparkSession,HiveContext,Window\n",
    "from pyspark.sql.types import IntegerType, FloatType, DoubleType, ArrayType, StringType, DecimalType\n",
    "from pyspark.sql.functions import *\n",
    "import re\n",
    "import datetime\n",
    "from pychattr.channel_attribution import MarkovModel\n",
    "\n",
    "spark_session = SparkSession.builder.enableHiveSupport().appName(\"artefact_attribution_analysis\") \\\n",
    "    .config(\"spark.driver.memory\",\"10g\") \\\n",
    "    .config(\"spark.pyspark.driver.python\",\"/usr/bin/python2.7\")\\\n",
    "    .config(\"spark.pyspark.python\",\"/usr/bin/python2.7\") \\\n",
    "    .config(\"spark.yarn.executor.memoryOverhead\",\"8G\") \\\n",
    "    .getOrCreate()\n",
    "hc = HiveContext(spark_session.sparkContext)"
   ]
  },
  {
   "cell_type": "code",
   "execution_count": 1,
   "metadata": {},
   "outputs": [],
   "source": [
    "import pandas as pd\n",
    "import numpy as np\n",
    "import datetime\n",
    "from datetime import datetime\n",
    "import itertools"
   ]
  },
  {
   "cell_type": "code",
   "execution_count": 3,
   "metadata": {},
   "outputs": [],
   "source": [
    "names = ['mobile','touchpoint_id','action_time','row_number','time_lag','tp_id_through','row_number_lag','conv_period']\n",
    "df = pd.read_csv('data/tp_analysis_base.csv',sep = '\\t', names = names)\n",
    "df['mobile'] = df['mobile'].astype(str)"
   ]
  },
  {
   "cell_type": "code",
   "execution_count": 5,
   "metadata": {},
   "outputs": [],
   "source": [
    "# fetch id mapping system\n",
    "#id_mapping = hc.sql('select * from marketing_modeling.dw_touchpoints_id_system').toPandas()"
   ]
  },
  {
   "cell_type": "code",
   "execution_count": 6,
   "metadata": {},
   "outputs": [],
   "source": [
    "id_mapping = pd.read_csv('data/id_mapping.csv')\n",
    "\n",
    "tp_name = {k:v for k,v in zip(id_mapping.touchpoint_id,id_mapping.touchpoint_name)}\n",
    "inbound_map = {k:v for k,v in zip(id_mapping.touchpoint_id,id_mapping.is_inbound)}"
   ]
  },
  {
   "cell_type": "code",
   "execution_count": null,
   "metadata": {},
   "outputs": [],
   "source": [
    "len(df.mobile.unique())"
   ]
  },
  {
   "cell_type": "markdown",
   "metadata": {},
   "source": [
    "##### 5.6.1 试驾后成交时长"
   ]
  },
  {
   "cell_type": "code",
   "execution_count": 9,
   "metadata": {},
   "outputs": [],
   "source": [
    "trial_tid_list = ['007003000000_tp','007004000000_tp'] #完成试乘试驾，评价试乘试驾\n",
    "trial_df = df[df.touchpoint_id.isin(trial_tid_list)].groupby(by='mobile',as_index=False).agg({'action_time':'min'})\n",
    "trial_df.columns = ['mobile','trial_time']\n",
    "\n",
    "trail_ana = visit_df.merge(trial_df,on='mobile',how='left').merge(deal_df,on='mobile',how='left')\n",
    "\n",
    "trail_ana['visit_trial_diff'] = (pd.to_datetime(trail_ana['trial_time']) - pd.to_datetime(trail_ana['visit_time']))\\\n",
    ".apply(lambda x:x.total_seconds()/3600)\n",
    "trail_ana['visit_deal_diff'] = (pd.to_datetime(trail_ana['deal_time']) - pd.to_datetime(trail_ana['visit_time']))\\\n",
    ".apply(lambda x:x.total_seconds()/3600)"
   ]
  },
  {
   "cell_type": "code",
   "execution_count": null,
   "metadata": {},
   "outputs": [],
   "source": [
    "# 试驾后成交时长\n",
    "print(trail_ana['visit_deal_diff'].value_counts())"
   ]
  },
  {
   "cell_type": "markdown",
   "metadata": {},
   "source": [
    "##### 5.6.2 试驾转化漏斗"
   ]
  },
  {
   "cell_type": "code",
   "execution_count": null,
   "metadata": {},
   "outputs": [],
   "source": [
    "# 意向建卡\n",
    "base = df[(df.touchpoint_id == '004000000000_tp') | (df.touchpoint_id == '005000000000_tp')][['mobile','action_time']]\\\n",
    ".rename(columns={'action_time':'cust_time'})\\\n",
    ".groupby(by='mobile',as_index=False).agg({'cust_time':'min'})\n",
    "\n",
    "visit_df_g = df[df.touchpoint_id == '006000000000_tp'][['mobile','action_time']].rename(columns={'action_time':'visit_time'})\\\n",
    ".groupby(by='mobile',as_index=False).agg({'visit_time':'min'})\n",
    "\n",
    "trial_df_g = df[(df.touchpoint_id == '007003000000_tp') | (df.touchpoint_id == '007004000000_tp')][['mobile','action_time']]\\\n",
    ".rename(columns={'action_time':'trial_time'}).groupby(by='mobile',as_index=False).agg({'trial_time':'min'})\n",
    "\n",
    "deal_df_g = df[df.touchpoint_id == '011000000000_tp'][['mobile','action_time']]\\\n",
    ".rename(columns={'action_time':'deal_time'}).groupby(by='mobile',as_index=False).agg({'deal_time':'min'})\n",
    "\n",
    "base_visit = base.merge(visit_df_g,on='mobile',how='left')\n",
    "base_visit = base_visit.merge(trial_df_g,on='mobile',how='left')\n",
    "base_visit = base_visit.merge(deal_df_g,on='mobile',how='left')\n",
    "\n",
    "base_visit['trial_deal_diff'] = (pd.to_datetime(base_visit.deal_time) - pd.to_datetime(base_visit.trial_time)).apply(lambda x:x.total_seconds()/3600)\n",
    "base_visit['visit_deal_diff'] = (pd.to_datetime(base_visit.deal_time) - pd.to_datetime(base_visit.visit_time)).apply(lambda x:x.total_seconds()/3600)\n",
    "base_visit['visit_trial_diff'] = (pd.to_datetime(base_visit.trial_time) - pd.to_datetime(base_visit.visit_time)).apply(lambda x:x.total_seconds()/3600)\n",
    "base_visit['trial_cust_diff'] = (pd.to_datetime(base_visit.trial_time) - pd.to_datetime(base_visit.cust_time)).apply(lambda x:x.total_seconds()/3600)\n",
    "base_visit['visit_cust_diff'] = (pd.to_datetime(base_visit.visit_time) - pd.to_datetime(base_visit.cust_time)).apply(lambda x:x.total_seconds()/3600)\n",
    "\n",
    "# 到店\n",
    "print('visit: ',len(base_visit[(base_visit.visit_cust_diff >= -24)].mobile.unique()))\n",
    "\n",
    "# 到店后试驾\n",
    "print('trial: ',len(base_visit[(base_visit.visit_trial_diff >= -24)\\\n",
    "                                                 & (base_visit.visit_cust_diff >= -24)].mobile.unique()))\n",
    "\n",
    "# 到店后试驾，试驾后成交(非当日)\n",
    "print('trial_deal: ',len(base_visit[(base_visit.trial_deal_diff > 24)\n",
    "                                                      & (base_visit.visit_trial_diff >= -24)\\\n",
    "                                                      & (base_visit.visit_cust_diff >= -24)].mobile.unique()))\n",
    "# 到店后试驾，试驾后成交(当日)\n",
    "print('trial_deal: ',len(base_visit[(base_visit.trial_deal_diff >= -24) & ((base_visit.trial_deal_diff <= 24))\\\n",
    "                                    & (base_visit.visit_trial_diff >= -24)\\\n",
    "                                    & (base_visit.visit_cust_diff >= -24)].mobile.unique()))\n",
    "\n",
    "# 到店后直接成交(非当日)\n",
    "print('direct_deal: ',len(base_visit[(base_visit.trial_time.isna() == True)\\\n",
    "                                                       & (base_visit.visit_cust_diff >= -24)\\\n",
    "                                                       & (base_visit.visit_deal_diff > 24)].mobile.unique()))\n",
    "# 到店后直接成交(当日)\n",
    "print('direct_deal: ',len(base_visit[(base_visit.trial_time.isna() == True) & ((base_visit.trial_deal_diff <= 24))\\\n",
    "                                     & (base_visit.visit_cust_diff >= -24)\\\n",
    "                                     & (base_visit.visit_deal_diff >= -24)].mobile.unique()))"
   ]
  },
  {
   "cell_type": "markdown",
   "metadata": {},
   "source": [
    "##### 5.6.3 三类用户 (到店试驾、到店未试驾当天成交、到店未试驾非当天成交) 的触点覆盖度"
   ]
  },
  {
   "cell_type": "code",
   "execution_count": null,
   "metadata": {},
   "outputs": [],
   "source": [
    "# 到店后试驾\n",
    "trial_cust = base_visit[(base_visit.visit_trial_diff >= -24)\\\n",
    "                                                 & (base_visit.visit_cust_diff >= -24)].mobile.unique()\n",
    "\n",
    "# 到店后直接成交(非当日)\n",
    "deal_not_sd = base_visit[(base_visit.trial_time.isna() == True) & (base_visit.visit_cust_diff >= -24)\\\n",
    "           & (base_visit.visit_deal_diff > 24)].mobile.unique()\n",
    "\n",
    "# 到店后直接成交(当日)\n",
    "deal_sd = base_visit[(base_visit.trial_time.isna() == True) & ((base_visit.trial_deal_diff <= 24))\\\n",
    "                                     & (base_visit.visit_cust_diff >= -24)\\\n",
    "                                     & (base_visit.visit_deal_diff >= -24)].mobile.unique())"
   ]
  },
  {
   "cell_type": "code",
   "execution_count": null,
   "metadata": {},
   "outputs": [],
   "source": [
    "base = df.merge(deal_df_g,on='mobile',how='left')\n",
    "\n",
    "df[df.mobile.isin(trial_cust) & ((df.action_time < df.deal_time) | (df.deal_time.isna()))][['mobile','touchpoint_id']].drop_duplicates()\\\n",
    ".groupby(by='touchpoint_id',as_index=False).agg({'mobile':'count'})\n",
    "\n",
    "df[df.mobile.isin(deal_not_sd) & ((df.action_time < df.deal_time) | (df.deal_time.isna()))][['mobile','touchpoint_id']].drop_duplicates()\\\n",
    ".groupby(by='touchpoint_id',as_index=False).agg({'mobile':'count'})\n",
    "\n",
    "df[df.mobile.isin(deal_sd) & ((df.action_time < df.deal_time) | (df.deal_time.isna()))][['mobile','touchpoint_id']].drop_duplicates()\\\n",
    ".groupby(by='touchpoint_id',as_index=False).agg({'mobile':'count'})"
   ]
  }
 ],
 "metadata": {
  "kernelspec": {
   "display_name": "python37_smcsandbox",
   "language": "python",
   "name": "python3"
  },
  "language_info": {
   "codemirror_mode": {
    "name": "ipython",
    "version": 3
   },
   "file_extension": ".py",
   "mimetype": "text/x-python",
   "name": "python",
   "nbconvert_exporter": "python",
   "pygments_lexer": "ipython3",
   "version": "3.7.5"
  }
 },
 "nbformat": 4,
 "nbformat_minor": 2
}
