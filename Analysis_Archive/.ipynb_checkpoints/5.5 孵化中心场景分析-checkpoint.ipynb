{
 "cells": [
  {
   "cell_type": "code",
   "execution_count": 2,
   "metadata": {},
   "outputs": [],
   "source": [
    "import pandas as pd\n",
    "import numpy as np\n",
    "import datetime\n",
    "from datetime import datetime\n",
    "import itertools"
   ]
  },
  {
   "cell_type": "code",
   "execution_count": 2,
   "metadata": {},
   "outputs": [],
   "source": [
    "names = ['mobile','touchpoint_id','action_time','row_number','time_lag','tp_id_through','row_number_lag','conv_period']\n",
    "df = pd.read_csv('data/tp_analysis_base.csv',sep = '\\t', names = names)\n",
    "df['mobile'] = df['mobile'].astype(str)"
   ]
  },
  {
   "cell_type": "code",
   "execution_count": 3,
   "metadata": {},
   "outputs": [],
   "source": [
    "id_mapping = pd.read_csv('data/id_mapping.csv')\n",
    "\n",
    "tp_name = {k:v for k,v in zip(id_mapping.touchpoint_id,id_mapping.touchpoint_name)}\n",
    "inbound_map = {k:v for k,v in zip(id_mapping.touchpoint_id,id_mapping.is_inbound)}"
   ]
  },
  {
   "cell_type": "code",
   "execution_count": 4,
   "metadata": {},
   "outputs": [],
   "source": [
    "# 从线索池捞出孵化中心线索\n",
    "fh_cust = pd.read_csv('../data/fuhua_time.txt',sep='\\t')\n",
    "fh_cust.id = fh_cust.id.astype(str)"
   ]
  },
  {
   "cell_type": "code",
   "execution_count": 6,
   "metadata": {},
   "outputs": [
    {
     "data": {
      "text/html": [
       "<div>\n",
       "<style scoped>\n",
       "    .dataframe tbody tr th:only-of-type {\n",
       "        vertical-align: middle;\n",
       "    }\n",
       "\n",
       "    .dataframe tbody tr th {\n",
       "        vertical-align: top;\n",
       "    }\n",
       "\n",
       "    .dataframe thead th {\n",
       "        text-align: right;\n",
       "    }\n",
       "</style>\n",
       "<table border=\"1\" class=\"dataframe\">\n",
       "  <thead>\n",
       "    <tr style=\"text-align: right;\">\n",
       "      <th></th>\n",
       "      <th>id</th>\n",
       "      <th>create_time</th>\n",
       "    </tr>\n",
       "  </thead>\n",
       "  <tbody>\n",
       "    <tr>\n",
       "      <th>0</th>\n",
       "      <td>100000021991843</td>\n",
       "      <td>2020-09-04 07:35:46</td>\n",
       "    </tr>\n",
       "    <tr>\n",
       "      <th>1</th>\n",
       "      <td>100000021995491</td>\n",
       "      <td>2020-09-04 14:11:52</td>\n",
       "    </tr>\n",
       "    <tr>\n",
       "      <th>2</th>\n",
       "      <td>100000022032786</td>\n",
       "      <td>2020-09-07 03:32:05</td>\n",
       "    </tr>\n",
       "    <tr>\n",
       "      <th>3</th>\n",
       "      <td>100000022036000</td>\n",
       "      <td>2020-09-07 05:39:46</td>\n",
       "    </tr>\n",
       "    <tr>\n",
       "      <th>4</th>\n",
       "      <td>100000022048115</td>\n",
       "      <td>2020-09-08 02:59:15</td>\n",
       "    </tr>\n",
       "  </tbody>\n",
       "</table>\n",
       "</div>"
      ],
      "text/plain": [
       "                id          create_time\n",
       "0  100000021991843  2020-09-04 07:35:46\n",
       "1  100000021995491  2020-09-04 14:11:52\n",
       "2  100000022032786  2020-09-07 03:32:05\n",
       "3  100000022036000  2020-09-07 05:39:46\n",
       "4  100000022048115  2020-09-08 02:59:15"
      ]
     },
     "execution_count": 6,
     "metadata": {},
     "output_type": "execute_result"
    }
   ],
   "source": [
    "fh_cust.head()"
   ]
  },
  {
   "cell_type": "code",
   "execution_count": 7,
   "metadata": {},
   "outputs": [],
   "source": [
    "# 从转卡表中捞出成功孵化转卡的用户\n",
    "fh_phone = pd.read_csv('../data/fuhua_mobile.csv',sep='\\t',names=['mobile','id','fuhua_time','is_fuhua'])\n",
    "fh_phone = fh_phone[fh_phone.mobile.isna() == False]"
   ]
  },
  {
   "cell_type": "code",
   "execution_count": 52,
   "metadata": {},
   "outputs": [],
   "source": [
    "fh_phone.id = fh_phone.id.fillna(0).astype(int).astype(str)\n",
    "fh_phone.mobile = fh_phone.mobile.fillna(0).astype(int).astype(str)"
   ]
  },
  {
   "cell_type": "code",
   "execution_count": 122,
   "metadata": {},
   "outputs": [],
   "source": [
    "fh_base = fh_phone.merge(fh_cust,on='id',how='left')"
   ]
  },
  {
   "cell_type": "markdown",
   "metadata": {},
   "source": [
    "##### 孵化中心用户孵化时长分布"
   ]
  },
  {
   "cell_type": "code",
   "execution_count": 123,
   "metadata": {},
   "outputs": [],
   "source": [
    "fh_base['fuhua_diff'] = (pd.to_datetime(fh_base.create_time) - pd.to_datetime(fh_base.fuhua_time)).apply(lambda x:x.days)"
   ]
  },
  {
   "cell_type": "code",
   "execution_count": 76,
   "metadata": {},
   "outputs": [],
   "source": [
    "diff_dis = fh_base.groupby(by='mobile',as_index=False).agg({'fuhua_diff':'min'}).groupby(by='fuhua_diff',\n",
    "                                                                                         as_index=False).agg({'mobile':'count'})"
   ]
  },
  {
   "cell_type": "code",
   "execution_count": 84,
   "metadata": {},
   "outputs": [],
   "source": [
    "diff_dis['bin'] = pd.cut(diff_dis.fuhua_diff,bins=[-10000,0,3,7,15,30,45,60,90,10000])\n",
    "diff_dis.bin = diff_dis.bin.astype(str)"
   ]
  },
  {
   "cell_type": "code",
   "execution_count": 89,
   "metadata": {},
   "outputs": [
    {
     "name": "stdout",
     "output_type": "stream",
     "text": [
      "26.92391304347826\n",
      "27.5\n"
     ]
    }
   ],
   "source": [
    "print(diff_dis.fuhua_diff.mean())\n",
    "print(diff_dis.fuhua_diff.median())"
   ]
  },
  {
   "cell_type": "code",
   "execution_count": 85,
   "metadata": {},
   "outputs": [
    {
     "data": {
      "text/html": [
       "<div>\n",
       "<style scoped>\n",
       "    .dataframe tbody tr th:only-of-type {\n",
       "        vertical-align: middle;\n",
       "    }\n",
       "\n",
       "    .dataframe tbody tr th {\n",
       "        vertical-align: top;\n",
       "    }\n",
       "\n",
       "    .dataframe thead th {\n",
       "        text-align: right;\n",
       "    }\n",
       "</style>\n",
       "<table border=\"1\" class=\"dataframe\">\n",
       "  <thead>\n",
       "    <tr style=\"text-align: right;\">\n",
       "      <th></th>\n",
       "      <th>bin</th>\n",
       "      <th>mobile</th>\n",
       "    </tr>\n",
       "  </thead>\n",
       "  <tbody>\n",
       "    <tr>\n",
       "      <th>0</th>\n",
       "      <td>(-10000, 0]</td>\n",
       "      <td>80</td>\n",
       "    </tr>\n",
       "    <tr>\n",
       "      <th>1</th>\n",
       "      <td>(0, 3]</td>\n",
       "      <td>187</td>\n",
       "    </tr>\n",
       "    <tr>\n",
       "      <th>2</th>\n",
       "      <td>(15, 30]</td>\n",
       "      <td>359</td>\n",
       "    </tr>\n",
       "    <tr>\n",
       "      <th>3</th>\n",
       "      <td>(3, 7]</td>\n",
       "      <td>47</td>\n",
       "    </tr>\n",
       "    <tr>\n",
       "      <th>4</th>\n",
       "      <td>(30, 45]</td>\n",
       "      <td>229</td>\n",
       "    </tr>\n",
       "    <tr>\n",
       "      <th>5</th>\n",
       "      <td>(45, 60]</td>\n",
       "      <td>95</td>\n",
       "    </tr>\n",
       "    <tr>\n",
       "      <th>6</th>\n",
       "      <td>(60, 90]</td>\n",
       "      <td>35</td>\n",
       "    </tr>\n",
       "    <tr>\n",
       "      <th>7</th>\n",
       "      <td>(7, 15]</td>\n",
       "      <td>320</td>\n",
       "    </tr>\n",
       "    <tr>\n",
       "      <th>8</th>\n",
       "      <td>(90, 10000]</td>\n",
       "      <td>11</td>\n",
       "    </tr>\n",
       "  </tbody>\n",
       "</table>\n",
       "</div>"
      ],
      "text/plain": [
       "           bin  mobile\n",
       "0  (-10000, 0]      80\n",
       "1       (0, 3]     187\n",
       "2     (15, 30]     359\n",
       "3       (3, 7]      47\n",
       "4     (30, 45]     229\n",
       "5     (45, 60]      95\n",
       "6     (60, 90]      35\n",
       "7      (7, 15]     320\n",
       "8  (90, 10000]      11"
      ]
     },
     "execution_count": 85,
     "metadata": {},
     "output_type": "execute_result"
    }
   ],
   "source": [
    "diff_dis.groupby(by='bin',as_index=False).agg({'mobile':'sum'})"
   ]
  },
  {
   "cell_type": "markdown",
   "metadata": {},
   "source": [
    "##### 孵化中心用户转化漏斗"
   ]
  },
  {
   "cell_type": "code",
   "execution_count": 121,
   "metadata": {},
   "outputs": [],
   "source": [
    "visit_df = df[df.touchpoint_id == '006000000000_tp']\n",
    "trial_df = df[(df.touchpoint_id == '007003000000_tp') | (df.touchpoint_id == '007004000000_tp')]\n",
    "deal_df = df[df.touchpoint_id == '011000000000_tp']"
   ]
  },
  {
   "cell_type": "code",
   "execution_count": 125,
   "metadata": {},
   "outputs": [],
   "source": [
    "fh_base = fh_base.merge(visit_df[['mobile','action_time']],on='mobile',how='left')\n",
    "fh_base = fh_base.rename(columns={'action_time':'visit_time'})"
   ]
  },
  {
   "cell_type": "code",
   "execution_count": 126,
   "metadata": {},
   "outputs": [],
   "source": [
    "fh_base = fh_base.merge(trial_df[['mobile','action_time']],on='mobile',how='left')\n",
    "fh_base = fh_base.rename(columns={'action_time':'trial_time'})"
   ]
  },
  {
   "cell_type": "code",
   "execution_count": 127,
   "metadata": {},
   "outputs": [],
   "source": [
    "fh_base = fh_base.merge(deal_df[['mobile','action_time']],on='mobile',how='left')\n",
    "fh_base = fh_base.rename(columns={'action_time':'deal_time'})"
   ]
  },
  {
   "cell_type": "code",
   "execution_count": 128,
   "metadata": {},
   "outputs": [],
   "source": [
    "def diff(base_visit):\n",
    "    base_visit['trial_deal_diff'] = (pd.to_datetime(base_visit.deal_time) - pd.to_datetime(base_visit.trial_time)).apply(lambda x:x.total_seconds()/3600)\n",
    "    base_visit['visit_deal_diff'] = (pd.to_datetime(base_visit.deal_time) - pd.to_datetime(base_visit.visit_time)).apply(lambda x:x.total_seconds()/3600)\n",
    "    base_visit['visit_trial_diff'] = (pd.to_datetime(base_visit.trial_time) - pd.to_datetime(base_visit.visit_time)).apply(lambda x:x.total_seconds()/3600)\n",
    "    base_visit['trial_cust_diff'] = (pd.to_datetime(base_visit.trial_time) - pd.to_datetime(base_visit.create_time)).apply(lambda x:x.total_seconds()/3600)\n",
    "    base_visit['visit_cust_diff'] = (pd.to_datetime(base_visit.visit_time) - pd.to_datetime(base_visit.create_time)).apply(lambda x:x.total_seconds()/3600)\n",
    "    return base_visit"
   ]
  },
  {
   "cell_type": "code",
   "execution_count": 130,
   "metadata": {
    "collapsed": true
   },
   "outputs": [
    {
     "name": "stderr",
     "output_type": "stream",
     "text": [
      "/app/anaconda3/envs/python37_smcsandbox/lib/python3.7/site-packages/ipykernel_launcher.py:2: SettingWithCopyWarning: \n",
      "A value is trying to be set on a copy of a slice from a DataFrame.\n",
      "Try using .loc[row_indexer,col_indexer] = value instead\n",
      "\n",
      "See the caveats in the documentation: https://pandas.pydata.org/pandas-docs/stable/user_guide/indexing.html#returning-a-view-versus-a-copy\n",
      "  \n",
      "/app/anaconda3/envs/python37_smcsandbox/lib/python3.7/site-packages/ipykernel_launcher.py:3: SettingWithCopyWarning: \n",
      "A value is trying to be set on a copy of a slice from a DataFrame.\n",
      "Try using .loc[row_indexer,col_indexer] = value instead\n",
      "\n",
      "See the caveats in the documentation: https://pandas.pydata.org/pandas-docs/stable/user_guide/indexing.html#returning-a-view-versus-a-copy\n",
      "  This is separate from the ipykernel package so we can avoid doing imports until\n",
      "/app/anaconda3/envs/python37_smcsandbox/lib/python3.7/site-packages/ipykernel_launcher.py:4: SettingWithCopyWarning: \n",
      "A value is trying to be set on a copy of a slice from a DataFrame.\n",
      "Try using .loc[row_indexer,col_indexer] = value instead\n",
      "\n",
      "See the caveats in the documentation: https://pandas.pydata.org/pandas-docs/stable/user_guide/indexing.html#returning-a-view-versus-a-copy\n",
      "  after removing the cwd from sys.path.\n",
      "/app/anaconda3/envs/python37_smcsandbox/lib/python3.7/site-packages/ipykernel_launcher.py:5: SettingWithCopyWarning: \n",
      "A value is trying to be set on a copy of a slice from a DataFrame.\n",
      "Try using .loc[row_indexer,col_indexer] = value instead\n",
      "\n",
      "See the caveats in the documentation: https://pandas.pydata.org/pandas-docs/stable/user_guide/indexing.html#returning-a-view-versus-a-copy\n",
      "  \"\"\"\n",
      "/app/anaconda3/envs/python37_smcsandbox/lib/python3.7/site-packages/ipykernel_launcher.py:6: SettingWithCopyWarning: \n",
      "A value is trying to be set on a copy of a slice from a DataFrame.\n",
      "Try using .loc[row_indexer,col_indexer] = value instead\n",
      "\n",
      "See the caveats in the documentation: https://pandas.pydata.org/pandas-docs/stable/user_guide/indexing.html#returning-a-view-versus-a-copy\n",
      "  \n"
     ]
    }
   ],
   "source": [
    "fh_succ = diff(fh_base[fh_base.is_fuhua == 1])"
   ]
  },
  {
   "cell_type": "code",
   "execution_count": 135,
   "metadata": {},
   "outputs": [],
   "source": [
    "tag = 'fuhua'\n",
    "def fuhua_funnel(base_visit):\n",
    "    print('{0}---visit: '.format(tag),len(base_visit[(base_visit.visit_cust_diff >= -24)].mobile.unique()))\n",
    "    print('{0}---trial: '.format(tag),len(base_visit[(base_visit.visit_trial_diff >= -24)\\\n",
    "                                                     & (base_visit.visit_cust_diff >= -24)].mobile.unique()))\n",
    "    print('{0}---trial_deal: '.format(tag),len(base_visit[(base_visit.trial_deal_diff >= -24)\\\n",
    "                                                          & (base_visit.visit_trial_diff >= -24)\\\n",
    "                                                          & (base_visit.visit_cust_diff >= -24)].mobile.unique()))\n",
    "    print('{0}---direct_deal: '.format(tag),len(base_visit[(base_visit.trial_time.isna() == True)\\\n",
    "                                                           & (base_visit.visit_cust_diff >= -24)\\\n",
    "                                                           & (base_visit.visit_deal_diff >= -24)].mobile.unique()))"
   ]
  },
  {
   "cell_type": "code",
   "execution_count": 136,
   "metadata": {},
   "outputs": [
    {
     "name": "stdout",
     "output_type": "stream",
     "text": [
      "fuhua---visit:  16\n",
      "fuhua---trial:  5\n",
      "fuhua---trial_deal:  1\n",
      "fuhua---direct_deal:  3\n"
     ]
    }
   ],
   "source": [
    "fuhua_funnel(fh_succ)"
   ]
  },
  {
   "cell_type": "markdown",
   "metadata": {},
   "source": [
    "##### 孵化期间行为触点覆盖度"
   ]
  },
  {
   "cell_type": "code",
   "execution_count": 168,
   "metadata": {},
   "outputs": [],
   "source": [
    "fh_tp = fh_base.merge(df[['mobile','action_time','touchpoint_id']],on='mobile',how='left')\n",
    "fh_tp = fh_tp[(fh_tp.action_time >= fh_tp.create_time) & (fh_tp.action_time >= fh_tp.fuhua_time)]\n",
    "\n",
    "fh_tp['id_g'] = fh_tp.touchpoint_id.apply(lambda x:x[:3*2]+('0'*(4-2)*3)+'_tp')\n",
    "\n",
    "fh_tp_res = fh_tp[['id_g','mobile']].drop_duplicates().groupby(by=['id_g'],as_index=False).agg({'mobile':'count'})\n",
    "\n",
    "fh_tp_res.merge(id_mapping,left_on ='id_g',right_on='touchpoint_id',how='left').to_csv('result/fuhua_coverage.csv',index=False,sep='\\t')"
   ]
  }
 ],
 "metadata": {
  "kernelspec": {
   "display_name": "python37_smcsandbox",
   "language": "python",
   "name": "python3"
  },
  "language_info": {
   "codemirror_mode": {
    "name": "ipython",
    "version": 3
   },
   "file_extension": ".py",
   "mimetype": "text/x-python",
   "name": "python",
   "nbconvert_exporter": "python",
   "pygments_lexer": "ipython3",
   "version": "3.7.5"
  }
 },
 "nbformat": 4,
 "nbformat_minor": 2
}
