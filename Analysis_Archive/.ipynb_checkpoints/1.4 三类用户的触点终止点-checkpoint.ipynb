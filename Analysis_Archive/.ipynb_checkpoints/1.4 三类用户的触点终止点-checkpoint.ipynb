{
 "cells": [
  {
   "cell_type": "code",
   "execution_count": 1,
   "metadata": {},
   "outputs": [],
   "source": [
    "import pandas as pd\n",
    "import numpy as np\n",
    "import datetime\n",
    "from datetime import datetime\n",
    "import itertools"
   ]
  },
  {
   "cell_type": "code",
   "execution_count": 2,
   "metadata": {},
   "outputs": [],
   "source": [
    "names = ['mobile','touchpoint_id','action_time','row_number','time_lag','tp_id_through','row_number_lag','conv_period']\n",
    "df = pd.read_csv('data/tp_analysis_base.csv',sep = '\\t', names = names)\n",
    "df['mobile'] = df['mobile'].astype(str)"
   ]
  },
  {
   "cell_type": "code",
   "execution_count": 3,
   "metadata": {},
   "outputs": [],
   "source": [
    "id_mapping = pd.read_csv('data/id_mapping.csv')"
   ]
  },
  {
   "cell_type": "code",
   "execution_count": 4,
   "metadata": {},
   "outputs": [],
   "source": [
    "tp_name = {k:v for k,v in zip(id_mapping.touchpoint_id,id_mapping.touchpoint_name)}\n",
    "inbound_map = {k:v for k,v in zip(id_mapping.touchpoint_id,id_mapping.is_inbound)}"
   ]
  },
  {
   "cell_type": "code",
   "execution_count": 2,
   "metadata": {},
   "outputs": [],
   "source": [
    "# fetch other information\n",
    "# deal_time.csv 为从marketing_modeling.dw_deliver_behavior获取的mobile and behavior_time\n",
    "deal_date = pd.read_csv('data/deal_time.csv',names=['mobile','deal_time'],sep='\\t')"
   ]
  },
  {
   "cell_type": "markdown",
   "metadata": {},
   "source": [
    "#### Segmentation"
   ]
  },
  {
   "cell_type": "code",
   "execution_count": 7,
   "metadata": {},
   "outputs": [],
   "source": [
    "cust_user = df[(df.touchpoint_id == '004000000000_tp') | (df.touchpoint_id == '005000000000_tp')].mobile.unique().tolist()"
   ]
  },
  {
   "cell_type": "code",
   "execution_count": 8,
   "metadata": {},
   "outputs": [
    {
     "name": "stderr",
     "output_type": "stream",
     "text": [
      "/app/anaconda3/envs/python37_smcsandbox/lib/python3.7/site-packages/ipykernel_launcher.py:3: SettingWithCopyWarning: \n",
      "A value is trying to be set on a copy of a slice from a DataFrame\n",
      "\n",
      "See the caveats in the documentation: https://pandas.pydata.org/pandas-docs/stable/user_guide/indexing.html#returning-a-view-versus-a-copy\n",
      "  This is separate from the ipykernel package so we can avoid doing imports until\n"
     ]
    }
   ],
   "source": [
    "# segment\n",
    "df['segment'] = np.nan\n",
    "df['segment'][df.mobile.isin(deal_date.mobile.unique().tolist())] = 'deal'\n",
    "df['segment'][(df.mobile.isin(cust_user)) & (df.segment.isna()==True)] = 'cust'\n",
    "df['segment'] = df['segment'].fillna('potential')"
   ]
  },
  {
   "cell_type": "code",
   "execution_count": null,
   "metadata": {},
   "outputs": [],
   "source": [
    "df[['mobile','segment']].drop_duplicates().segment.value_counts()"
   ]
  },
  {
   "cell_type": "markdown",
   "metadata": {},
   "source": [
    "#### Potential"
   ]
  },
  {
   "cell_type": "code",
   "execution_count": null,
   "metadata": {},
   "outputs": [],
   "source": [
    "potential_df = df[df.segment == 'potential']\n",
    "potential_df = potential_df[['mobile','touchpoint_id','action_time','row_number']]\n",
    "\n",
    "potential_df['row_number_to'] = potential_df['row_number'].apply(lambda x:x+1)\n",
    "potential_df = potential_df.merge(potential_df[['mobile','touchpoint_id','action_time','row_number']]\\\n",
    "                                  .rename(columns={'touchpoint_id':'to_id','action_time':'to_time'}),\n",
    "                                  left_on=['mobile','row_number_to'],right_on=['mobile','row_number'],how='left')\n",
    "\n",
    "potential_df['fr_tp'] = potential_df['touchpoint_id'].apply(lambda x:tp_name[x])\n",
    "potential_df['to_tp'] = [tp_name[x] if type(x) != float else 'Exit' for x in potential_df['to_id']]\n",
    "\n",
    "potential_result = potential_df.groupby(by=['fr_tp','to_tp'],as_index=False).agg({'mobile':'count'})\n",
    "#potential_result.to_csv('potential_exit_result.csv',index=False)"
   ]
  },
  {
   "cell_type": "code",
   "execution_count": null,
   "metadata": {},
   "outputs": [],
   "source": [
    "potential_result_g = potential_result.groupby(by='fr_tp',as_index=False).agg({'mobile':'sum'}).rename(columns={'mobile':'Total_traffic'})\n",
    "potential_result = potential_result.merge(potential_result_g,on='fr_tp',how='left')\n",
    "potential_result['transition_rate'] = potential_result['mobile']/potential_result['Total_traffic']\n",
    "potential_result.to_csv('potential_exit_result.csv')"
   ]
  },
  {
   "cell_type": "markdown",
   "metadata": {},
   "source": [
    "#### Customers"
   ]
  },
  {
   "cell_type": "code",
   "execution_count": 52,
   "metadata": {},
   "outputs": [],
   "source": [
    "cust_df = df[df.segment == 'cust']\n",
    "cust_df = cust_df[['mobile','touchpoint_id','action_time','row_number']]"
   ]
  },
  {
   "cell_type": "code",
   "execution_count": 53,
   "metadata": {},
   "outputs": [],
   "source": [
    "oppor_time = cust_df[(cust_df.touchpoint_id == '004000000000_tp')][['mobile','touchpoint_id','action_time','row_number']]\\\n",
    ".rename(columns={'action_time':'oppor_time','row_number':'oppor_loc','touchpoint_id':'oppor_tp'})\n",
    "\n",
    "followup_time = cust_df[cust_df.touchpoint_id.str.contains('009002')][['mobile','touchpoint_id','action_time','row_number']]\\\n",
    ".rename(columns={'action_time':'followup_time','row_number':'followup_loc','touchpoint_id':'followup_tp'})\n",
    "\n",
    "cust_time = cust_df[cust_df.touchpoint_id == '005000000000_tp'][['mobile','touchpoint_id','action_time','row_number']]\\\n",
    ".rename(columns={'action_time':'cust_time','row_number':'cust_loc','touchpoint_id':'cust_tp'})"
   ]
  },
  {
   "cell_type": "code",
   "execution_count": 57,
   "metadata": {},
   "outputs": [],
   "source": [
    "tmp = oppor_time.merge(followup_time,left_on=['mobile','oppor_time'],right_on=['mobile','followup_time'])\\\n",
    ".merge(cust_time,left_on=['mobile','oppor_time'],right_on=['mobile','cust_time'])\n",
    "\n",
    "tmp['max'] = tmp[['oppor_loc','followup_loc','cust_loc']].max(axis=1)\n",
    "tmp['min'] = tmp[['oppor_loc','followup_loc','cust_loc']].min(axis=1)\n",
    "\n",
    "tmp['oppor_loc'] = tmp['min']\n",
    "tmp['cust_loc'] = tmp['min']\n",
    "tmp['followup_loc'] = tmp['max']\n",
    "\n",
    "df1 = cust_df[(cust_df.touchpoint_id != '004000000000_tp') & (cust_df.touchpoint_id.str.contains('009002') == False)\\\n",
    "        & (cust_df.touchpoint_id != '005000000000_tp')]\n",
    "df2 = tmp[['mobile','oppor_tp','oppor_time','oppor_loc']]\n",
    "df3 = tmp[['mobile','followup_tp','followup_time','followup_loc']]\n",
    "df4 = tmp[['mobile','cust_tp','cust_time','cust_loc']]\n",
    "\n",
    "df2.columns = ['mobile','touchpoint_id','action_time','row_number']\n",
    "df3.columns = ['mobile','touchpoint_id','action_time','row_number']\n",
    "df4.columns = ['mobile','touchpoint_id','action_time','row_number']\n",
    "\n",
    "cust_df = df1.append(df2).append(df3).append(df4)"
   ]
  },
  {
   "cell_type": "code",
   "execution_count": 61,
   "metadata": {},
   "outputs": [],
   "source": [
    "cust_df['row_number_to'] = cust_df['row_number'].apply(lambda x:x+1)\n",
    "cust_df = cust_df.merge(cust_df[['mobile','touchpoint_id','action_time','row_number']]\\\n",
    "                                  .rename(columns={'touchpoint_id':'to_id','action_time':'to_time'}),\n",
    "                                  left_on=['mobile','row_number_to'],right_on=['mobile','row_number'],how='left')\n",
    "cust_df['fr_tp'] = cust_df['touchpoint_id'].apply(lambda x:tp_name[x])\n",
    "cust_df['to_tp'] = [tp_name[x] if type(x) != float else 'Exit' for x in cust_df['to_id']]"
   ]
  },
  {
   "cell_type": "code",
   "execution_count": 64,
   "metadata": {},
   "outputs": [],
   "source": [
    "max_index = cust_df.groupby(by='mobile',as_index=False).agg({'row_number_x':'max'})\n",
    "max_index.columns = ['mobile','max_index']\n",
    "\n",
    "cust_df = cust_df.merge(max_index,on='mobile',how='left')\n",
    "\n",
    "drop = cust_df[(cust_df.to_tp == 'Exit') & (cust_df.max_index != cust_df.row_number_x)].index.tolist()\n",
    "cust_df = cust_df[cust_df.index.isin(drop) == False]"
   ]
  },
  {
   "cell_type": "code",
   "execution_count": 79,
   "metadata": {},
   "outputs": [],
   "source": [
    "cust_result = cust_df.groupby(by=['fr_tp','to_tp'],as_index=False).agg({'mobile':'count'})\n",
    "cust_result.to_csv('cust_exit_result.csv',index=False)\n",
    "\n",
    "cust_result_g = cust_result.groupby(by = 'fr_tp',as_index=False).agg({'mobile':'sum'}).rename(columns={'mobile':'Total_traffic'})\n",
    "cust_result = cust_result.merge(cust_result_g,on='fr_tp',how='left')\n",
    "cust_result['transition_rate'] = cust_result['mobile']/cust_result['Total_traffic']\n",
    "cust_result.to_csv('cust_exit_result.csv')"
   ]
  },
  {
   "cell_type": "markdown",
   "metadata": {},
   "source": [
    "#### Deal"
   ]
  },
  {
   "cell_type": "code",
   "execution_count": null,
   "metadata": {},
   "outputs": [],
   "source": [
    "deal_df = df[df.segment == 'deal']\n",
    "deal_df = deal_df[['mobile','touchpoint_id','action_time','row_number']]\n",
    "\n",
    "deal_df['row_number_to'] = deal_df['row_number'].apply(lambda x:x+1)\n",
    "deal_df = deal_df.merge(deal_df[['mobile','touchpoint_id','action_time','row_number']]\\\n",
    "                                  .rename(columns={'touchpoint_id':'to_id','action_time':'to_time'}),\n",
    "                                  left_on=['mobile','row_number_to'],right_on=['mobile','row_number'],how='left')\n",
    "deal_df['fr_tp'] = deal_df['touchpoint_id'].apply(lambda x:tp_name[x])\n",
    "deal_df['to_tp'] = [tp_name[x] if type(x) != float else 'Exit' for x in deal_df['to_id']]"
   ]
  },
  {
   "cell_type": "code",
   "execution_count": null,
   "metadata": {},
   "outputs": [],
   "source": [
    "deal_result = deal_df.groupby(by=['fr_tp','to_tp'],as_index=False).agg({'mobile':'count'})\n",
    "#deal_result.to_csv('deal_exit_result.csv',index=False)\n",
    "\n",
    "deal_result_g = deal_result.groupby(by = 'fr_tp',as_index=False).agg({'mobile':'sum'}).rename(columns={'mobile':'Total_traffic'})\n",
    "deal_result = deal_result.merge(deal_result_g,on='fr_tp',how='left')\n",
    "deal_result['transition_rate'] = deal_result['mobile']/deal_result['Total_traffic']\n",
    "deal_result.to_csv('deal_exit_result.csv')"
   ]
  }
 ],
 "metadata": {
  "kernelspec": {
   "display_name": "python37_smcsandbox",
   "language": "python",
   "name": "python3"
  },
  "language_info": {
   "codemirror_mode": {
    "name": "ipython",
    "version": 3
   },
   "file_extension": ".py",
   "mimetype": "text/x-python",
   "name": "python",
   "nbconvert_exporter": "python",
   "pygments_lexer": "ipython3",
   "version": "3.7.5"
  }
 },
 "nbformat": 4,
 "nbformat_minor": 2
}
