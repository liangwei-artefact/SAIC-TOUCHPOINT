{
 "cells": [
  {
   "cell_type": "code",
   "execution_count": 1,
   "metadata": {},
   "outputs": [],
   "source": [
    "import pandas as pd\n",
    "import numpy as np\n",
    "import datetime\n",
    "from datetime import datetime\n",
    "import itertools"
   ]
  },
  {
   "cell_type": "code",
   "execution_count": 2,
   "metadata": {},
   "outputs": [],
   "source": [
    "names = ['mobile','touchpoint_id','action_time','row_number','time_lag','tp_id_through','row_number_lag','conv_period']\n",
    "df = pd.read_csv('data/tp_analysis_base.csv',sep = '\\t', names = names)\n",
    "df['mobile'] = df['mobile'].astype(str)"
   ]
  },
  {
   "cell_type": "code",
   "execution_count": 3,
   "metadata": {},
   "outputs": [],
   "source": [
    "id_mapping = pd.read_csv('data/id_mapping.csv')\n",
    "\n",
    "tp_name = {k:v for k,v in zip(id_mapping.touchpoint_id,id_mapping.touchpoint_name)}\n",
    "inbound_map = {k:v for k,v in zip(id_mapping.touchpoint_id,id_mapping.is_inbound)}"
   ]
  },
  {
   "cell_type": "code",
   "execution_count": 4,
   "metadata": {},
   "outputs": [],
   "source": [
    "# fetch other information\n",
    "deal_date = pd.read_csv('data/deal_time.csv',names=['mobile','deal_time'],sep='\\t')"
   ]
  },
  {
   "cell_type": "code",
   "execution_count": 5,
   "metadata": {},
   "outputs": [],
   "source": [
    "deal_date_g = deal_date.groupby(by='mobile',as_index=False).agg({'deal_time':'min'})"
   ]
  },
  {
   "cell_type": "code",
   "execution_count": 6,
   "metadata": {},
   "outputs": [],
   "source": [
    "old_deal = deal_date[deal_date.deal_time <= '2019-06-01']\n",
    "new_deal = deal_date[deal_date.deal_time > '2019-06-01']"
   ]
  },
  {
   "cell_type": "code",
   "execution_count": 7,
   "metadata": {},
   "outputs": [],
   "source": [
    "cust_user = df[(df.touchpoint_id == '004000000000_tp') | (df.touchpoint_id == '005000000000_tp')].mobile.unique().tolist()"
   ]
  },
  {
   "cell_type": "code",
   "execution_count": 8,
   "metadata": {},
   "outputs": [
    {
     "name": "stderr",
     "output_type": "stream",
     "text": [
      "/app/anaconda3/envs/python37_smcsandbox/lib/python3.7/site-packages/ipykernel_launcher.py:3: SettingWithCopyWarning: \n",
      "A value is trying to be set on a copy of a slice from a DataFrame\n",
      "\n",
      "See the caveats in the documentation: https://pandas.pydata.org/pandas-docs/stable/user_guide/indexing.html#returning-a-view-versus-a-copy\n",
      "  This is separate from the ipykernel package so we can avoid doing imports until\n"
     ]
    }
   ],
   "source": [
    "# segment\n",
    "df['segment'] = np.nan\n",
    "df['segment'][df.mobile.isin(old_deal.mobile.unique().tolist())] = 'old_deal'\n",
    "df['segment'][df.mobile.isin(new_deal.mobile.unique().tolist())] = 'new_deal'\n",
    "df['segment'][(df.mobile.isin(cust_user)) & (df.segment.isna()==True)] = 'cust'\n",
    "df['segment'] = df['segment'].fillna('potential')"
   ]
  },
  {
   "cell_type": "code",
   "execution_count": 9,
   "metadata": {},
   "outputs": [
    {
     "data": {
      "text/plain": [
       "potential    1569281\n",
       "cust         1425932\n",
       "old_deal      403028\n",
       "new_deal      189750\n",
       "Name: segment, dtype: int64"
      ]
     },
     "execution_count": 9,
     "metadata": {},
     "output_type": "execute_result"
    }
   ],
   "source": [
    "df[['mobile','segment']].drop_duplicates().segment.value_counts()"
   ]
  },
  {
   "cell_type": "code",
   "execution_count": 42,
   "metadata": {},
   "outputs": [
    {
     "data": {
      "text/plain": [
       "potential    352303\n",
       "new_deal     128621\n",
       "old_deal      95904\n",
       "cust          84088\n",
       "Name: segment, dtype: int64"
      ]
     },
     "execution_count": 42,
     "metadata": {},
     "output_type": "execute_result"
    }
   ],
   "source": [
    "df[df.touchpoint_id.isin(id_mapping[id_mapping.data_source == 'app'].touchpoint_id.tolist())][['mobile','segment']].drop_duplicates().segment.value_counts()"
   ]
  },
  {
   "cell_type": "code",
   "execution_count": 23,
   "metadata": {},
   "outputs": [],
   "source": [
    "app_id = [i for i in id_mapping.touchpoint_id.tolist() if i.startswith('003')] + \\\n",
    "[i for i in id_mapping.touchpoint_id.tolist() if i.startswith('008002')] + \\\n",
    "[i for i in id_mapping.touchpoint_id.tolist() if i.startswith('002') and i.startswith('002011') == False] +\\\n",
    "[i for i in id_mapping.touchpoint_id.tolist() if i.startswith('019')] \n",
    "\n",
    "app_user = df[df.touchpoint_id.isin(app_id)].groupby(by='mobile',as_index=False).agg({'action_time':'min'})\n",
    "\n",
    "# 意向建卡\n",
    "cust_base = df[(df.touchpoint_id == '004000000000_tp') | (df.touchpoint_id == '005000000000_tp')][['mobile','action_time']]\\\n",
    ".rename(columns={'action_time':'cust_time'})\\\n",
    ".groupby(by='mobile',as_index=False).agg({'cust_time':'min'})\n",
    "\n",
    "visit_df_g = visit_df.groupby(by='mobile',as_index=False).agg({'visit_time':'min'})\n",
    "deal_df_g = deal_df.groupby(by='mobile',as_index=False).agg({'deal_time':'min'})\n",
    "trial_df_g = trial_df.groupby(by='mobile',as_index=False).agg({'trial_time':'min'})"
   ]
  },
  {
   "cell_type": "code",
   "execution_count": 62,
   "metadata": {},
   "outputs": [],
   "source": [
    "app_cust = app_user.merge(cust_base[['mobile']],on='mobile',how='inner').drop_duplicates()\n",
    "app_cust = app_cust.merge(visit_df_g,on='mobile',how='left').merge(trial_df_g,on='mobile',how='left').merge(deal_df_g,on='mobile',how='left')"
   ]
  },
  {
   "cell_type": "code",
   "execution_count": 28,
   "metadata": {},
   "outputs": [],
   "source": [
    "register_df = df[(df.touchpoint_id == '002001002000_tp')][['mobile','action_time']]\\\n",
    ".rename(columns={'action_time':'regis_time'})\\\n",
    ".groupby(by='mobile',as_index=False).agg({'regis_time':'min'})"
   ]
  },
  {
   "cell_type": "code",
   "execution_count": 232,
   "metadata": {},
   "outputs": [],
   "source": [
    "app_sour = pd.read_csv('data/MGAPP_original_source_with_mobile.csv').dropna()\n",
    "app_sour.cellphone = app_sour.cellphone.astype(int).astype(str)\n",
    "\n",
    "app_sour = app_sour.merge(cust_base,left_on = 'cellphone',right_on='mobile',how='left').drop(columns='mobile')\n",
    "app_sour = app_sour.merge(app_user,left_on = 'cellphone',right_on='mobile',how='left').drop(columns='mobile')\n",
    "app_sour = app_sour.merge(register_df,left_on = 'cellphone',right_on='mobile',how='left').drop(columns='mobile')\n",
    "app_sour = app_sour.merge(deal_date_g,left_on = 'cellphone',right_on='mobile',how='left').drop(columns='mobile')\n",
    "app_sour = app_sour.merge(trial_df,left_on = 'cellphone',right_on='mobile',how='left').drop(columns='mobile')\n",
    "app_sour = app_sour.merge(visit_df,left_on = 'cellphone',right_on='mobile',how='left').drop(columns='mobile')"
   ]
  },
  {
   "cell_type": "code",
   "execution_count": 234,
   "metadata": {},
   "outputs": [],
   "source": [
    "app_sour['start_time'] = [i[0] if type(i[0]) != float else i[1] for i in zip(app_sour.action_time,app_sour.regis_time)]"
   ]
  },
  {
   "cell_type": "code",
   "execution_count": 235,
   "metadata": {},
   "outputs": [],
   "source": [
    "deal_list = app_sour[app_sour.start_time > app_sour.deal_time][['cellphone']]\n",
    "deal_list['segment'] = 'deal'\n",
    "cust_list = app_sour[(app_sour.start_time > app_sour.cust_time) & (app_sour.cellphone.isin(deal_list.cellphone.tolist()) == False)][['cellphone']]\n",
    "cust_list['segment'] = 'cust'"
   ]
  },
  {
   "cell_type": "code",
   "execution_count": 236,
   "metadata": {},
   "outputs": [],
   "source": [
    "app_sour = app_sour.merge(cust_list.append(deal_list).drop_duplicates(),on='cellphone',how='left')\n",
    "app_sour['segment'] = app_sour['segment'].fillna('potential')"
   ]
  },
  {
   "cell_type": "code",
   "execution_count": 239,
   "metadata": {},
   "outputs": [],
   "source": [
    "# 各渠道用户数\n",
    "df_res = pd.pivot_table(data=app_sour,index='campaign_name',values='cellphone',aggfunc='count',columns='segment')"
   ]
  },
  {
   "cell_type": "code",
   "execution_count": 245,
   "metadata": {},
   "outputs": [],
   "source": [
    "# 首次使用APP后到店，试驾，成交\n",
    "df_res.merge(pd.pivot_table(data=app_sour[app_sour.trial_time >= app_sour.start_time],index='campaign_name',\n",
    "                            values='cellphone',aggfunc='count',columns='segment'),\n",
    "             left_index=True, right_index=True, how='left')\\\n",
    ".merge(pd.pivot_table(data=app_sour[app_sour.visit_time >= app_sour.start_time],index='campaign_name',\n",
    "                      values='cellphone',aggfunc='count',columns='segment'),\n",
    "       left_index=True, right_index=True, how='left')\\\n",
    ".merge(pd.pivot_table(data=app_sour[app_sour.deal_time >= app_sour.start_time],index='campaign_name',\n",
    "                      values='cellphone',aggfunc='count',columns='segment'),\n",
    "              left_index=True, right_index=True, how='left')"
   ]
  }
 ],
 "metadata": {
  "kernelspec": {
   "display_name": "python37_smcsandbox",
   "language": "python",
   "name": "python3"
  },
  "language_info": {
   "codemirror_mode": {
    "name": "ipython",
    "version": 3
   },
   "file_extension": ".py",
   "mimetype": "text/x-python",
   "name": "python",
   "nbconvert_exporter": "python",
   "pygments_lexer": "ipython3",
   "version": "3.7.5"
  }
 },
 "nbformat": 4,
 "nbformat_minor": 2
}
