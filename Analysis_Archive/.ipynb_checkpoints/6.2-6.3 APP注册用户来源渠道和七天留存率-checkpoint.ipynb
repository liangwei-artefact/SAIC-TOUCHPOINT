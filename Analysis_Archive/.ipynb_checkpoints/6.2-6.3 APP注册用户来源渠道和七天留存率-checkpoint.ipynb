{
 "cells": [
  {
   "cell_type": "code",
   "execution_count": 1,
   "metadata": {},
   "outputs": [],
   "source": [
    "import pandas as pd\n",
    "import numpy as np\n",
    "import datetime\n",
    "from datetime import datetime\n",
    "import itertools"
   ]
  },
  {
   "cell_type": "markdown",
   "metadata": {},
   "source": [
    "##### Fetch data"
   ]
  },
  {
   "cell_type": "code",
   "execution_count": 2,
   "metadata": {},
   "outputs": [],
   "source": [
    "names = ['mobile','action_time','touchpoint_id','action_rank']\n",
    "df = pd.read_csv('data/rw_tp_analysis_base.csv',sep = '\\t', names = names)\n",
    "df['mobile'] = df['mobile'].astype(str)"
   ]
  },
  {
   "cell_type": "code",
   "execution_count": 3,
   "metadata": {},
   "outputs": [],
   "source": [
    "df['touchpoint_id'] = ['013002002000_rw' if i == '013004002000_rw' else i for i in df['touchpoint_id']]"
   ]
  },
  {
   "cell_type": "code",
   "execution_count": 4,
   "metadata": {},
   "outputs": [
    {
     "data": {
      "text/html": [
       "<div>\n",
       "<style scoped>\n",
       "    .dataframe tbody tr th:only-of-type {\n",
       "        vertical-align: middle;\n",
       "    }\n",
       "\n",
       "    .dataframe tbody tr th {\n",
       "        vertical-align: top;\n",
       "    }\n",
       "\n",
       "    .dataframe thead th {\n",
       "        text-align: right;\n",
       "    }\n",
       "</style>\n",
       "<table border=\"1\" class=\"dataframe\">\n",
       "  <thead>\n",
       "    <tr style=\"text-align: right;\">\n",
       "      <th></th>\n",
       "      <th>mobile</th>\n",
       "      <th>action_time</th>\n",
       "      <th>touchpoint_id</th>\n",
       "      <th>action_rank</th>\n",
       "    </tr>\n",
       "  </thead>\n",
       "  <tbody>\n",
       "    <tr>\n",
       "      <th>0</th>\n",
       "      <td>13001009310</td>\n",
       "      <td>2021-03-08 17:52:58</td>\n",
       "      <td>002005005001_rw</td>\n",
       "      <td>1</td>\n",
       "    </tr>\n",
       "    <tr>\n",
       "      <th>1</th>\n",
       "      <td>13001124343</td>\n",
       "      <td>2021-04-24 06:25:03</td>\n",
       "      <td>001008001001_rw</td>\n",
       "      <td>1</td>\n",
       "    </tr>\n",
       "    <tr>\n",
       "      <th>2</th>\n",
       "      <td>13001124343</td>\n",
       "      <td>2021-04-24 06:25:03</td>\n",
       "      <td>001001001000_rw</td>\n",
       "      <td>2</td>\n",
       "    </tr>\n",
       "  </tbody>\n",
       "</table>\n",
       "</div>"
      ],
      "text/plain": [
       "        mobile          action_time    touchpoint_id  action_rank\n",
       "0  13001009310  2021-03-08 17:52:58  002005005001_rw            1\n",
       "1  13001124343  2021-04-24 06:25:03  001008001001_rw            1\n",
       "2  13001124343  2021-04-24 06:25:03  001001001000_rw            2"
      ]
     },
     "execution_count": 4,
     "metadata": {},
     "output_type": "execute_result"
    }
   ],
   "source": [
    "df.head(3)"
   ]
  },
  {
   "cell_type": "code",
   "execution_count": 5,
   "metadata": {},
   "outputs": [],
   "source": [
    "# id mapping\n",
    "id_mapping = pd.read_csv('data/rw_id_mapping.csv')\n",
    "tp_name = {k:v for k,v in zip(id_mapping.touchpoint_id,id_mapping.touchpoint_name)}"
   ]
  },
  {
   "cell_type": "code",
   "execution_count": 6,
   "metadata": {},
   "outputs": [],
   "source": [
    "df = df.merge(id_mapping, on = 'touchpoint_id', how = 'left')"
   ]
  },
  {
   "cell_type": "code",
   "execution_count": 7,
   "metadata": {},
   "outputs": [],
   "source": [
    "df = df[df.touchpoint_id.isna()==False]"
   ]
  },
  {
   "cell_type": "markdown",
   "metadata": {},
   "source": [
    "- 提取关键节点"
   ]
  },
  {
   "cell_type": "code",
   "execution_count": 8,
   "metadata": {},
   "outputs": [
    {
     "name": "stderr",
     "output_type": "stream",
     "text": [
      "/app/anaconda3/envs/python37_smcsandbox/lib/python3.7/site-packages/IPython/core/interactiveshell.py:3063: DtypeWarning: Columns (0) have mixed types.Specify dtype option on import or set low_memory=False.\n",
      "  interactivity=interactivity, compiler=compiler, result=result)\n"
     ]
    }
   ],
   "source": [
    "# RW deal date\n",
    "deal_date = pd.read_csv('data/rw_deal_base.csv',sep = '\\t', names = ['mobile','deal_time'])"
   ]
  },
  {
   "cell_type": "code",
   "execution_count": 19,
   "metadata": {},
   "outputs": [],
   "source": [
    "deal_date = deal_date.dropna()\n",
    "deal_date['deal_time'] = pd.to_datetime(deal_date['deal_time'])\n",
    "min_deal_df = deal_date.groupby(by='mobile',as_index=False).agg({'deal_time':'min'})"
   ]
  },
  {
   "cell_type": "code",
   "execution_count": 20,
   "metadata": {},
   "outputs": [],
   "source": [
    "# 意向前\n",
    "oppor_df = df[df.touchpoint_id == '004000000000_rw']\n",
    "\n",
    "min_oppor_df = oppor_df[['mobile','action_time']].groupby(by='mobile',as_index=False).agg({'action_time':'min'})\n",
    "min_oppor_df.columns = ['mobile','oppor_time']"
   ]
  },
  {
   "cell_type": "code",
   "execution_count": 21,
   "metadata": {},
   "outputs": [],
   "source": [
    "df_arrive_store = df[df.touchpoint_id=='006000000000_rw']\n",
    "min_visit_df = df_arrive_store[['mobile','action_time']].groupby(by='mobile',as_index=False).agg({'action_time':'min'})\\\n",
    ".rename(columns={'action_time':'visit_time'})"
   ]
  },
  {
   "cell_type": "code",
   "execution_count": 22,
   "metadata": {},
   "outputs": [],
   "source": [
    "register_df = df[df.touchpoint_id.str.startswith('002001')].groupby(by='mobile',as_index=False).agg({'action_time':'min'})\n",
    "register_df.columns = ['mobile','register_time']"
   ]
  },
  {
   "cell_type": "markdown",
   "metadata": {},
   "source": [
    "#### 1 - segment"
   ]
  },
  {
   "cell_type": "code",
   "execution_count": 9,
   "metadata": {},
   "outputs": [],
   "source": [
    "# 意向 / 建卡\n",
    "cust_user = df[(df.touchpoint_id == '004000000000_rw') | (df.touchpoint_id == '005000000000_rw')].mobile.unique().tolist()"
   ]
  },
  {
   "cell_type": "code",
   "execution_count": 12,
   "metadata": {},
   "outputs": [],
   "source": [
    "old_deal = deal_date[deal_date.deal_time <= '2020-01-01']\n",
    "new_deal = deal_date[deal_date.deal_time > '2020-01-01']"
   ]
  },
  {
   "cell_type": "code",
   "execution_count": 13,
   "metadata": {},
   "outputs": [
    {
     "name": "stderr",
     "output_type": "stream",
     "text": [
      "/app/anaconda3/envs/python37_smcsandbox/lib/python3.7/site-packages/ipykernel_launcher.py:3: SettingWithCopyWarning: \n",
      "A value is trying to be set on a copy of a slice from a DataFrame\n",
      "\n",
      "See the caveats in the documentation: https://pandas.pydata.org/pandas-docs/stable/user_guide/indexing.html#returning-a-view-versus-a-copy\n",
      "  This is separate from the ipykernel package so we can avoid doing imports until\n"
     ]
    }
   ],
   "source": [
    "# segment\n",
    "df['segment'] = np.nan\n",
    "df['segment'][df.mobile.isin(old_deal.mobile.unique().tolist())] = 'deal' # 'old_deal'\n",
    "df['segment'][df.mobile.isin(new_deal.mobile.unique().tolist())] = 'deal' # 'new_deal'\n",
    "df['segment'][(df.mobile.isin(cust_user)) & (df.segment.isna()==True)] = 'cust'\n",
    "df['segment'] = df['segment'].fillna('potential')"
   ]
  },
  {
   "cell_type": "code",
   "execution_count": 14,
   "metadata": {},
   "outputs": [
    {
     "data": {
      "text/plain": [
       "cust         1429483\n",
       "potential     819071\n",
       "deal          733546\n",
       "Name: segment, dtype: int64"
      ]
     },
     "execution_count": 14,
     "metadata": {},
     "output_type": "execute_result"
    }
   ],
   "source": [
    "df[['mobile','segment']].drop_duplicates().segment.value_counts()"
   ]
  },
  {
   "cell_type": "markdown",
   "metadata": {},
   "source": [
    "#### 一方触点"
   ]
  },
  {
   "cell_type": "code",
   "execution_count": 8,
   "metadata": {},
   "outputs": [],
   "source": [
    "module_dic = {'内容':['002002003000_rw','002002003001_rw','002002003002_rw','002002003003_rw','002002003004_rw',\n",
    "       '002002004000_rw','002002004001_rw','002002004002_rw','002002004003_rw','002002004004_rw',\n",
    "       '002002004005_rw','002002004006_rw','002002004007_rw','002002006000_rw','002002006001_rw',\n",
    "       '002002006002_rw','002002006003_rw','002002007000_rw','002002008000_rw','002002009000_rw',\n",
    "       '002002010000_rw','002002005000_rw','002003003000_rw','002003003001_rw','002003003002_rw','002003004000_rw'],\n",
    " '消息':['002002012000_rw','002002012001_rw','002002012002_rw','002002012003_rw','002002012004_rw',\n",
    "       '002002012005_rw','002002012006_rw','002002012007_rw','002002012008_rw','002002012009_rw',\n",
    "       '002003002000_rw','002003002001_rw','002003002002_rw','002003002003_rw','002003002004_rw',\n",
    "       '002003002005_rw','002003002006_rw','002003002007_rw'],\n",
    " '商城':['002002014000_rw','002002014001_rw'],\n",
    " '搜索':['002002011000_rw','002002011001_rw','002002011002_rw','002002011003_rw','002003001000_rw',\n",
    "       '002003001001_rw','002003001002_rw'],\n",
    " '金融':['002004000000_rw','002004001000_rw','002004003000_rw','002004003001_rw','002004003002_rw','002004003003_rw'],\n",
    " '展厅':['003001000000_rw','003001001000_rw','003001001001_rw','003001001002_rw','003001001003_rw','003001001004_rw',\n",
    "       '003001001005_rw','003001001006_rw','003001001007_rw','003001001008_rw','003001001009_rw','003001001010_rw',\n",
    "       '003001001011_rw','003001001012_rw','003001002000_rw','003001002001_rw','003001002002_rw','003002000000_rw',\n",
    "       '003002001000_rw','003002001001_rw','003002001002_rw','003002001003_rw','003002001004_rw','003002001005_rw',\n",
    "       '003002001006_rw','003002001007_rw','003002001008_rw','003002002000_rw','003002002001_rw','003002002002_rw',\n",
    "       '003002002003_rw','003002004000_rw'],\n",
    " '试驾':['007001001000_rw','007001001001_rw','007001001002_rw','007001001003_rw','007001001004_rw','007001001005_rw',\n",
    "       '007001001006_rw','007001002000_rw','007001002001_rw','007001002002_rw'],\n",
    " '活动':['008002002000_rw','008002002001_rw','008002002002_rw','008002002003_rw','008002002004_rw','008002002005_rw','008002002006_rw',\n",
    "     '008002002007_rw','008002002008_rw','008002002009_rw','008002002010_rw','008002002011_rw','008002003000_rw','008002003001_rw',\n",
    "     '008002005000_rw','008002005001_rw'],\n",
    " '服务':['016001000000_rw','016001002000_rw','016001007000_rw','016001003000_rw','016001004000_rw','016001005000_rw','016001006000_rw']\n",
    "}"
   ]
  },
  {
   "cell_type": "code",
   "execution_count": 9,
   "metadata": {},
   "outputs": [],
   "source": [
    "app_id = []\n",
    "key_id = []\n",
    "for k in module_dic.keys():\n",
    "    app_id += module_dic[k]\n",
    "    len_ = len(module_dic[k])\n",
    "    key_id += [k] * len_\n",
    "    \n",
    "module_map = {k:v for k,v in zip(app_id,key_id)}"
   ]
  },
  {
   "cell_type": "code",
   "execution_count": 10,
   "metadata": {},
   "outputs": [
    {
     "name": "stderr",
     "output_type": "stream",
     "text": [
      "/app/anaconda3/envs/python37_smcsandbox/lib/python3.7/site-packages/ipykernel_launcher.py:2: SettingWithCopyWarning: \n",
      "A value is trying to be set on a copy of a slice from a DataFrame.\n",
      "Try using .loc[row_indexer,col_indexer] = value instead\n",
      "\n",
      "See the caveats in the documentation: https://pandas.pydata.org/pandas-docs/stable/user_guide/indexing.html#returning-a-view-versus-a-copy\n",
      "  \n"
     ]
    }
   ],
   "source": [
    "app_df = df[df.touchpoint_id.isin(app_id)]\n",
    "app_df['module'] = app_df['touchpoint_id'].apply(lambda x:module_map[x])"
   ]
  },
  {
   "cell_type": "code",
   "execution_count": null,
   "metadata": {},
   "outputs": [],
   "source": [
    "# lead_source\n",
    "lead_df = df[df.touchpoint_id.str.startswith('001') & (df.touchpoint_id.str.startswith('001001') == False)\\\n",
    "             & (df.touchpoint_id.str.startswith('001002') == False)]\n",
    "lead_df_g = lead_df[['mobile','action_rank']].groupby(by='mobile',as_index=False).agg({'action_rank':'min'})\n",
    "lead_df_g = lead_df_g.merge(lead_df,on=['mobile','action_rank'],how='inner')\n",
    "lead_df_g['lead_type'] = ['汽车垂媒' if i.startswith('001008') else '非垂媒网销' for i in lead_df_g.touchpoint_id]\n",
    "\n",
    "# cards & oppor\n",
    "card_df = df[(df.touchpoint_id == '004000000000_rw') | (df.touchpoint_id == '005000000000_rw')][['mobile','action_time','touchpoint_id']]"
   ]
  },
  {
   "cell_type": "code",
   "execution_count": null,
   "metadata": {},
   "outputs": [],
   "source": [
    "usr_base = pd.concat([lead_df_g[['mobile']],card_df[['mobile']]]).drop_duplicates()\n",
    "usr_base = usr_base.merge(lead_df_g, on = 'mobile', how = 'left')\n",
    "usr_base['lead_type'] = usr_base['lead_type'].fillna('线下')"
   ]
  },
  {
   "cell_type": "code",
   "execution_count": null,
   "metadata": {},
   "outputs": [],
   "source": [
    "# all user\n",
    "usr_base['lead_type'].value_counts()"
   ]
  },
  {
   "cell_type": "code",
   "execution_count": null,
   "metadata": {},
   "outputs": [],
   "source": [
    "# dealed\n",
    "usr_base.merge(min_deal_df,on='mobile',how='left').groupby(by='lead_type').agg({'deal_time':'count'})"
   ]
  },
  {
   "cell_type": "code",
   "execution_count": null,
   "metadata": {},
   "outputs": [],
   "source": [
    "app_df = app_df.merge(usr_base[['mobile','lead_type']],on='mobile',how='left')"
   ]
  },
  {
   "cell_type": "code",
   "execution_count": null,
   "metadata": {},
   "outputs": [],
   "source": [
    "app_df[['mobile','module','lead_type']].drop_duplicates().groupby(by=['lead_type','module'],as_index=False).agg({'mobile':'count'})\\\n",
    ".to_csv('data/rw_result/app_cov.csv',index=False)"
   ]
  },
  {
   "cell_type": "code",
   "execution_count": null,
   "metadata": {},
   "outputs": [],
   "source": [
    "app_df[['mobile','lead_type']].drop_duplicates().groupby(by=['lead_type'],as_index=False).agg({'mobile':'count'})"
   ]
  },
  {
   "cell_type": "markdown",
   "metadata": {},
   "source": [
    "- 售前、售后两大阶段，不同渠道来源的用户在APP各模块中的覆盖度"
   ]
  },
  {
   "cell_type": "code",
   "execution_count": 16,
   "metadata": {},
   "outputs": [],
   "source": [
    "app_df = app_df.merge(min_deal_df,on='mobile',how='left')"
   ]
  },
  {
   "cell_type": "code",
   "execution_count": 20,
   "metadata": {},
   "outputs": [],
   "source": [
    "app_df['deal_lag'] = (pd.to_datetime(app_df.action_time) - pd.to_datetime(app_df.deal_time)).apply(lambda x:x.days).fillna(-1)\n",
    "app_df['deal_time_flag'] = ['after' if i >= 0 else 'before' for i in app_df['deal_lag']]\n",
    "app_df['deal_flag'] = [1 if i <= 0 and i != -1 else 0 for i in app_df['deal_lag']]"
   ]
  },
  {
   "cell_type": "code",
   "execution_count": null,
   "metadata": {},
   "outputs": [],
   "source": [
    "app_df[['mobile','module','lead_type','deal_time_flag']].drop_duplicates()\\\n",
    ".groupby(by=['lead_type','module','deal_time_flag'],as_index=False).agg({'mobile':'count'})\\\n",
    ".to_csv('data/rw_result/app_cov_by_stage.csv',index=False)"
   ]
  },
  {
   "cell_type": "code",
   "execution_count": null,
   "metadata": {},
   "outputs": [],
   "source": [
    "app_df[['mobile','lead_type','deal_time_flag']].drop_duplicates()\\\n",
    ".groupby(by=['lead_type','deal_time_flag'],as_index=False).agg({'mobile':'count'})\\"
   ]
  },
  {
   "cell_type": "code",
   "execution_count": 34,
   "metadata": {},
   "outputs": [],
   "source": [
    "module_deal = app_df.groupby(by=['mobile','module'],as_index=False).agg({'deal_flag':'max'})"
   ]
  },
  {
   "cell_type": "code",
   "execution_count": 36,
   "metadata": {},
   "outputs": [
    {
     "data": {
      "text/html": [
       "<div>\n",
       "<style scoped>\n",
       "    .dataframe tbody tr th:only-of-type {\n",
       "        vertical-align: middle;\n",
       "    }\n",
       "\n",
       "    .dataframe tbody tr th {\n",
       "        vertical-align: top;\n",
       "    }\n",
       "\n",
       "    .dataframe thead th {\n",
       "        text-align: right;\n",
       "    }\n",
       "</style>\n",
       "<table border=\"1\" class=\"dataframe\">\n",
       "  <thead>\n",
       "    <tr style=\"text-align: right;\">\n",
       "      <th></th>\n",
       "      <th>module</th>\n",
       "      <th>deal_flag</th>\n",
       "    </tr>\n",
       "  </thead>\n",
       "  <tbody>\n",
       "    <tr>\n",
       "      <th>0</th>\n",
       "      <td>内容</td>\n",
       "      <td>0.038243</td>\n",
       "    </tr>\n",
       "    <tr>\n",
       "      <th>1</th>\n",
       "      <td>商城</td>\n",
       "      <td>0.020198</td>\n",
       "    </tr>\n",
       "    <tr>\n",
       "      <th>2</th>\n",
       "      <td>展厅</td>\n",
       "      <td>0.089768</td>\n",
       "    </tr>\n",
       "    <tr>\n",
       "      <th>3</th>\n",
       "      <td>搜索</td>\n",
       "      <td>0.034032</td>\n",
       "    </tr>\n",
       "    <tr>\n",
       "      <th>4</th>\n",
       "      <td>服务</td>\n",
       "      <td>0.054178</td>\n",
       "    </tr>\n",
       "    <tr>\n",
       "      <th>5</th>\n",
       "      <td>活动</td>\n",
       "      <td>0.005279</td>\n",
       "    </tr>\n",
       "    <tr>\n",
       "      <th>6</th>\n",
       "      <td>消息</td>\n",
       "      <td>0.033827</td>\n",
       "    </tr>\n",
       "    <tr>\n",
       "      <th>7</th>\n",
       "      <td>试驾</td>\n",
       "      <td>0.083165</td>\n",
       "    </tr>\n",
       "    <tr>\n",
       "      <th>8</th>\n",
       "      <td>金融</td>\n",
       "      <td>0.162663</td>\n",
       "    </tr>\n",
       "  </tbody>\n",
       "</table>\n",
       "</div>"
      ],
      "text/plain": [
       "  module  deal_flag\n",
       "0     内容   0.038243\n",
       "1     商城   0.020198\n",
       "2     展厅   0.089768\n",
       "3     搜索   0.034032\n",
       "4     服务   0.054178\n",
       "5     活动   0.005279\n",
       "6     消息   0.033827\n",
       "7     试驾   0.083165\n",
       "8     金融   0.162663"
      ]
     },
     "execution_count": 36,
     "metadata": {},
     "output_type": "execute_result"
    }
   ],
   "source": [
    "module_deal.groupby(by='module',as_index=False).agg({'deal_flag':'mean'})"
   ]
  },
  {
   "cell_type": "code",
   "execution_count": 39,
   "metadata": {},
   "outputs": [
    {
     "data": {
      "text/plain": [
       "0.059855060771015954"
      ]
     },
     "execution_count": 39,
     "metadata": {},
     "output_type": "execute_result"
    }
   ],
   "source": [
    "app_df.groupby(by=['mobile'],as_index=False).agg({'deal_flag':'max'}).deal_flag.mean()"
   ]
  },
  {
   "cell_type": "markdown",
   "metadata": {},
   "source": [
    "- 不同内容模块在留资、到店、试驾三个阶段的覆盖度"
   ]
  },
  {
   "cell_type": "code",
   "execution_count": null,
   "metadata": {},
   "outputs": [],
   "source": [
    "# 意向df\n",
    "# df_make_order, df_arrive_store"
   ]
  },
  {
   "cell_type": "code",
   "execution_count": null,
   "metadata": {},
   "outputs": [],
   "source": [
    "app_df = app_df.merge(min_oppor_df,on='mobile',how='left')\n",
    "app_df['oppor_lag'] = (pd.to_datetime(app_df.action_time) - pd.to_datetime(app_df.oppor_time)).apply(lambda x:x.days)\n",
    "app_df['oppor_time_flag'] = ['before_oppor' if i[0] <= 0 and i[1] <= 0 else 'others' for i in zip(app_df['deal_lag'],app_df['oppor_lag'])]"
   ]
  },
  {
   "cell_type": "code",
   "execution_count": null,
   "metadata": {},
   "outputs": [],
   "source": [
    "app_df[['mobile','module','lead_type','oppor_time_flag']].drop_duplicates()\\\n",
    ".groupby(by=['lead_type','module','oppor_time_flag'],as_index=False).agg({'mobile':'count'})\\\n",
    ".to_csv('data/rw_result/app_cov_by_stage_bf_oppor.csv',index=False)"
   ]
  },
  {
   "cell_type": "code",
   "execution_count": null,
   "metadata": {},
   "outputs": [],
   "source": [
    "app_df[['mobile','lead_type','oppor_time_flag']].drop_duplicates()\\\n",
    ".groupby(by=['lead_type','oppor_time_flag'],as_index=False).agg({'mobile':'count'})"
   ]
  },
  {
   "cell_type": "code",
   "execution_count": null,
   "metadata": {},
   "outputs": [],
   "source": [
    "# 意向 - 到店 使用覆盖度\n",
    "app_df = app_df.merge(min_visit_df,on='mobile',how='left')\n",
    "app_df['visit_lag'] = (pd.to_datetime(app_df.action_time) - pd.to_datetime(app_df.visit_time)).apply(lambda x:x.days)\n",
    "app_df['oppor_visit_flag'] = ['oppor_visit' if i[0] >= 0 and i[1] <= 0 else 'others' for i in zip(app_df['oppor_lag'],app_df['visit_lag'])]"
   ]
  },
  {
   "cell_type": "code",
   "execution_count": null,
   "metadata": {},
   "outputs": [],
   "source": [
    "app_df[['mobile','module','lead_type','oppor_visit_flag']].drop_duplicates()\\\n",
    ".groupby(by=['lead_type','module','oppor_visit_flag'],as_index=False).agg({'mobile':'count'})\\\n",
    ".to_csv('data/rw_result/app_cov_by_stage_oppor_visit.csv',index=False)"
   ]
  },
  {
   "cell_type": "code",
   "execution_count": null,
   "metadata": {},
   "outputs": [],
   "source": [
    "app_df[['mobile','lead_type','oppor_visit_flag']].drop_duplicates()\\\n",
    ".groupby(by=['lead_type','oppor_visit_flag'],as_index=False).agg({'mobile':'count'})"
   ]
  },
  {
   "cell_type": "code",
   "execution_count": null,
   "metadata": {},
   "outputs": [],
   "source": [
    "# 到店 - 成交 使用覆盖度\n",
    "app_df['visit_deal_flag'] = ['visit_deal' if i[0] <= 0 and i[0] != -1 and i[1] >= 0 else 'others' for i in zip(app_df['deal_lag'],app_df['visit_lag'])]"
   ]
  },
  {
   "cell_type": "code",
   "execution_count": null,
   "metadata": {},
   "outputs": [],
   "source": [
    "app_df[['mobile','module','lead_type','visit_deal_flag']].drop_duplicates()\\\n",
    ".groupby(by=['lead_type','module','visit_deal_flag'],as_index=False).agg({'mobile':'count'})\\\n",
    ".to_csv('data/rw_result/app_cov_by_stage_visit_deal.csv',index=False)"
   ]
  },
  {
   "cell_type": "code",
   "execution_count": null,
   "metadata": {},
   "outputs": [],
   "source": [
    "app_df[['mobile','lead_type','visit_deal_flag']].drop_duplicates()\\\n",
    ".groupby(by=['lead_type','visit_deal_flag'],as_index=False).agg({'mobile':'count'})"
   ]
  },
  {
   "cell_type": "markdown",
   "metadata": {},
   "source": [
    "- 使用过APP各功能模块之后的7天活跃度"
   ]
  },
  {
   "cell_type": "code",
   "execution_count": 8,
   "metadata": {},
   "outputs": [
    {
     "name": "stderr",
     "output_type": "stream",
     "text": [
      "/app/anaconda3/envs/python37_smcsandbox/lib/python3.7/site-packages/ipykernel_launcher.py:1: SettingWithCopyWarning: \n",
      "A value is trying to be set on a copy of a slice from a DataFrame.\n",
      "Try using .loc[row_indexer,col_indexer] = value instead\n",
      "\n",
      "See the caveats in the documentation: https://pandas.pydata.org/pandas-docs/stable/user_guide/indexing.html#returning-a-view-versus-a-copy\n",
      "  \"\"\"Entry point for launching an IPython kernel.\n"
     ]
    }
   ],
   "source": [
    "app_df['action_date'] = pd.to_datetime(app_df['action_time']).dt.date\n",
    "app_date = app_df[['mobile','action_date','module']].drop_duplicates()\n",
    "app_act = app_date[['mobile','action_date']].drop_duplicates()"
   ]
  },
  {
   "cell_type": "code",
   "execution_count": 42,
   "metadata": {
    "scrolled": true
   },
   "outputs": [
    {
     "name": "stdout",
     "output_type": "stream",
     "text": [
      "Processing: 消息\n",
      "1    63146\n",
      "2    52506\n",
      "3    48674\n",
      "4    45203\n",
      "5    42453\n",
      "6    41621\n",
      "7    40730\n",
      "Name: date_diff, dtype: int64\n",
      "Processing: 商城\n",
      "1    22828\n",
      "2    18828\n",
      "3    17176\n",
      "4    15929\n",
      "5    15076\n",
      "6    14758\n",
      "7    13988\n",
      "Name: date_diff, dtype: int64\n",
      "Processing: 搜索\n",
      "1    25184\n",
      "2    19369\n",
      "3    17642\n",
      "4    16254\n",
      "5    15137\n",
      "6    14846\n",
      "7    14426\n",
      "Name: date_diff, dtype: int64\n",
      "Processing: 金融\n",
      "1    1482\n",
      "2    1114\n",
      "3    1006\n",
      "4     915\n",
      "5     819\n",
      "6     791\n",
      "7     734\n",
      "Name: date_diff, dtype: int64\n",
      "Processing: 展厅\n",
      "1    41086\n",
      "2    31981\n",
      "3    28572\n",
      "4    26515\n",
      "5    24246\n",
      "6    23669\n",
      "7    23334\n",
      "Name: date_diff, dtype: int64\n",
      "Processing: 试驾\n",
      "1    4722\n",
      "2    3572\n",
      "3    3275\n",
      "4    2920\n",
      "5    2739\n",
      "6    2612\n",
      "7    2554\n",
      "Name: date_diff, dtype: int64\n",
      "Processing: 活动\n",
      "1    10652\n",
      "2     8410\n",
      "3     7374\n",
      "4     7043\n",
      "5     6429\n",
      "6     6409\n",
      "7     6061\n",
      "Name: date_diff, dtype: int64\n",
      "Processing: 服务\n",
      "1    136918\n",
      "2    109439\n",
      "3     98638\n",
      "4     91263\n",
      "5     84386\n",
      "6     82092\n",
      "7     79858\n",
      "Name: date_diff, dtype: int64\n"
     ]
    }
   ],
   "source": [
    "for module in ['消息', '商城', '搜索', '金融', '展厅', '试驾', '活动', '服务']:\n",
    "    print('Processing:',module)\n",
    "    tmp_df = app_date[app_date.module == module].merge(app_act,how='left',on='mobile')\n",
    "    tmp_df = tmp_df[tmp_df.action_date_x < tmp_df.action_date_y]\n",
    "    tmp_df['date_diff'] = (tmp_df.action_date_y - tmp_df.action_date_x).apply(lambda x:x.days)\n",
    "    print(tmp_df[['mobile','date_diff']].drop_duplicates().date_diff.value_counts()[:7])"
   ]
  }
 ],
 "metadata": {
  "kernelspec": {
   "display_name": "python37_smcsandbox",
   "language": "python",
   "name": "python3"
  },
  "language_info": {
   "codemirror_mode": {
    "name": "ipython",
    "version": 3
   },
   "file_extension": ".py",
   "mimetype": "text/x-python",
   "name": "python",
   "nbconvert_exporter": "python",
   "pygments_lexer": "ipython3",
   "version": "3.7.5"
  }
 },
 "nbformat": 4,
 "nbformat_minor": 2
}
