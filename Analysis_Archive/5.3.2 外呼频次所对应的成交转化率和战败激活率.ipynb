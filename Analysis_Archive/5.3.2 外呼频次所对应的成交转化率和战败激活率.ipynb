{
 "cells": [
  {
   "cell_type": "code",
   "execution_count": 1,
   "metadata": {},
   "outputs": [],
   "source": [
    "import numpy as np\n",
    "import pandas as pd"
   ]
  },
  {
   "cell_type": "code",
   "execution_count": 2,
   "metadata": {},
   "outputs": [],
   "source": [
    "# 读取数据\n",
    "names = ['mobile','action_time','touchpoint_id','action_rank']\n",
    "df_valid = pd.read_csv('tp_analysis_base.csv',sep = '\\t', names = names)\n",
    "df_valid['mobile'] = df_valid['mobile'].astype(str)\n",
    "\n",
    "tid_cat = pd.read_csv('data/id_mapping.csv')"
   ]
  },
  {
   "cell_type": "code",
   "execution_count": 4,
   "metadata": {},
   "outputs": [],
   "source": [
    "df_zhanbai = df_valid.loc[df_valid.touchpoint_id=='014004000000_tp']\\\n",
    ".groupby('mobile').min()['action_time'].to_frame().reset_index().rename(columns={'action_time':'zhanbai_time'})\n",
    "df_chengjiao = df_valid.loc[df_valid.touchpoint_id=='011000000000_tp']\\\n",
    ".groupby('mobile').min()['action_time'].to_frame().reset_index().rename(columns={'action_time':'chengjiao_time'})"
   ]
  },
  {
   "cell_type": "code",
   "execution_count": 5,
   "metadata": {},
   "outputs": [],
   "source": [
    "tid_list = tid_cat.loc[(tid_cat.level_2=='002011000000_tp') | (tid_cat.level_2=='009003000000_tp')].touchpoint_id"
   ]
  },
  {
   "cell_type": "code",
   "execution_count": 6,
   "metadata": {},
   "outputs": [],
   "source": [
    "df_callsms = df_valid.loc[df_valid.touchpoint_id.isin(tid_list)]"
   ]
  },
  {
   "cell_type": "code",
   "execution_count": 7,
   "metadata": {},
   "outputs": [],
   "source": [
    "df_callsms = pd.merge(df_callsms,tid_cat[['touchpoint_id','touchpoint_level','level_1','level_2','level_3','level_4']],\n",
    "         how='left',on='touchpoint_id')"
   ]
  },
  {
   "cell_type": "code",
   "execution_count": 9,
   "metadata": {},
   "outputs": [],
   "source": [
    "temp = df_callsms[['mobile','level_1','action_time']]\\\n",
    ".append(df_callsms[['mobile','level_2','action_time']].rename(columns={'level_2':'level_1'}))\\\n",
    ".append(df_callsms[['mobile','level_3','action_time']].rename(columns={'level_3':'level_1'}))\\\n",
    ".append(df_callsms[['mobile','level_4','action_time']].rename(columns={'level_4':'level_1'})).rename(columns={'level_1':'touchpoint_id'})"
   ]
  },
  {
   "cell_type": "code",
   "execution_count": 10,
   "metadata": {},
   "outputs": [],
   "source": [
    "temp = pd.merge(temp,df_zhanbai,how='left',on='mobile')\n",
    "temp = pd.merge(temp,df_chengjiao,how='left',on='mobile')"
   ]
  },
  {
   "cell_type": "code",
   "execution_count": 11,
   "metadata": {},
   "outputs": [],
   "source": [
    "def get_first_action(ser):\n",
    "    if pd.isna(ser['zhanbai_time']) or pd.isna(ser['chengjiao_time']):\n",
    "        return ser\n",
    "    elif ser['zhanbai_time']<=ser['chengjiao_time']:\n",
    "        ser['chengjiao_time']=np.nan\n",
    "    elif ser['zhanbai_time']>ser['chengjiao_time']:\n",
    "        ser['zhanbai_time']=np.nan\n",
    "    return ser"
   ]
  },
  {
   "cell_type": "code",
   "execution_count": 12,
   "metadata": {},
   "outputs": [],
   "source": [
    "temp = temp.apply(get_first_action,axis=1)"
   ]
  },
  {
   "cell_type": "code",
   "execution_count": 13,
   "metadata": {},
   "outputs": [],
   "source": [
    "temp = temp.loc[(temp.action_time<temp.zhanbai_time) | (temp.action_time<temp.chengjiao_time)]"
   ]
  },
  {
   "cell_type": "markdown",
   "metadata": {},
   "source": [
    "#### 不同类型的外呼频次所对应的成交转化率"
   ]
  },
  {
   "cell_type": "code",
   "execution_count": 15,
   "metadata": {},
   "outputs": [],
   "source": [
    "res = temp.groupby(['mobile','touchpoint_id']).count()[['action_time','zhanbai_time','chengjiao_time']].reset_index()"
   ]
  },
  {
   "cell_type": "code",
   "execution_count": 16,
   "metadata": {},
   "outputs": [],
   "source": [
    "res['zhanbai_time'] = res.zhanbai_time.replace(0,np.nan)\n",
    "res['chengjiao_time'] = res.chengjiao_time.replace(0,np.nan)"
   ]
  },
  {
   "cell_type": "code",
   "execution_count": 17,
   "metadata": {},
   "outputs": [],
   "source": [
    "res = res.groupby(['touchpoint_id','action_time']).count()[['zhanbai_time','chengjiao_time']].reset_index()"
   ]
  },
  {
   "cell_type": "code",
   "execution_count": 18,
   "metadata": {},
   "outputs": [],
   "source": [
    "temp1 = pd.merge(df_zhanbai,df_chengjiao,how='left',on='mobile')\n",
    "zhanbai_uv = temp1.loc[pd.isna(temp1.chengjiao_time)|(temp1.zhanbai_time<=temp1.chengjiao_time)].groupby('mobile').count().shape[0]\n",
    "temp1 = pd.merge(df_chengjiao,df_zhanbai,how='left',on='mobile')\n",
    "chengjiao_uv = temp1.loc[pd.isna(temp1.zhanbai_time)|(temp1.zhanbai_time>temp1.chengjiao_time)].groupby('mobile').count().shape[0]"
   ]
  },
  {
   "cell_type": "code",
   "execution_count": 19,
   "metadata": {},
   "outputs": [],
   "source": [
    "temp1 = res.groupby('touchpoint_id').sum()[['zhanbai_time','chengjiao_time']]\n",
    "res0 = temp1.copy()\n",
    "res0['zhanbai_time']=zhanbai_uv-temp1.zhanbai_time\n",
    "res0['chengjiao_time']=chengjiao_uv-temp1.chengjiao_time\n",
    "res0['action_time']=0\n",
    "res0 = res0.reset_index()"
   ]
  },
  {
   "cell_type": "code",
   "execution_count": 20,
   "metadata": {},
   "outputs": [],
   "source": [
    "res = res.append(res0[res.columns])"
   ]
  },
  {
   "cell_type": "code",
   "execution_count": 21,
   "metadata": {},
   "outputs": [],
   "source": [
    "res['zhanbai_rate'] = res.zhanbai_time/(res.zhanbai_time+res.chengjiao_time)\n",
    "res['chengjiao_rate'] = res.chengjiao_time/(res.zhanbai_time+res.chengjiao_time)\n",
    "res['zhanbai_dist'] = res.zhanbai_time/zhanbai_uv\n",
    "res['chengjiao_dist'] = res.chengjiao_time/chengjiao_uv\n",
    "res['all_dist'] = (res.zhanbai_time+res.chengjiao_time)/(zhanbai_uv+chengjiao_uv)"
   ]
  },
  {
   "cell_type": "code",
   "execution_count": 25,
   "metadata": {},
   "outputs": [],
   "source": [
    "res.to_csv('战败成交外呼.csv')"
   ]
  },
  {
   "cell_type": "markdown",
   "metadata": {},
   "source": [
    "#### 外呼短信次数战败激活率"
   ]
  },
  {
   "cell_type": "code",
   "execution_count": 123,
   "metadata": {},
   "outputs": [],
   "source": [
    "zhanbai_uv = df_zhanbai.groupby('mobile').count().shape[0]\n",
    "jihuo_uv = df_jihuo.groupby('mobile').count().shape[0]"
   ]
  },
  {
   "cell_type": "code",
   "execution_count": 129,
   "metadata": {},
   "outputs": [],
   "source": [
    "temp1 = res.groupby('touchpoint_id').sum()[['zhanbai_time','jihuo_time']].rename(columns={'zhanbai_time':'1','jihuo_time':'2'})"
   ]
  },
  {
   "cell_type": "code",
   "execution_count": 132,
   "metadata": {},
   "outputs": [],
   "source": [
    "temp1['zhanbai_time'] = zhanbai_uv-temp1['1']\n",
    "temp1['jihuo_time']=jihuo_uv-temp1['2']"
   ]
  },
  {
   "cell_type": "code",
   "execution_count": 134,
   "metadata": {},
   "outputs": [],
   "source": [
    "temp1['action_time']=0\n",
    "temp1['ratio'] = temp1.jihuo_time/temp1.zhanbai_time"
   ]
  },
  {
   "cell_type": "code",
   "execution_count": 138,
   "metadata": {},
   "outputs": [],
   "source": [
    "temp1 = temp1.reset_index()\n",
    "res = res.append(temp1[res.columns])"
   ]
  },
  {
   "cell_type": "code",
   "execution_count": 140,
   "metadata": {},
   "outputs": [],
   "source": [
    "res.to_csv('外呼短信次数转化率.csv')"
   ]
  }
 ],
 "metadata": {
  "kernelspec": {
   "display_name": "python37_tensorflow230",
   "language": "python",
   "name": "python37_tensorflow230"
  },
  "language_info": {
   "codemirror_mode": {
    "name": "ipython",
    "version": 3
   },
   "file_extension": ".py",
   "mimetype": "text/x-python",
   "name": "python",
   "nbconvert_exporter": "python",
   "pygments_lexer": "ipython3",
   "version": "3.7.7"
  }
 },
 "nbformat": 4,
 "nbformat_minor": 2
}
