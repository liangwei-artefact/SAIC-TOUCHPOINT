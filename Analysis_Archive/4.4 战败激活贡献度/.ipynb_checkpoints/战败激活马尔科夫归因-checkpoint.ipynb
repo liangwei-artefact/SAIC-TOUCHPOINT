{
 "cells": [
  {
   "cell_type": "code",
   "execution_count": 64,
   "metadata": {},
   "outputs": [],
   "source": [
    "import re\n",
    "import datetime\n",
    "from pychattr.channel_attribution import MarkovModel\n",
    "import pandas as pd\n",
    "import numpy as np\n",
    "from sklearn.metrics import classification_report"
   ]
  },
  {
   "cell_type": "code",
   "execution_count": 3,
   "metadata": {},
   "outputs": [],
   "source": [
    "# pd.set_option('display.max_colwidth', None)\n",
    "# import findspark\n",
    "# findspark.init(\"/opt/cloudera/parcels/CDH-6.3.1-1.cdh6.3.1.p0.1470567/lib/spark\",\"/usr/bin/python2.7\")\n",
    "\n",
    "# import os\n",
    "# os.environ[\"JAVA_HOME\"] = \"/usr/java/jdk1.8.0_181-cloudera\"\n",
    "\n",
    "# from pyspark.sql import functions as F\n",
    "# from pyspark import SparkContext\n",
    "# from pyspark.sql import SparkSession,HiveContext,Window\n",
    "# from pyspark.sql.types import IntegerType, FloatType, DoubleType, ArrayType, StringType, DecimalType\n",
    "# from pyspark.sql.functions import *\n",
    "\n",
    "# spark_session = SparkSession.builder.enableHiveSupport().appName(\"artefact_attribution_analysis\") \\\n",
    "#     .config(\"spark.driver.memory\",\"50g\") \\\n",
    "#     .config(\"spark.pyspark.driver.python\",\"/usr/bin/python2.7\")\\\n",
    "#     .config(\"spark.pyspark.python\",\"/usr/bin/python2.7\") \\\n",
    "#     .config(\"spark.yarn.executor.memoryOverhead\",\"8G\") \\\n",
    "#     .getOrCreate()\n",
    "# hc = HiveContext(spark_session.sparkContext)"
   ]
  },
  {
   "cell_type": "code",
   "execution_count": 4,
   "metadata": {},
   "outputs": [],
   "source": [
    "# ##using touch_id table\n",
    "# id_mapping = hc.sql('select * from marketing_modeling.dw_touchpoints_id_system')\n",
    "# id_mapping = id_mapping.toPandas()\n",
    "# id_mapping.to_csv('id_mapping.csv')"
   ]
  },
  {
   "cell_type": "code",
   "execution_count": 5,
   "metadata": {},
   "outputs": [],
   "source": [
    "id_mapping = pd.read_csv('id_mapping.csv').drop(columns = ['Unnamed: 0'])"
   ]
  },
  {
   "cell_type": "code",
   "execution_count": 6,
   "metadata": {},
   "outputs": [
    {
     "data": {
      "text/html": [
       "<div>\n",
       "<style scoped>\n",
       "    .dataframe tbody tr th:only-of-type {\n",
       "        vertical-align: middle;\n",
       "    }\n",
       "\n",
       "    .dataframe tbody tr th {\n",
       "        vertical-align: top;\n",
       "    }\n",
       "\n",
       "    .dataframe thead th {\n",
       "        text-align: right;\n",
       "    }\n",
       "</style>\n",
       "<table border=\"1\" class=\"dataframe\">\n",
       "  <thead>\n",
       "    <tr style=\"text-align: right;\">\n",
       "      <th></th>\n",
       "      <th>touchpoint_id</th>\n",
       "      <th>touchpoint_name</th>\n",
       "      <th>touchpoint_level</th>\n",
       "      <th>is_inbound</th>\n",
       "      <th>touchpoint_owner</th>\n",
       "      <th>touchpoint_channel</th>\n",
       "      <th>data_source</th>\n",
       "      <th>level_1</th>\n",
       "      <th>level_2</th>\n",
       "      <th>level_3</th>\n",
       "      <th>level_4</th>\n",
       "      <th>level_1_name</th>\n",
       "      <th>level_2_name</th>\n",
       "      <th>level_3_name</th>\n",
       "      <th>level_4_name</th>\n",
       "    </tr>\n",
       "  </thead>\n",
       "  <tbody>\n",
       "    <tr>\n",
       "      <th>0</th>\n",
       "      <td>003001003008_tp</td>\n",
       "      <td>展厅首页 - 优选网点-查看更多</td>\n",
       "      <td>4</td>\n",
       "      <td>1</td>\n",
       "      <td>1</td>\n",
       "      <td>1</td>\n",
       "      <td>app</td>\n",
       "      <td>003000000000_tp</td>\n",
       "      <td>003001000000_tp</td>\n",
       "      <td>003001003000_tp</td>\n",
       "      <td>003001003008_tp</td>\n",
       "      <td>线上展厅访问</td>\n",
       "      <td>APP展厅访问</td>\n",
       "      <td>展厅首页核心按钮点击</td>\n",
       "      <td>展厅首页 - 优选网点-查看更多</td>\n",
       "    </tr>\n",
       "    <tr>\n",
       "      <th>1</th>\n",
       "      <td>003001003009_tp</td>\n",
       "      <td>展厅首页 - 优选网点-电话</td>\n",
       "      <td>4</td>\n",
       "      <td>1</td>\n",
       "      <td>1</td>\n",
       "      <td>1</td>\n",
       "      <td>app</td>\n",
       "      <td>003000000000_tp</td>\n",
       "      <td>003001000000_tp</td>\n",
       "      <td>003001003000_tp</td>\n",
       "      <td>003001003009_tp</td>\n",
       "      <td>线上展厅访问</td>\n",
       "      <td>APP展厅访问</td>\n",
       "      <td>展厅首页核心按钮点击</td>\n",
       "      <td>展厅首页 - 优选网点-电话</td>\n",
       "    </tr>\n",
       "    <tr>\n",
       "      <th>2</th>\n",
       "      <td>003001003010_tp</td>\n",
       "      <td>展厅首页 - 金融服务</td>\n",
       "      <td>4</td>\n",
       "      <td>1</td>\n",
       "      <td>1</td>\n",
       "      <td>1</td>\n",
       "      <td>app</td>\n",
       "      <td>003000000000_tp</td>\n",
       "      <td>003001000000_tp</td>\n",
       "      <td>003001003000_tp</td>\n",
       "      <td>003001003010_tp</td>\n",
       "      <td>线上展厅访问</td>\n",
       "      <td>APP展厅访问</td>\n",
       "      <td>展厅首页核心按钮点击</td>\n",
       "      <td>展厅首页 - 金融服务</td>\n",
       "    </tr>\n",
       "    <tr>\n",
       "      <th>3</th>\n",
       "      <td>003001003011_tp</td>\n",
       "      <td>展厅首页 - 订购入口</td>\n",
       "      <td>4</td>\n",
       "      <td>1</td>\n",
       "      <td>1</td>\n",
       "      <td>1</td>\n",
       "      <td>app</td>\n",
       "      <td>003000000000_tp</td>\n",
       "      <td>003001000000_tp</td>\n",
       "      <td>003001003000_tp</td>\n",
       "      <td>003001003011_tp</td>\n",
       "      <td>线上展厅访问</td>\n",
       "      <td>APP展厅访问</td>\n",
       "      <td>展厅首页核心按钮点击</td>\n",
       "      <td>展厅首页 - 订购入口</td>\n",
       "    </tr>\n",
       "    <tr>\n",
       "      <th>4</th>\n",
       "      <td>003001003012_tp</td>\n",
       "      <td>展厅首页 - 最近活动</td>\n",
       "      <td>4</td>\n",
       "      <td>1</td>\n",
       "      <td>1</td>\n",
       "      <td>1</td>\n",
       "      <td>app</td>\n",
       "      <td>003000000000_tp</td>\n",
       "      <td>003001000000_tp</td>\n",
       "      <td>003001003000_tp</td>\n",
       "      <td>003001003012_tp</td>\n",
       "      <td>线上展厅访问</td>\n",
       "      <td>APP展厅访问</td>\n",
       "      <td>展厅首页核心按钮点击</td>\n",
       "      <td>展厅首页 - 最近活动</td>\n",
       "    </tr>\n",
       "  </tbody>\n",
       "</table>\n",
       "</div>"
      ],
      "text/plain": [
       "     touchpoint_id   touchpoint_name  touchpoint_level is_inbound  \\\n",
       "0  003001003008_tp  展厅首页 - 优选网点-查看更多                 4          1   \n",
       "1  003001003009_tp    展厅首页 - 优选网点-电话                 4          1   \n",
       "2  003001003010_tp       展厅首页 - 金融服务                 4          1   \n",
       "3  003001003011_tp       展厅首页 - 订购入口                 4          1   \n",
       "4  003001003012_tp       展厅首页 - 最近活动                 4          1   \n",
       "\n",
       "  touchpoint_owner touchpoint_channel data_source          level_1  \\\n",
       "0                1                  1         app  003000000000_tp   \n",
       "1                1                  1         app  003000000000_tp   \n",
       "2                1                  1         app  003000000000_tp   \n",
       "3                1                  1         app  003000000000_tp   \n",
       "4                1                  1         app  003000000000_tp   \n",
       "\n",
       "           level_2          level_3          level_4 level_1_name  \\\n",
       "0  003001000000_tp  003001003000_tp  003001003008_tp       线上展厅访问   \n",
       "1  003001000000_tp  003001003000_tp  003001003009_tp       线上展厅访问   \n",
       "2  003001000000_tp  003001003000_tp  003001003010_tp       线上展厅访问   \n",
       "3  003001000000_tp  003001003000_tp  003001003011_tp       线上展厅访问   \n",
       "4  003001000000_tp  003001003000_tp  003001003012_tp       线上展厅访问   \n",
       "\n",
       "  level_2_name level_3_name      level_4_name  \n",
       "0      APP展厅访问   展厅首页核心按钮点击  展厅首页 - 优选网点-查看更多  \n",
       "1      APP展厅访问   展厅首页核心按钮点击    展厅首页 - 优选网点-电话  \n",
       "2      APP展厅访问   展厅首页核心按钮点击       展厅首页 - 金融服务  \n",
       "3      APP展厅访问   展厅首页核心按钮点击       展厅首页 - 订购入口  \n",
       "4      APP展厅访问   展厅首页核心按钮点击       展厅首页 - 最近活动  "
      ]
     },
     "execution_count": 6,
     "metadata": {},
     "output_type": "execute_result"
    }
   ],
   "source": [
    "id_mapping.head()"
   ]
  },
  {
   "cell_type": "code",
   "execution_count": 7,
   "metadata": {},
   "outputs": [],
   "source": [
    "df = pd.read_csv('/home/mam_jupyter/jupyter_dir/artefact/attribution/tp_analysis/tp_analysis_base.csv',sep = '\\t',header = None)\n"
   ]
  },
  {
   "cell_type": "code",
   "execution_count": 8,
   "metadata": {},
   "outputs": [
    {
     "data": {
      "text/html": [
       "<div>\n",
       "<style scoped>\n",
       "    .dataframe tbody tr th:only-of-type {\n",
       "        vertical-align: middle;\n",
       "    }\n",
       "\n",
       "    .dataframe tbody tr th {\n",
       "        vertical-align: top;\n",
       "    }\n",
       "\n",
       "    .dataframe thead th {\n",
       "        text-align: right;\n",
       "    }\n",
       "</style>\n",
       "<table border=\"1\" class=\"dataframe\">\n",
       "  <thead>\n",
       "    <tr style=\"text-align: right;\">\n",
       "      <th></th>\n",
       "      <th>0</th>\n",
       "      <th>1</th>\n",
       "      <th>2</th>\n",
       "      <th>3</th>\n",
       "      <th>4</th>\n",
       "      <th>5</th>\n",
       "      <th>6</th>\n",
       "      <th>7</th>\n",
       "    </tr>\n",
       "  </thead>\n",
       "  <tbody>\n",
       "    <tr>\n",
       "      <th>0</th>\n",
       "      <td>13000000133</td>\n",
       "      <td>002011005007_tp</td>\n",
       "      <td>2020-10-28 11:16:45</td>\n",
       "      <td>1</td>\n",
       "      <td>NaN</td>\n",
       "      <td>NaN</td>\n",
       "      <td>NaN</td>\n",
       "      <td>NaN</td>\n",
       "    </tr>\n",
       "    <tr>\n",
       "      <th>1</th>\n",
       "      <td>13000001122</td>\n",
       "      <td>009002001000_tp</td>\n",
       "      <td>2020-09-11 11:08:51</td>\n",
       "      <td>17</td>\n",
       "      <td>2020-09-10 16:42:19</td>\n",
       "      <td>009002007000_tp</td>\n",
       "      <td>17.0</td>\n",
       "      <td>-1.0</td>\n",
       "    </tr>\n",
       "    <tr>\n",
       "      <th>2</th>\n",
       "      <td>13000009999</td>\n",
       "      <td>009002003000_tp</td>\n",
       "      <td>2020-07-03 22:32:36</td>\n",
       "      <td>25</td>\n",
       "      <td>2020-06-30 22:23:49</td>\n",
       "      <td>009002001000_tp</td>\n",
       "      <td>25.0</td>\n",
       "      <td>-3.0</td>\n",
       "    </tr>\n",
       "    <tr>\n",
       "      <th>3</th>\n",
       "      <td>13001035033</td>\n",
       "      <td>002009001003_tp</td>\n",
       "      <td>2020-06-24 11:20:03</td>\n",
       "      <td>24</td>\n",
       "      <td>2020-06-23 08:42:48</td>\n",
       "      <td>002009001003_tp</td>\n",
       "      <td>24.0</td>\n",
       "      <td>-1.0</td>\n",
       "    </tr>\n",
       "    <tr>\n",
       "      <th>4</th>\n",
       "      <td>13001055006</td>\n",
       "      <td>002011005007_tp</td>\n",
       "      <td>2020-10-28 10:46:06</td>\n",
       "      <td>10</td>\n",
       "      <td>2020-10-20 13:39:53</td>\n",
       "      <td>002011001003_tp</td>\n",
       "      <td>10.0</td>\n",
       "      <td>-8.0</td>\n",
       "    </tr>\n",
       "  </tbody>\n",
       "</table>\n",
       "</div>"
      ],
      "text/plain": [
       "             0                1                    2   3                    4  \\\n",
       "0  13000000133  002011005007_tp  2020-10-28 11:16:45   1                  NaN   \n",
       "1  13000001122  009002001000_tp  2020-09-11 11:08:51  17  2020-09-10 16:42:19   \n",
       "2  13000009999  009002003000_tp  2020-07-03 22:32:36  25  2020-06-30 22:23:49   \n",
       "3  13001035033  002009001003_tp  2020-06-24 11:20:03  24  2020-06-23 08:42:48   \n",
       "4  13001055006  002011005007_tp  2020-10-28 10:46:06  10  2020-10-20 13:39:53   \n",
       "\n",
       "                 5     6    7  \n",
       "0              NaN   NaN  NaN  \n",
       "1  009002007000_tp  17.0 -1.0  \n",
       "2  009002001000_tp  25.0 -3.0  \n",
       "3  002009001003_tp  24.0 -1.0  \n",
       "4  002011001003_tp  10.0 -8.0  "
      ]
     },
     "execution_count": 8,
     "metadata": {},
     "output_type": "execute_result"
    }
   ],
   "source": [
    "df.head()"
   ]
  },
  {
   "cell_type": "code",
   "execution_count": 9,
   "metadata": {},
   "outputs": [],
   "source": [
    "df = df.rename(columns = {0:'mobile',1:'touchpoint_id',2:'action_time'})"
   ]
  },
  {
   "cell_type": "code",
   "execution_count": 10,
   "metadata": {},
   "outputs": [
    {
     "data": {
      "text/html": [
       "<div>\n",
       "<style scoped>\n",
       "    .dataframe tbody tr th:only-of-type {\n",
       "        vertical-align: middle;\n",
       "    }\n",
       "\n",
       "    .dataframe tbody tr th {\n",
       "        vertical-align: top;\n",
       "    }\n",
       "\n",
       "    .dataframe thead th {\n",
       "        text-align: right;\n",
       "    }\n",
       "</style>\n",
       "<table border=\"1\" class=\"dataframe\">\n",
       "  <thead>\n",
       "    <tr style=\"text-align: right;\">\n",
       "      <th></th>\n",
       "      <th>mobile</th>\n",
       "      <th>action_time</th>\n",
       "      <th>touchpoint_id</th>\n",
       "    </tr>\n",
       "  </thead>\n",
       "  <tbody>\n",
       "    <tr>\n",
       "      <th>0</th>\n",
       "      <td>13000000133</td>\n",
       "      <td>2020-10-28 11:16:45</td>\n",
       "      <td>002011005007_tp</td>\n",
       "    </tr>\n",
       "    <tr>\n",
       "      <th>1</th>\n",
       "      <td>13000001122</td>\n",
       "      <td>2020-09-11 11:08:51</td>\n",
       "      <td>009002001000_tp</td>\n",
       "    </tr>\n",
       "    <tr>\n",
       "      <th>2</th>\n",
       "      <td>13000009999</td>\n",
       "      <td>2020-07-03 22:32:36</td>\n",
       "      <td>009002003000_tp</td>\n",
       "    </tr>\n",
       "    <tr>\n",
       "      <th>3</th>\n",
       "      <td>13001035033</td>\n",
       "      <td>2020-06-24 11:20:03</td>\n",
       "      <td>002009001003_tp</td>\n",
       "    </tr>\n",
       "    <tr>\n",
       "      <th>4</th>\n",
       "      <td>13001055006</td>\n",
       "      <td>2020-10-28 10:46:06</td>\n",
       "      <td>002011005007_tp</td>\n",
       "    </tr>\n",
       "  </tbody>\n",
       "</table>\n",
       "</div>"
      ],
      "text/plain": [
       "        mobile          action_time    touchpoint_id\n",
       "0  13000000133  2020-10-28 11:16:45  002011005007_tp\n",
       "1  13000001122  2020-09-11 11:08:51  009002001000_tp\n",
       "2  13000009999  2020-07-03 22:32:36  009002003000_tp\n",
       "3  13001035033  2020-06-24 11:20:03  002009001003_tp\n",
       "4  13001055006  2020-10-28 10:46:06  002011005007_tp"
      ]
     },
     "execution_count": 10,
     "metadata": {},
     "output_type": "execute_result"
    }
   ],
   "source": [
    "df = df[['mobile','action_time','touchpoint_id']]\n",
    "df.head()"
   ]
  },
  {
   "cell_type": "code",
   "execution_count": 11,
   "metadata": {},
   "outputs": [
    {
     "name": "stdout",
     "output_type": "stream",
     "text": [
      "<class 'pandas.core.frame.DataFrame'>\n",
      "RangeIndex: 44510800 entries, 0 to 44510799\n",
      "Data columns (total 3 columns):\n",
      " #   Column         Dtype \n",
      "---  ------         ----- \n",
      " 0   mobile         int64 \n",
      " 1   action_time    object\n",
      " 2   touchpoint_id  object\n",
      "dtypes: int64(1), object(2)\n",
      "memory usage: 1018.8+ MB\n"
     ]
    }
   ],
   "source": [
    "df.info()"
   ]
  },
  {
   "cell_type": "code",
   "execution_count": 12,
   "metadata": {},
   "outputs": [],
   "source": [
    "def preprocess(df):\n",
    "    df.dropna(inplace = True)\n",
    "    df['mobile'] = df['mobile'].astype('string')\n",
    "    ##filter the uncleaned mobile\n",
    "    df = df[df.mobile.str.contains('^1\\d{10}$')]\n",
    "    ##phone number of dealer to remove\n",
    "    mobile_to_remove = pd.read_csv('mobile_to_remove.csv').drop(columns =[ 'Unnamed: 0'])\n",
    "    mobile_to_remove_list = mobile_to_remove.mobile.unique()\n",
    "    df = df[~df.mobile.isin(mobile_to_remove_list)]\n",
    "    ##删除无效节点：005000000000_tp，004000000000_tp\n",
    "    df = df[~df.touchpoint_id.isin(['005000000000_tp','004000000000_tp'])]\n",
    "    return df"
   ]
  },
  {
   "cell_type": "code",
   "execution_count": 13,
   "metadata": {},
   "outputs": [],
   "source": [
    "df = preprocess(df)"
   ]
  },
  {
   "cell_type": "code",
   "execution_count": 14,
   "metadata": {},
   "outputs": [
    {
     "name": "stdout",
     "output_type": "stream",
     "text": [
      "<class 'pandas.core.frame.DataFrame'>\n",
      "Int64Index: 38801894 entries, 0 to 44510798\n",
      "Data columns (total 3 columns):\n",
      " #   Column         Dtype \n",
      "---  ------         ----- \n",
      " 0   mobile         string\n",
      " 1   action_time    object\n",
      " 2   touchpoint_id  object\n",
      "dtypes: object(2), string(1)\n",
      "memory usage: 1.2+ GB\n"
     ]
    }
   ],
   "source": [
    "df.info()"
   ]
  },
  {
   "cell_type": "code",
   "execution_count": 15,
   "metadata": {},
   "outputs": [],
   "source": [
    "##use toucpoint_name\n",
    "df = df.merge(id_mapping[['touchpoint_id','touchpoint_name']], on = 'touchpoint_id')\n",
    "df = df[['mobile','action_time','touchpoint_name']]"
   ]
  },
  {
   "cell_type": "code",
   "execution_count": 16,
   "metadata": {},
   "outputs": [],
   "source": [
    "# link consumer journey\n",
    "df = df.sort_values(['mobile', 'action_time'],ascending=[False, True])\n",
    "df_paths = df.groupby('mobile')['touchpoint_name'].aggregate(lambda x: x.tolist()).reset_index()"
   ]
  },
  {
   "cell_type": "code",
   "execution_count": 17,
   "metadata": {},
   "outputs": [
    {
     "data": {
      "text/html": [
       "<div>\n",
       "<style scoped>\n",
       "    .dataframe tbody tr th:only-of-type {\n",
       "        vertical-align: middle;\n",
       "    }\n",
       "\n",
       "    .dataframe tbody tr th {\n",
       "        vertical-align: top;\n",
       "    }\n",
       "\n",
       "    .dataframe thead th {\n",
       "        text-align: right;\n",
       "    }\n",
       "</style>\n",
       "<table border=\"1\" class=\"dataframe\">\n",
       "  <thead>\n",
       "    <tr style=\"text-align: right;\">\n",
       "      <th></th>\n",
       "      <th>mobile</th>\n",
       "      <th>touchpoint_name</th>\n",
       "    </tr>\n",
       "  </thead>\n",
       "  <tbody>\n",
       "    <tr>\n",
       "      <th>0</th>\n",
       "      <td>13000000003</td>\n",
       "      <td>[销售代表跟进电话, 线上其他活动, 收到短信潜客主题, 销售代表跟进电话, 完全战败, 同意战败申请, 收到短信活动主题, 收到短信其他主题, 收到短信其他主题, SIS接通时长(0,10s), SIS接通时长[10s, 30s), SIS接通时长(0,10s), 收到短信战败主题, 收到短信战败主题]</td>\n",
       "    </tr>\n",
       "    <tr>\n",
       "      <th>1</th>\n",
       "      <td>13000000004</td>\n",
       "      <td>[SIS接通时长(0,10s), SIS外呼未接通]</td>\n",
       "    </tr>\n",
       "    <tr>\n",
       "      <th>2</th>\n",
       "      <td>13000000005</td>\n",
       "      <td>[销售代表跟进进入展厅, 线上其他活动, 收到短信潜客主题, 销售代表跟进电话, 完全战败, 同意战败申请, 收到短信其他主题]</td>\n",
       "    </tr>\n",
       "    <tr>\n",
       "      <th>3</th>\n",
       "      <td>13000000008</td>\n",
       "      <td>[收到短信其他主题, 收到短信其他主题, AI外呼未接通]</td>\n",
       "    </tr>\n",
       "    <tr>\n",
       "      <th>4</th>\n",
       "      <td>13000000012</td>\n",
       "      <td>[收到短信其他主题]</td>\n",
       "    </tr>\n",
       "  </tbody>\n",
       "</table>\n",
       "</div>"
      ],
      "text/plain": [
       "        mobile  \\\n",
       "0  13000000003   \n",
       "1  13000000004   \n",
       "2  13000000005   \n",
       "3  13000000008   \n",
       "4  13000000012   \n",
       "\n",
       "                                                                                                                                             touchpoint_name  \n",
       "0  [销售代表跟进电话, 线上其他活动, 收到短信潜客主题, 销售代表跟进电话, 完全战败, 同意战败申请, 收到短信活动主题, 收到短信其他主题, 收到短信其他主题, SIS接通时长(0,10s), SIS接通时长[10s, 30s), SIS接通时长(0,10s), 收到短信战败主题, 收到短信战败主题]  \n",
       "1                                                                                                                                 [SIS接通时长(0,10s), SIS外呼未接通]  \n",
       "2                                                                                           [销售代表跟进进入展厅, 线上其他活动, 收到短信潜客主题, 销售代表跟进电话, 完全战败, 同意战败申请, 收到短信其他主题]  \n",
       "3                                                                                                                              [收到短信其他主题, 收到短信其他主题, AI外呼未接通]  \n",
       "4                                                                                                                                                 [收到短信其他主题]  "
      ]
     },
     "execution_count": 17,
     "metadata": {},
     "output_type": "execute_result"
    }
   ],
   "source": [
    "df_paths.head()"
   ]
  },
  {
   "cell_type": "code",
   "execution_count": 18,
   "metadata": {},
   "outputs": [],
   "source": [
    "def if_has_endpoint(touchpoint_id,list1):\n",
    "    if touchpoint_id in list1:\n",
    "        return 1\n",
    "    else:\n",
    "        return 0\n",
    "\n",
    "def exclude_endpoint(touchpoint_id,list1):\n",
    "    list1 = list1[:list1.index(touchpoint_id)]\n",
    "    return list1"
   ]
  },
  {
   "cell_type": "code",
   "execution_count": 21,
   "metadata": {},
   "outputs": [],
   "source": [
    "##只保留战败用户\n",
    "df_paths['if_ever_failed'] = df_paths['touchpoint_name'].apply(lambda x:if_has_endpoint('完全战败',x))"
   ]
  },
  {
   "cell_type": "code",
   "execution_count": 22,
   "metadata": {},
   "outputs": [
    {
     "data": {
      "text/plain": [
       "0    2513717\n",
       "1     826064\n",
       "Name: if_ever_failed, dtype: int64"
      ]
     },
     "execution_count": 22,
     "metadata": {},
     "output_type": "execute_result"
    }
   ],
   "source": [
    "df_paths.if_ever_failed.value_counts()"
   ]
  },
  {
   "cell_type": "code",
   "execution_count": 23,
   "metadata": {},
   "outputs": [
    {
     "name": "stdout",
     "output_type": "stream",
     "text": [
      "<class 'pandas.core.frame.DataFrame'>\n",
      "Int64Index: 826064 entries, 0 to 3339778\n",
      "Data columns (total 2 columns):\n",
      " #   Column           Non-Null Count   Dtype \n",
      "---  ------           --------------   ----- \n",
      " 0   mobile           826064 non-null  object\n",
      " 1   touchpoint_name  826064 non-null  object\n",
      "dtypes: object(2)\n",
      "memory usage: 18.9+ MB\n"
     ]
    }
   ],
   "source": [
    "df_paths = df_paths[df_paths.if_ever_failed == 1][['mobile','touchpoint_name']]\n",
    "df_paths.info()"
   ]
  },
  {
   "cell_type": "code",
   "execution_count": 25,
   "metadata": {},
   "outputs": [
    {
     "data": {
      "text/plain": [
       "0    672666\n",
       "1    153398\n",
       "Name: if_activated, dtype: int64"
      ]
     },
     "execution_count": 25,
     "metadata": {},
     "output_type": "execute_result"
    }
   ],
   "source": [
    "##产生战败唤醒的标签\n",
    "df_paths['if_activated'] = df_paths['touchpoint_name'].apply(lambda x:if_has_endpoint('战败唤醒',x))\n",
    "df_paths.if_activated.value_counts()"
   ]
  },
  {
   "cell_type": "code",
   "execution_count": 26,
   "metadata": {},
   "outputs": [],
   "source": [
    "df_paths.loc[df_paths.if_activated == 1,'touchpoint_name'] = df_paths.loc[df_paths.if_activated == 1,'touchpoint_name'].apply(lambda x:exclude_endpoint('战败唤醒',x))\n",
    "df_paths = df_paths[df_paths['touchpoint_name'].str.len() > 0]"
   ]
  },
  {
   "cell_type": "code",
   "execution_count": 27,
   "metadata": {},
   "outputs": [
    {
     "data": {
      "text/plain": [
       "0    672666\n",
       "1    153398\n",
       "Name: if_activated, dtype: int64"
      ]
     },
     "execution_count": 27,
     "metadata": {},
     "output_type": "execute_result"
    }
   ],
   "source": [
    "df_paths.if_activated.value_counts()"
   ]
  },
  {
   "cell_type": "code",
   "execution_count": 28,
   "metadata": {},
   "outputs": [
    {
     "data": {
      "text/html": [
       "<div>\n",
       "<style scoped>\n",
       "    .dataframe tbody tr th:only-of-type {\n",
       "        vertical-align: middle;\n",
       "    }\n",
       "\n",
       "    .dataframe tbody tr th {\n",
       "        vertical-align: top;\n",
       "    }\n",
       "\n",
       "    .dataframe thead th {\n",
       "        text-align: right;\n",
       "    }\n",
       "</style>\n",
       "<table border=\"1\" class=\"dataframe\">\n",
       "  <thead>\n",
       "    <tr style=\"text-align: right;\">\n",
       "      <th></th>\n",
       "      <th>mobile</th>\n",
       "      <th>touchpoint_name</th>\n",
       "      <th>if_activated</th>\n",
       "    </tr>\n",
       "  </thead>\n",
       "  <tbody>\n",
       "    <tr>\n",
       "      <th>0</th>\n",
       "      <td>13000000003</td>\n",
       "      <td>[销售代表跟进电话, 线上其他活动, 收到短信潜客主题, 销售代表跟进电话, 完全战败, 同意战败申请, 收到短信活动主题, 收到短信其他主题, 收到短信其他主题, SIS接通时长(0,10s), SIS接通时长[10s, 30s), SIS接通时长(0,10s), 收到短信战败主题, 收到短信战败主题]</td>\n",
       "      <td>0</td>\n",
       "    </tr>\n",
       "    <tr>\n",
       "      <th>2</th>\n",
       "      <td>13000000005</td>\n",
       "      <td>[销售代表跟进进入展厅, 线上其他活动, 收到短信潜客主题, 销售代表跟进电话, 完全战败, 同意战败申请, 收到短信其他主题]</td>\n",
       "      <td>0</td>\n",
       "    </tr>\n",
       "    <tr>\n",
       "      <th>134</th>\n",
       "      <td>13000001000</td>\n",
       "      <td>[线索首触-地域, 线索首触-品牌, 名爵官网试乘试驾, 销售代表跟进邀约, 销售代表跟进展厅接待, 完全战败, 同意战败申请, AI外呼未接通, AI外呼未接通, AI外呼未接通, AI外呼未接通, AI外呼未接通, AI外呼未接通, AI外呼未接通, AI外呼未接通, AI外呼未接通, AI外呼未接通]</td>\n",
       "      <td>0</td>\n",
       "    </tr>\n",
       "    <tr>\n",
       "      <th>135</th>\n",
       "      <td>13000001110</td>\n",
       "      <td>[汽车之家采买, 线索首触-地域, 线索首触-品牌, 销售代表跟进邀约, 销售代表跟进邀约, 销售代表跟进邀约, 销售代表跟进电话, 同意战败申请, 销售代表跟进展厅接待, 同意战败申请, 销售代表跟进电话, 完全战败, 同意战败申请, SIS外呼未接通, SIS外呼未接通, 收到短信其他主题]</td>\n",
       "      <td>0</td>\n",
       "    </tr>\n",
       "    <tr>\n",
       "      <th>137</th>\n",
       "      <td>13000001123</td>\n",
       "      <td>[线索首触-地域, 线索首触-品牌, 天猫, 销售代表跟进邀约, 论坛, 销售代表跟进邀约, 销售代表跟进展厅接待, 完全战败, 同意战败申请, 收到短信其他主题, AI外呼未接通, AI外呼未接通]</td>\n",
       "      <td>0</td>\n",
       "    </tr>\n",
       "  </tbody>\n",
       "</table>\n",
       "</div>"
      ],
      "text/plain": [
       "          mobile  \\\n",
       "0    13000000003   \n",
       "2    13000000005   \n",
       "134  13000001000   \n",
       "135  13000001110   \n",
       "137  13000001123   \n",
       "\n",
       "                                                                                                                                                touchpoint_name  \\\n",
       "0     [销售代表跟进电话, 线上其他活动, 收到短信潜客主题, 销售代表跟进电话, 完全战败, 同意战败申请, 收到短信活动主题, 收到短信其他主题, 收到短信其他主题, SIS接通时长(0,10s), SIS接通时长[10s, 30s), SIS接通时长(0,10s), 收到短信战败主题, 收到短信战败主题]   \n",
       "2                                                                                              [销售代表跟进进入展厅, 线上其他活动, 收到短信潜客主题, 销售代表跟进电话, 完全战败, 同意战败申请, 收到短信其他主题]   \n",
       "134  [线索首触-地域, 线索首触-品牌, 名爵官网试乘试驾, 销售代表跟进邀约, 销售代表跟进展厅接待, 完全战败, 同意战败申请, AI外呼未接通, AI外呼未接通, AI外呼未接通, AI外呼未接通, AI外呼未接通, AI外呼未接通, AI外呼未接通, AI外呼未接通, AI外呼未接通, AI外呼未接通]   \n",
       "135        [汽车之家采买, 线索首触-地域, 线索首触-品牌, 销售代表跟进邀约, 销售代表跟进邀约, 销售代表跟进邀约, 销售代表跟进电话, 同意战败申请, 销售代表跟进展厅接待, 同意战败申请, 销售代表跟进电话, 完全战败, 同意战败申请, SIS外呼未接通, SIS外呼未接通, 收到短信其他主题]   \n",
       "137                                                        [线索首触-地域, 线索首触-品牌, 天猫, 销售代表跟进邀约, 论坛, 销售代表跟进邀约, 销售代表跟进展厅接待, 完全战败, 同意战败申请, 收到短信其他主题, AI外呼未接通, AI外呼未接通]   \n",
       "\n",
       "     if_activated  \n",
       "0               0  \n",
       "2               0  \n",
       "134             0  \n",
       "135             0  \n",
       "137             0  "
      ]
     },
     "execution_count": 28,
     "metadata": {},
     "output_type": "execute_result"
    }
   ],
   "source": [
    "df_paths.head()"
   ]
  },
  {
   "cell_type": "code",
   "execution_count": 30,
   "metadata": {},
   "outputs": [],
   "source": [
    "## generate label for all touchpoint_id\n",
    "touchpoint_list = df.touchpoint_name.unique()\n",
    "for i in touchpoint_list:\n",
    "    tmp = '{}'.format(i)\n",
    "    df_paths[tmp] = df_paths['touchpoint_name'].apply(lambda x:if_has_endpoint(i,x))"
   ]
  },
  {
   "cell_type": "code",
   "execution_count": 31,
   "metadata": {},
   "outputs": [
    {
     "data": {
      "text/html": [
       "<div>\n",
       "<style scoped>\n",
       "    .dataframe tbody tr th:only-of-type {\n",
       "        vertical-align: middle;\n",
       "    }\n",
       "\n",
       "    .dataframe tbody tr th {\n",
       "        vertical-align: top;\n",
       "    }\n",
       "\n",
       "    .dataframe thead th {\n",
       "        text-align: right;\n",
       "    }\n",
       "</style>\n",
       "<table border=\"1\" class=\"dataframe\">\n",
       "  <thead>\n",
       "    <tr style=\"text-align: right;\">\n",
       "      <th></th>\n",
       "      <th>mobile</th>\n",
       "      <th>touchpoint_name</th>\n",
       "      <th>if_activated</th>\n",
       "      <th>汽车之家采买</th>\n",
       "      <th>销售代表跟进电话</th>\n",
       "      <th>销售代表跟进其他</th>\n",
       "      <th>销售代表跟进进入展厅</th>\n",
       "      <th>团购促销类</th>\n",
       "      <th>销售代表跟进展厅接待</th>\n",
       "      <th>同意战败申请</th>\n",
       "      <th>...</th>\n",
       "      <th>浏览H5文案</th>\n",
       "      <th>KBU活动集客-大屏</th>\n",
       "      <th>其他活动参与</th>\n",
       "      <th>一键留资</th>\n",
       "      <th>工商银行</th>\n",
       "      <th>社交渠道</th>\n",
       "      <th>地区性网站</th>\n",
       "      <th>支付宝注册</th>\n",
       "      <th>平安租赁</th>\n",
       "      <th>抖音</th>\n",
       "    </tr>\n",
       "  </thead>\n",
       "  <tbody>\n",
       "    <tr>\n",
       "      <th>0</th>\n",
       "      <td>13000000003</td>\n",
       "      <td>[销售代表跟进电话, 线上其他活动, 收到短信潜客主题, 销售代表跟进电话, 完全战败, 同意战败申请, 收到短信活动主题, 收到短信其他主题, 收到短信其他主题, SIS接通时长(0,10s), SIS接通时长[10s, 30s), SIS接通时长(0,10s), 收到短信战败主题, 收到短信战败主题]</td>\n",
       "      <td>0</td>\n",
       "      <td>0</td>\n",
       "      <td>1</td>\n",
       "      <td>0</td>\n",
       "      <td>0</td>\n",
       "      <td>0</td>\n",
       "      <td>0</td>\n",
       "      <td>1</td>\n",
       "      <td>...</td>\n",
       "      <td>0</td>\n",
       "      <td>0</td>\n",
       "      <td>0</td>\n",
       "      <td>0</td>\n",
       "      <td>0</td>\n",
       "      <td>0</td>\n",
       "      <td>0</td>\n",
       "      <td>0</td>\n",
       "      <td>0</td>\n",
       "      <td>0</td>\n",
       "    </tr>\n",
       "    <tr>\n",
       "      <th>2</th>\n",
       "      <td>13000000005</td>\n",
       "      <td>[销售代表跟进进入展厅, 线上其他活动, 收到短信潜客主题, 销售代表跟进电话, 完全战败, 同意战败申请, 收到短信其他主题]</td>\n",
       "      <td>0</td>\n",
       "      <td>0</td>\n",
       "      <td>1</td>\n",
       "      <td>0</td>\n",
       "      <td>1</td>\n",
       "      <td>0</td>\n",
       "      <td>0</td>\n",
       "      <td>1</td>\n",
       "      <td>...</td>\n",
       "      <td>0</td>\n",
       "      <td>0</td>\n",
       "      <td>0</td>\n",
       "      <td>0</td>\n",
       "      <td>0</td>\n",
       "      <td>0</td>\n",
       "      <td>0</td>\n",
       "      <td>0</td>\n",
       "      <td>0</td>\n",
       "      <td>0</td>\n",
       "    </tr>\n",
       "    <tr>\n",
       "      <th>134</th>\n",
       "      <td>13000001000</td>\n",
       "      <td>[线索首触-地域, 线索首触-品牌, 名爵官网试乘试驾, 销售代表跟进邀约, 销售代表跟进展厅接待, 完全战败, 同意战败申请, AI外呼未接通, AI外呼未接通, AI外呼未接通, AI外呼未接通, AI外呼未接通, AI外呼未接通, AI外呼未接通, AI外呼未接通, AI外呼未接通, AI外呼未接通]</td>\n",
       "      <td>0</td>\n",
       "      <td>0</td>\n",
       "      <td>0</td>\n",
       "      <td>0</td>\n",
       "      <td>0</td>\n",
       "      <td>0</td>\n",
       "      <td>1</td>\n",
       "      <td>1</td>\n",
       "      <td>...</td>\n",
       "      <td>0</td>\n",
       "      <td>0</td>\n",
       "      <td>0</td>\n",
       "      <td>0</td>\n",
       "      <td>0</td>\n",
       "      <td>0</td>\n",
       "      <td>0</td>\n",
       "      <td>0</td>\n",
       "      <td>0</td>\n",
       "      <td>0</td>\n",
       "    </tr>\n",
       "    <tr>\n",
       "      <th>135</th>\n",
       "      <td>13000001110</td>\n",
       "      <td>[汽车之家采买, 线索首触-地域, 线索首触-品牌, 销售代表跟进邀约, 销售代表跟进邀约, 销售代表跟进邀约, 销售代表跟进电话, 同意战败申请, 销售代表跟进展厅接待, 同意战败申请, 销售代表跟进电话, 完全战败, 同意战败申请, SIS外呼未接通, SIS外呼未接通, 收到短信其他主题]</td>\n",
       "      <td>0</td>\n",
       "      <td>1</td>\n",
       "      <td>1</td>\n",
       "      <td>0</td>\n",
       "      <td>0</td>\n",
       "      <td>0</td>\n",
       "      <td>1</td>\n",
       "      <td>1</td>\n",
       "      <td>...</td>\n",
       "      <td>0</td>\n",
       "      <td>0</td>\n",
       "      <td>0</td>\n",
       "      <td>0</td>\n",
       "      <td>0</td>\n",
       "      <td>0</td>\n",
       "      <td>0</td>\n",
       "      <td>0</td>\n",
       "      <td>0</td>\n",
       "      <td>0</td>\n",
       "    </tr>\n",
       "    <tr>\n",
       "      <th>137</th>\n",
       "      <td>13000001123</td>\n",
       "      <td>[线索首触-地域, 线索首触-品牌, 天猫, 销售代表跟进邀约, 论坛, 销售代表跟进邀约, 销售代表跟进展厅接待, 完全战败, 同意战败申请, 收到短信其他主题, AI外呼未接通, AI外呼未接通]</td>\n",
       "      <td>0</td>\n",
       "      <td>0</td>\n",
       "      <td>0</td>\n",
       "      <td>0</td>\n",
       "      <td>0</td>\n",
       "      <td>0</td>\n",
       "      <td>1</td>\n",
       "      <td>1</td>\n",
       "      <td>...</td>\n",
       "      <td>0</td>\n",
       "      <td>0</td>\n",
       "      <td>0</td>\n",
       "      <td>0</td>\n",
       "      <td>0</td>\n",
       "      <td>0</td>\n",
       "      <td>0</td>\n",
       "      <td>0</td>\n",
       "      <td>0</td>\n",
       "      <td>0</td>\n",
       "    </tr>\n",
       "  </tbody>\n",
       "</table>\n",
       "<p>5 rows × 239 columns</p>\n",
       "</div>"
      ],
      "text/plain": [
       "          mobile  \\\n",
       "0    13000000003   \n",
       "2    13000000005   \n",
       "134  13000001000   \n",
       "135  13000001110   \n",
       "137  13000001123   \n",
       "\n",
       "                                                                                                                                                touchpoint_name  \\\n",
       "0     [销售代表跟进电话, 线上其他活动, 收到短信潜客主题, 销售代表跟进电话, 完全战败, 同意战败申请, 收到短信活动主题, 收到短信其他主题, 收到短信其他主题, SIS接通时长(0,10s), SIS接通时长[10s, 30s), SIS接通时长(0,10s), 收到短信战败主题, 收到短信战败主题]   \n",
       "2                                                                                              [销售代表跟进进入展厅, 线上其他活动, 收到短信潜客主题, 销售代表跟进电话, 完全战败, 同意战败申请, 收到短信其他主题]   \n",
       "134  [线索首触-地域, 线索首触-品牌, 名爵官网试乘试驾, 销售代表跟进邀约, 销售代表跟进展厅接待, 完全战败, 同意战败申请, AI外呼未接通, AI外呼未接通, AI外呼未接通, AI外呼未接通, AI外呼未接通, AI外呼未接通, AI外呼未接通, AI外呼未接通, AI外呼未接通, AI外呼未接通]   \n",
       "135        [汽车之家采买, 线索首触-地域, 线索首触-品牌, 销售代表跟进邀约, 销售代表跟进邀约, 销售代表跟进邀约, 销售代表跟进电话, 同意战败申请, 销售代表跟进展厅接待, 同意战败申请, 销售代表跟进电话, 完全战败, 同意战败申请, SIS外呼未接通, SIS外呼未接通, 收到短信其他主题]   \n",
       "137                                                        [线索首触-地域, 线索首触-品牌, 天猫, 销售代表跟进邀约, 论坛, 销售代表跟进邀约, 销售代表跟进展厅接待, 完全战败, 同意战败申请, 收到短信其他主题, AI外呼未接通, AI外呼未接通]   \n",
       "\n",
       "     if_activated  汽车之家采买  销售代表跟进电话  销售代表跟进其他  销售代表跟进进入展厅  团购促销类  销售代表跟进展厅接待  \\\n",
       "0               0       0         1         0           0      0           0   \n",
       "2               0       0         1         0           1      0           0   \n",
       "134             0       0         0         0           0      0           1   \n",
       "135             0       1         1         0           0      0           1   \n",
       "137             0       0         0         0           0      0           1   \n",
       "\n",
       "     同意战败申请  ...  浏览H5文案  KBU活动集客-大屏  其他活动参与  一键留资  工商银行  社交渠道  地区性网站  支付宝注册  \\\n",
       "0         1  ...       0           0       0     0     0     0      0      0   \n",
       "2         1  ...       0           0       0     0     0     0      0      0   \n",
       "134       1  ...       0           0       0     0     0     0      0      0   \n",
       "135       1  ...       0           0       0     0     0     0      0      0   \n",
       "137       1  ...       0           0       0     0     0     0      0      0   \n",
       "\n",
       "     平安租赁  抖音  \n",
       "0       0   0  \n",
       "2       0   0  \n",
       "134     0   0  \n",
       "135     0   0  \n",
       "137     0   0  \n",
       "\n",
       "[5 rows x 239 columns]"
      ]
     },
     "execution_count": 31,
     "metadata": {},
     "output_type": "execute_result"
    }
   ],
   "source": [
    "df_paths.head()"
   ]
  },
  {
   "cell_type": "code",
   "execution_count": 32,
   "metadata": {},
   "outputs": [],
   "source": [
    "X = df_paths.drop(columns = ['mobile','touchpoint_name','if_activated'])\n",
    "y = df_paths['if_activated']"
   ]
  },
  {
   "cell_type": "code",
   "execution_count": 34,
   "metadata": {},
   "outputs": [],
   "source": [
    "from sklearn.ensemble import RandomForestClassifier\n",
    "from sklearn.model_selection import train_test_split"
   ]
  },
  {
   "cell_type": "code",
   "execution_count": 35,
   "metadata": {},
   "outputs": [],
   "source": [
    "X_train,X_test,y_train,y_test = train_test_split(X,y,stratify = y,random_state = 20)"
   ]
  },
  {
   "cell_type": "code",
   "execution_count": 36,
   "metadata": {},
   "outputs": [
    {
     "data": {
      "text/plain": [
       "RandomForestClassifier(random_state=20)"
      ]
     },
     "execution_count": 36,
     "metadata": {},
     "output_type": "execute_result"
    }
   ],
   "source": [
    "clf = RandomForestClassifier(random_state = 20)\n",
    "clf.fit(X_train,y_train)"
   ]
  },
  {
   "cell_type": "code",
   "execution_count": 65,
   "metadata": {},
   "outputs": [
    {
     "name": "stdout",
     "output_type": "stream",
     "text": [
      "              precision    recall  f1-score   support\n",
      "\n",
      "           0       0.91      0.96      0.94    168166\n",
      "           1       0.78      0.58      0.66     38350\n",
      "\n",
      "    accuracy                           0.89    206516\n",
      "   macro avg       0.85      0.77      0.80    206516\n",
      "weighted avg       0.89      0.89      0.89    206516\n",
      "\n"
     ]
    }
   ],
   "source": [
    "y_pred = clf.predict(X_test)\n",
    "print(classification_report(y_test, y_pred))"
   ]
  },
  {
   "cell_type": "code",
   "execution_count": 57,
   "metadata": {},
   "outputs": [],
   "source": [
    "#Create a DataFrame using a Dictionary\n",
    "data={'feature_names':X_train.columns,'feature_importance':clf.feature_importances_}\n",
    "fi_importance = pd.DataFrame(data).sort_values(by=['feature_importance'], ascending=False)\n"
   ]
  },
  {
   "cell_type": "code",
   "execution_count": 58,
   "metadata": {},
   "outputs": [
    {
     "data": {
      "text/html": [
       "<div>\n",
       "<style scoped>\n",
       "    .dataframe tbody tr th:only-of-type {\n",
       "        vertical-align: middle;\n",
       "    }\n",
       "\n",
       "    .dataframe tbody tr th {\n",
       "        vertical-align: top;\n",
       "    }\n",
       "\n",
       "    .dataframe thead th {\n",
       "        text-align: right;\n",
       "    }\n",
       "</style>\n",
       "<table border=\"1\" class=\"dataframe\">\n",
       "  <thead>\n",
       "    <tr style=\"text-align: right;\">\n",
       "      <th></th>\n",
       "      <th>feature_names</th>\n",
       "      <th>feature_importance</th>\n",
       "    </tr>\n",
       "  </thead>\n",
       "  <tbody>\n",
       "    <tr>\n",
       "      <th>15</th>\n",
       "      <td>收到短信其他主题</td>\n",
       "      <td>0.160768</td>\n",
       "    </tr>\n",
       "    <tr>\n",
       "      <th>13</th>\n",
       "      <td>金线索</td>\n",
       "      <td>0.100754</td>\n",
       "    </tr>\n",
       "    <tr>\n",
       "      <th>21</th>\n",
       "      <td>收到短信战败主题</td>\n",
       "      <td>0.042775</td>\n",
       "    </tr>\n",
       "    <tr>\n",
       "      <th>20</th>\n",
       "      <td>SIS接通时长[30s, 60s)</td>\n",
       "      <td>0.031301</td>\n",
       "    </tr>\n",
       "    <tr>\n",
       "      <th>10</th>\n",
       "      <td>销售代表跟进邀约</td>\n",
       "      <td>0.031072</td>\n",
       "    </tr>\n",
       "  </tbody>\n",
       "</table>\n",
       "</div>"
      ],
      "text/plain": [
       "        feature_names  feature_importance\n",
       "15           收到短信其他主题            0.160768\n",
       "13                金线索            0.100754\n",
       "21           收到短信战败主题            0.042775\n",
       "20  SIS接通时长[30s, 60s)            0.031301\n",
       "10           销售代表跟进邀约            0.031072"
      ]
     },
     "execution_count": 58,
     "metadata": {},
     "output_type": "execute_result"
    }
   ],
   "source": [
    "fi_importance.head()"
   ]
  },
  {
   "cell_type": "code",
   "execution_count": 60,
   "metadata": {},
   "outputs": [
    {
     "name": "stdout",
     "output_type": "stream",
     "text": [
      "<class 'pandas.core.frame.DataFrame'>\n",
      "Int64Index: 236 entries, 15 to 220\n",
      "Data columns (total 2 columns):\n",
      " #   Column              Non-Null Count  Dtype  \n",
      "---  ------              --------------  -----  \n",
      " 0   feature_names       236 non-null    object \n",
      " 1   feature_importance  236 non-null    float64\n",
      "dtypes: float64(1), object(1)\n",
      "memory usage: 5.5+ KB\n"
     ]
    }
   ],
   "source": [
    "fi_importance.info()"
   ]
  },
  {
   "cell_type": "code",
   "execution_count": 61,
   "metadata": {},
   "outputs": [],
   "source": [
    "fi_importance.to_csv('feature_importance.csv',index = False)"
   ]
  },
  {
   "cell_type": "code",
   "execution_count": null,
   "metadata": {},
   "outputs": [],
   "source": []
  }
 ],
 "metadata": {
  "kernelspec": {
   "display_name": "python37_smcsandbox",
   "language": "python",
   "name": "python3"
  },
  "language_info": {
   "codemirror_mode": {
    "name": "ipython",
    "version": 3
   },
   "file_extension": ".py",
   "mimetype": "text/x-python",
   "name": "python",
   "nbconvert_exporter": "python",
   "pygments_lexer": "ipython3",
   "version": "3.7.5"
  }
 },
 "nbformat": 4,
 "nbformat_minor": 2
}
