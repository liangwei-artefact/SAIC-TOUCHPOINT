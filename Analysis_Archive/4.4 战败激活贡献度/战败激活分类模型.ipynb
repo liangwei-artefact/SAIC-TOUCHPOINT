{
 "cells": [
  {
   "cell_type": "code",
   "execution_count": 1,
   "metadata": {},
   "outputs": [
    {
     "name": "stderr",
     "output_type": "stream",
     "text": [
      "/app/anaconda3/envs/python37_smcsandbox/lib/python3.7/site-packages/ipykernel_launcher.py:5: FutureWarning: Passing a negative integer is deprecated in version 1.0 and will not be supported in future version. Instead, use None to not limit the column width.\n",
      "  \"\"\"\n"
     ]
    }
   ],
   "source": [
    "##import packages\n",
    "import re\n",
    "import datetime\n",
    "from pychattr.channel_attribution import MarkovModel\n",
    "import pandas as pd\n",
    "pd.set_option('display.max_colwidth', -1)\n",
    "import numpy as np\n",
    "from sklearn.metrics import classification_report\n",
    "import warnings\n",
    "warnings.filterwarnings('ignore')"
   ]
  },
  {
   "cell_type": "code",
   "execution_count": 4,
   "metadata": {},
   "outputs": [],
   "source": [
    "##load the data\n",
    "df = pd.read_csv('/home/mam_jupyter/jupyter_dir/artefact/attribution/tp_analysis/data/tp_analysis_base.csv',sep = '\\t',header = None)\n",
    "id_mapping = pd.read_csv('/home/mam_jupyter/jupyter_dir/artefact/attribution/tp_analysis/data/id_mapping.csv')"
   ]
  },
  {
   "cell_type": "code",
   "execution_count": 5,
   "metadata": {},
   "outputs": [
    {
     "data": {
      "text/html": [
       "<div>\n",
       "<style scoped>\n",
       "    .dataframe tbody tr th:only-of-type {\n",
       "        vertical-align: middle;\n",
       "    }\n",
       "\n",
       "    .dataframe tbody tr th {\n",
       "        vertical-align: top;\n",
       "    }\n",
       "\n",
       "    .dataframe thead th {\n",
       "        text-align: right;\n",
       "    }\n",
       "</style>\n",
       "<table border=\"1\" class=\"dataframe\">\n",
       "  <thead>\n",
       "    <tr style=\"text-align: right;\">\n",
       "      <th></th>\n",
       "      <th>0</th>\n",
       "      <th>1</th>\n",
       "      <th>2</th>\n",
       "      <th>3</th>\n",
       "      <th>4</th>\n",
       "      <th>5</th>\n",
       "      <th>6</th>\n",
       "      <th>7</th>\n",
       "    </tr>\n",
       "  </thead>\n",
       "  <tbody>\n",
       "    <tr>\n",
       "      <th>0</th>\n",
       "      <td>13000000133</td>\n",
       "      <td>002011005004_tp</td>\n",
       "      <td>2020-10-28 11:16:45</td>\n",
       "      <td>1</td>\n",
       "      <td>NaN</td>\n",
       "      <td>NaN</td>\n",
       "      <td>NaN</td>\n",
       "      <td>NaN</td>\n",
       "    </tr>\n",
       "    <tr>\n",
       "      <th>1</th>\n",
       "      <td>13000001122</td>\n",
       "      <td>009002001000_tp</td>\n",
       "      <td>2020-09-11 11:08:51</td>\n",
       "      <td>17</td>\n",
       "      <td>2020-09-10 16:42:19</td>\n",
       "      <td>009002003000_tp</td>\n",
       "      <td>17.0</td>\n",
       "      <td>-1.0</td>\n",
       "    </tr>\n",
       "    <tr>\n",
       "      <th>2</th>\n",
       "      <td>13000009999</td>\n",
       "      <td>009002001000_tp</td>\n",
       "      <td>2020-06-17 21:51:59</td>\n",
       "      <td>25</td>\n",
       "      <td>2020-06-12 22:11:50</td>\n",
       "      <td>009002001000_tp</td>\n",
       "      <td>25.0</td>\n",
       "      <td>-5.0</td>\n",
       "    </tr>\n",
       "    <tr>\n",
       "      <th>3</th>\n",
       "      <td>13001035033</td>\n",
       "      <td>002009003001_tp</td>\n",
       "      <td>2020-06-18 13:33:55</td>\n",
       "      <td>24</td>\n",
       "      <td>2020-06-18 13:33:32</td>\n",
       "      <td>002009001003_tp</td>\n",
       "      <td>24.0</td>\n",
       "      <td>0.0</td>\n",
       "    </tr>\n",
       "    <tr>\n",
       "      <th>4</th>\n",
       "      <td>13001055006</td>\n",
       "      <td>009002001000_tp</td>\n",
       "      <td>2020-11-02 09:38:09</td>\n",
       "      <td>10</td>\n",
       "      <td>2020-10-28 10:46:06</td>\n",
       "      <td>002011005004_tp</td>\n",
       "      <td>10.0</td>\n",
       "      <td>-5.0</td>\n",
       "    </tr>\n",
       "  </tbody>\n",
       "</table>\n",
       "</div>"
      ],
      "text/plain": [
       "             0                1                    2   3                    4  \\\n",
       "0  13000000133  002011005004_tp  2020-10-28 11:16:45  1   NaN                   \n",
       "1  13000001122  009002001000_tp  2020-09-11 11:08:51  17  2020-09-10 16:42:19   \n",
       "2  13000009999  009002001000_tp  2020-06-17 21:51:59  25  2020-06-12 22:11:50   \n",
       "3  13001035033  002009003001_tp  2020-06-18 13:33:55  24  2020-06-18 13:33:32   \n",
       "4  13001055006  009002001000_tp  2020-11-02 09:38:09  10  2020-10-28 10:46:06   \n",
       "\n",
       "                 5     6    7  \n",
       "0  NaN             NaN   NaN   \n",
       "1  009002003000_tp  17.0 -1.0  \n",
       "2  009002001000_tp  25.0 -5.0  \n",
       "3  002009001003_tp  24.0  0.0  \n",
       "4  002011005004_tp  10.0 -5.0  "
      ]
     },
     "execution_count": 5,
     "metadata": {},
     "output_type": "execute_result"
    }
   ],
   "source": [
    "df.head()"
   ]
  },
  {
   "cell_type": "code",
   "execution_count": 6,
   "metadata": {},
   "outputs": [],
   "source": [
    "df = df.rename(columns = {0:'mobile',1:'touchpoint_id',2:'action_time'})"
   ]
  },
  {
   "cell_type": "code",
   "execution_count": 7,
   "metadata": {},
   "outputs": [
    {
     "data": {
      "text/html": [
       "<div>\n",
       "<style scoped>\n",
       "    .dataframe tbody tr th:only-of-type {\n",
       "        vertical-align: middle;\n",
       "    }\n",
       "\n",
       "    .dataframe tbody tr th {\n",
       "        vertical-align: top;\n",
       "    }\n",
       "\n",
       "    .dataframe thead th {\n",
       "        text-align: right;\n",
       "    }\n",
       "</style>\n",
       "<table border=\"1\" class=\"dataframe\">\n",
       "  <thead>\n",
       "    <tr style=\"text-align: right;\">\n",
       "      <th></th>\n",
       "      <th>mobile</th>\n",
       "      <th>action_time</th>\n",
       "      <th>touchpoint_id</th>\n",
       "    </tr>\n",
       "  </thead>\n",
       "  <tbody>\n",
       "    <tr>\n",
       "      <th>0</th>\n",
       "      <td>13000000133</td>\n",
       "      <td>2020-10-28 11:16:45</td>\n",
       "      <td>002011005004_tp</td>\n",
       "    </tr>\n",
       "    <tr>\n",
       "      <th>1</th>\n",
       "      <td>13000001122</td>\n",
       "      <td>2020-09-11 11:08:51</td>\n",
       "      <td>009002001000_tp</td>\n",
       "    </tr>\n",
       "    <tr>\n",
       "      <th>2</th>\n",
       "      <td>13000009999</td>\n",
       "      <td>2020-06-17 21:51:59</td>\n",
       "      <td>009002001000_tp</td>\n",
       "    </tr>\n",
       "    <tr>\n",
       "      <th>3</th>\n",
       "      <td>13001035033</td>\n",
       "      <td>2020-06-18 13:33:55</td>\n",
       "      <td>002009003001_tp</td>\n",
       "    </tr>\n",
       "    <tr>\n",
       "      <th>4</th>\n",
       "      <td>13001055006</td>\n",
       "      <td>2020-11-02 09:38:09</td>\n",
       "      <td>009002001000_tp</td>\n",
       "    </tr>\n",
       "  </tbody>\n",
       "</table>\n",
       "</div>"
      ],
      "text/plain": [
       "        mobile          action_time    touchpoint_id\n",
       "0  13000000133  2020-10-28 11:16:45  002011005004_tp\n",
       "1  13000001122  2020-09-11 11:08:51  009002001000_tp\n",
       "2  13000009999  2020-06-17 21:51:59  009002001000_tp\n",
       "3  13001035033  2020-06-18 13:33:55  002009003001_tp\n",
       "4  13001055006  2020-11-02 09:38:09  009002001000_tp"
      ]
     },
     "execution_count": 7,
     "metadata": {},
     "output_type": "execute_result"
    }
   ],
   "source": [
    "df = df[['mobile','action_time','touchpoint_id']]\n",
    "df.head()"
   ]
  },
  {
   "cell_type": "code",
   "execution_count": 8,
   "metadata": {},
   "outputs": [
    {
     "name": "stdout",
     "output_type": "stream",
     "text": [
      "<class 'pandas.core.frame.DataFrame'>\n",
      "RangeIndex: 55565405 entries, 0 to 55565404\n",
      "Data columns (total 3 columns):\n",
      " #   Column         Dtype \n",
      "---  ------         ----- \n",
      " 0   mobile         int64 \n",
      " 1   action_time    object\n",
      " 2   touchpoint_id  object\n",
      "dtypes: int64(1), object(2)\n",
      "memory usage: 1.2+ GB\n"
     ]
    }
   ],
   "source": [
    "df.info()"
   ]
  },
  {
   "cell_type": "code",
   "execution_count": 9,
   "metadata": {},
   "outputs": [],
   "source": [
    "##preprocess data\n",
    "def preprocess(df):\n",
    "    df.dropna(inplace = True)\n",
    "    df['mobile'] = df['mobile'].astype('string')\n",
    "    ##filter the uncleaned mobile\n",
    "    df = df[df.mobile.str.contains('^1\\d{10}$')]\n",
    "    ##phone number of dealer to remove\n",
    "    mobile_to_remove = pd.read_csv('mobile_to_remove.csv').drop(columns =[ 'Unnamed: 0'])\n",
    "    mobile_to_remove_list = mobile_to_remove.mobile.unique()\n",
    "    df = df[~df.mobile.isin(mobile_to_remove_list)]\n",
    "    ##删除无效节点：005000000000_tp，004000000000_tp\n",
    "    df = df[~df.touchpoint_id.isin(['005000000000_tp','004000000000_tp'])]\n",
    "    return df"
   ]
  },
  {
   "cell_type": "code",
   "execution_count": 10,
   "metadata": {},
   "outputs": [],
   "source": [
    "df = preprocess(df)"
   ]
  },
  {
   "cell_type": "code",
   "execution_count": 11,
   "metadata": {},
   "outputs": [
    {
     "name": "stdout",
     "output_type": "stream",
     "text": [
      "<class 'pandas.core.frame.DataFrame'>\n",
      "Int64Index: 49830374 entries, 0 to 55565402\n",
      "Data columns (total 3 columns):\n",
      " #   Column         Dtype \n",
      "---  ------         ----- \n",
      " 0   mobile         string\n",
      " 1   action_time    object\n",
      " 2   touchpoint_id  object\n",
      "dtypes: object(2), string(1)\n",
      "memory usage: 1.5+ GB\n"
     ]
    }
   ],
   "source": [
    "df.info()"
   ]
  },
  {
   "cell_type": "code",
   "execution_count": 29,
   "metadata": {},
   "outputs": [],
   "source": [
    "# link consumer journey\n",
    "df = df.sort_values(['mobile', 'action_time'],ascending=[False, True])\n",
    "df_paths = df.groupby('mobile')['touchpoint_id'].aggregate(lambda x: x.tolist()).reset_index()"
   ]
  },
  {
   "cell_type": "code",
   "execution_count": 30,
   "metadata": {},
   "outputs": [
    {
     "data": {
      "text/html": [
       "<div>\n",
       "<style scoped>\n",
       "    .dataframe tbody tr th:only-of-type {\n",
       "        vertical-align: middle;\n",
       "    }\n",
       "\n",
       "    .dataframe tbody tr th {\n",
       "        vertical-align: top;\n",
       "    }\n",
       "\n",
       "    .dataframe thead th {\n",
       "        text-align: right;\n",
       "    }\n",
       "</style>\n",
       "<table border=\"1\" class=\"dataframe\">\n",
       "  <thead>\n",
       "    <tr style=\"text-align: right;\">\n",
       "      <th></th>\n",
       "      <th>mobile</th>\n",
       "      <th>touchpoint_id</th>\n",
       "    </tr>\n",
       "  </thead>\n",
       "  <tbody>\n",
       "    <tr>\n",
       "      <th>0</th>\n",
       "      <td>13000000003</td>\n",
       "      <td>[009002002000_tp, 008002007000_tp, 002011005003_tp, 014004000000_tp, 014003000000_tp, 009002002000_tp, 002011005001_tp, 002011005001_tp, 002011005004_tp, 002011002000_tp, 002011002000_tp, 002011001001_tp, 002011005004_tp, 002011005004_tp]</td>\n",
       "    </tr>\n",
       "    <tr>\n",
       "      <th>1</th>\n",
       "      <td>13000000004</td>\n",
       "      <td>[002011002000_tp, 002011002000_tp]</td>\n",
       "    </tr>\n",
       "    <tr>\n",
       "      <th>2</th>\n",
       "      <td>13000000005</td>\n",
       "      <td>[009002004000_tp, 008002007000_tp, 002011005003_tp, 009002002000_tp, 014003000000_tp, 014004000000_tp, 002011005001_tp]</td>\n",
       "    </tr>\n",
       "    <tr>\n",
       "      <th>3</th>\n",
       "      <td>13000000008</td>\n",
       "      <td>[002011005001_tp, 002011005004_tp, 002011004000_tp]</td>\n",
       "    </tr>\n",
       "    <tr>\n",
       "      <th>4</th>\n",
       "      <td>13000000010</td>\n",
       "      <td>[002011005001_tp, 002011005003_tp, 002011005001_tp]</td>\n",
       "    </tr>\n",
       "  </tbody>\n",
       "</table>\n",
       "</div>"
      ],
      "text/plain": [
       "        mobile  \\\n",
       "0  13000000003   \n",
       "1  13000000004   \n",
       "2  13000000005   \n",
       "3  13000000008   \n",
       "4  13000000010   \n",
       "\n",
       "                                                                                                                                                                                                                                    touchpoint_id  \n",
       "0  [009002002000_tp, 008002007000_tp, 002011005003_tp, 014004000000_tp, 014003000000_tp, 009002002000_tp, 002011005001_tp, 002011005001_tp, 002011005004_tp, 002011002000_tp, 002011002000_tp, 002011001001_tp, 002011005004_tp, 002011005004_tp]  \n",
       "1  [002011002000_tp, 002011002000_tp]                                                                                                                                                                                                              \n",
       "2  [009002004000_tp, 008002007000_tp, 002011005003_tp, 009002002000_tp, 014003000000_tp, 014004000000_tp, 002011005001_tp]                                                                                                                         \n",
       "3  [002011005001_tp, 002011005004_tp, 002011004000_tp]                                                                                                                                                                                             \n",
       "4  [002011005001_tp, 002011005003_tp, 002011005001_tp]                                                                                                                                                                                             "
      ]
     },
     "execution_count": 30,
     "metadata": {},
     "output_type": "execute_result"
    }
   ],
   "source": [
    "df_paths.head()"
   ]
  },
  {
   "cell_type": "code",
   "execution_count": 31,
   "metadata": {},
   "outputs": [],
   "source": [
    "def if_has_endpoint(touchpoint_id,list1):\n",
    "    if touchpoint_id in list1:\n",
    "        return 1\n",
    "    else:\n",
    "        return 0\n",
    "\n",
    "def exclude_endpoint(touchpoint_id,list1):\n",
    "    if touchpoint_id in list1:\n",
    "        list1 = list1[:list1.index(touchpoint_id)]\n",
    "    return list1"
   ]
  },
  {
   "cell_type": "code",
   "execution_count": 32,
   "metadata": {},
   "outputs": [],
   "source": [
    "##只保留战败用户\n",
    "df_paths['if_ever_failed'] = df_paths['touchpoint_id'].apply(lambda x:if_has_endpoint('014004000000_tp',x))"
   ]
  },
  {
   "cell_type": "code",
   "execution_count": 33,
   "metadata": {},
   "outputs": [],
   "source": [
    "# df_paths.if_ever_failed.value_counts()"
   ]
  },
  {
   "cell_type": "code",
   "execution_count": 34,
   "metadata": {},
   "outputs": [
    {
     "name": "stdout",
     "output_type": "stream",
     "text": [
      "<class 'pandas.core.frame.DataFrame'>\n",
      "Int64Index: 808766 entries, 0 to 3587809\n",
      "Data columns (total 2 columns):\n",
      " #   Column         Non-Null Count   Dtype \n",
      "---  ------         --------------   ----- \n",
      " 0   mobile         808766 non-null  object\n",
      " 1   touchpoint_id  808766 non-null  object\n",
      "dtypes: object(2)\n",
      "memory usage: 18.5+ MB\n"
     ]
    }
   ],
   "source": [
    "df_paths = df_paths[df_paths.if_ever_failed == 1][['mobile','touchpoint_id']]\n",
    "df_paths.info()"
   ]
  },
  {
   "cell_type": "code",
   "execution_count": 35,
   "metadata": {},
   "outputs": [
    {
     "data": {
      "text/plain": [
       "0    657431\n",
       "1    151335\n",
       "Name: if_activated, dtype: int64"
      ]
     },
     "execution_count": 35,
     "metadata": {},
     "output_type": "execute_result"
    }
   ],
   "source": [
    "##产生战败唤醒的标签\n",
    "df_paths['if_activated'] = df_paths['touchpoint_id'].apply(lambda x:if_has_endpoint('015000000000_tp',x))\n",
    "df_paths.if_activated.value_counts()"
   ]
  },
  {
   "cell_type": "code",
   "execution_count": 36,
   "metadata": {},
   "outputs": [],
   "source": [
    "##只保留目标节点之前的触点并且删除无效路径\n",
    "df_paths.loc[df_paths.if_activated == 1,'touchpoint_id'] = df_paths.loc[df_paths.if_activated == 1,'touchpoint_id'].apply(lambda x:exclude_endpoint('015000000000_tp',x))\n",
    "df_paths = df_paths[df_paths['touchpoint_id'].str.len() > 0]"
   ]
  },
  {
   "cell_type": "code",
   "execution_count": 37,
   "metadata": {},
   "outputs": [
    {
     "data": {
      "text/plain": [
       "0    657431\n",
       "1    151335\n",
       "Name: if_activated, dtype: int64"
      ]
     },
     "execution_count": 37,
     "metadata": {},
     "output_type": "execute_result"
    }
   ],
   "source": [
    "df_paths.if_activated.value_counts()"
   ]
  },
  {
   "cell_type": "code",
   "execution_count": 38,
   "metadata": {},
   "outputs": [
    {
     "data": {
      "text/html": [
       "<div>\n",
       "<style scoped>\n",
       "    .dataframe tbody tr th:only-of-type {\n",
       "        vertical-align: middle;\n",
       "    }\n",
       "\n",
       "    .dataframe tbody tr th {\n",
       "        vertical-align: top;\n",
       "    }\n",
       "\n",
       "    .dataframe thead th {\n",
       "        text-align: right;\n",
       "    }\n",
       "</style>\n",
       "<table border=\"1\" class=\"dataframe\">\n",
       "  <thead>\n",
       "    <tr style=\"text-align: right;\">\n",
       "      <th></th>\n",
       "      <th>mobile</th>\n",
       "      <th>touchpoint_id</th>\n",
       "      <th>if_activated</th>\n",
       "    </tr>\n",
       "  </thead>\n",
       "  <tbody>\n",
       "    <tr>\n",
       "      <th>0</th>\n",
       "      <td>13000000003</td>\n",
       "      <td>[009002002000_tp, 008002007000_tp, 002011005003_tp, 014004000000_tp, 014003000000_tp, 009002002000_tp, 002011005001_tp, 002011005001_tp, 002011005004_tp, 002011002000_tp, 002011002000_tp, 002011001001_tp, 002011005004_tp, 002011005004_tp]</td>\n",
       "      <td>0</td>\n",
       "    </tr>\n",
       "    <tr>\n",
       "      <th>2</th>\n",
       "      <td>13000000005</td>\n",
       "      <td>[009002004000_tp, 008002007000_tp, 002011005003_tp, 009002002000_tp, 014003000000_tp, 014004000000_tp, 002011005001_tp]</td>\n",
       "      <td>0</td>\n",
       "    </tr>\n",
       "    <tr>\n",
       "      <th>137</th>\n",
       "      <td>13000001000</td>\n",
       "      <td>[001001001000_tp, 001001002000_tp, 001003001002_tp, 009002001000_tp, 014003000000_tp, 014004000000_tp, 009002003000_tp, 002011004000_tp, 002011004000_tp, 002011004000_tp, 002011004000_tp, 002011004000_tp, 002011004000_tp, 002011004000_tp, 002011004000_tp, 002011004000_tp, 002011004000_tp]</td>\n",
       "      <td>0</td>\n",
       "    </tr>\n",
       "    <tr>\n",
       "      <th>138</th>\n",
       "      <td>13000001110</td>\n",
       "      <td>[001008001001_tp, 001001001000_tp, 001001002000_tp, 009002001000_tp, 009002001000_tp, 009002001000_tp, 009002002000_tp, 014003000000_tp, 014003000000_tp, 009002003000_tp, 014004000000_tp, 009002002000_tp, 014003000000_tp, 002011005001_tp]</td>\n",
       "      <td>0</td>\n",
       "    </tr>\n",
       "    <tr>\n",
       "      <th>140</th>\n",
       "      <td>13000001123</td>\n",
       "      <td>[001001002000_tp, 001001001000_tp, 001007002004_tp, 009002001000_tp, 001007002002_tp, 009002001000_tp, 009002003000_tp, 014004000000_tp, 014003000000_tp, 002011005001_tp, 002011004000_tp, 002011004000_tp]</td>\n",
       "      <td>0</td>\n",
       "    </tr>\n",
       "  </tbody>\n",
       "</table>\n",
       "</div>"
      ],
      "text/plain": [
       "          mobile  \\\n",
       "0    13000000003   \n",
       "2    13000000005   \n",
       "137  13000001000   \n",
       "138  13000001110   \n",
       "140  13000001123   \n",
       "\n",
       "                                                                                                                                                                                                                                                                                         touchpoint_id  \\\n",
       "0    [009002002000_tp, 008002007000_tp, 002011005003_tp, 014004000000_tp, 014003000000_tp, 009002002000_tp, 002011005001_tp, 002011005001_tp, 002011005004_tp, 002011002000_tp, 002011002000_tp, 002011001001_tp, 002011005004_tp, 002011005004_tp]                                                      \n",
       "2    [009002004000_tp, 008002007000_tp, 002011005003_tp, 009002002000_tp, 014003000000_tp, 014004000000_tp, 002011005001_tp]                                                                                                                                                                             \n",
       "137  [001001001000_tp, 001001002000_tp, 001003001002_tp, 009002001000_tp, 014003000000_tp, 014004000000_tp, 009002003000_tp, 002011004000_tp, 002011004000_tp, 002011004000_tp, 002011004000_tp, 002011004000_tp, 002011004000_tp, 002011004000_tp, 002011004000_tp, 002011004000_tp, 002011004000_tp]   \n",
       "138  [001008001001_tp, 001001001000_tp, 001001002000_tp, 009002001000_tp, 009002001000_tp, 009002001000_tp, 009002002000_tp, 014003000000_tp, 014003000000_tp, 009002003000_tp, 014004000000_tp, 009002002000_tp, 014003000000_tp, 002011005001_tp]                                                      \n",
       "140  [001001002000_tp, 001001001000_tp, 001007002004_tp, 009002001000_tp, 001007002002_tp, 009002001000_tp, 009002003000_tp, 014004000000_tp, 014003000000_tp, 002011005001_tp, 002011004000_tp, 002011004000_tp]                                                                                        \n",
       "\n",
       "     if_activated  \n",
       "0    0             \n",
       "2    0             \n",
       "137  0             \n",
       "138  0             \n",
       "140  0             "
      ]
     },
     "execution_count": 38,
     "metadata": {},
     "output_type": "execute_result"
    }
   ],
   "source": [
    "df_paths.head()"
   ]
  },
  {
   "cell_type": "code",
   "execution_count": 39,
   "metadata": {},
   "outputs": [],
   "source": [
    "## 为每个触点产生是否存在的特征\n",
    "touchpoint_list = df.touchpoint_id.unique()\n",
    "for i in touchpoint_list:\n",
    "    tmp = '{}'.format(i)\n",
    "    df_paths[tmp] = df_paths['touchpoint_id'].apply(lambda x:if_has_endpoint(i,x))"
   ]
  },
  {
   "cell_type": "code",
   "execution_count": 46,
   "metadata": {},
   "outputs": [],
   "source": [
    "X = df_paths.drop(columns = ['mobile','touchpoint_id','if_activated'])\n",
    "y = df_paths['if_activated']"
   ]
  },
  {
   "cell_type": "code",
   "execution_count": 47,
   "metadata": {},
   "outputs": [],
   "source": [
    "from sklearn.ensemble import RandomForestClassifier\n",
    "from sklearn.model_selection import train_test_split"
   ]
  },
  {
   "cell_type": "code",
   "execution_count": 48,
   "metadata": {},
   "outputs": [],
   "source": [
    "X_train,X_test,y_train,y_test = train_test_split(X,y,stratify = y,random_state = 20)"
   ]
  },
  {
   "cell_type": "code",
   "execution_count": 49,
   "metadata": {},
   "outputs": [
    {
     "data": {
      "text/plain": [
       "RandomForestClassifier(random_state=20)"
      ]
     },
     "execution_count": 49,
     "metadata": {},
     "output_type": "execute_result"
    }
   ],
   "source": [
    "clf = RandomForestClassifier(n_estimators = 20,verbose=3,n_jobs=-1,random_state = 20)\n",
    "clf.fit(X_train,y_train)"
   ]
  },
  {
   "cell_type": "code",
   "execution_count": 50,
   "metadata": {},
   "outputs": [
    {
     "name": "stdout",
     "output_type": "stream",
     "text": [
      "              precision    recall  f1-score   support\n",
      "\n",
      "           0       0.91      0.97      0.94    164358\n",
      "           1       0.79      0.57      0.66     37834\n",
      "\n",
      "    accuracy                           0.89    202192\n",
      "   macro avg       0.85      0.77      0.80    202192\n",
      "weighted avg       0.89      0.89      0.88    202192\n",
      "\n"
     ]
    }
   ],
   "source": [
    "y_pred = clf.predict(X_test)\n",
    "print(classification_report(y_test, y_pred))"
   ]
  },
  {
   "cell_type": "code",
   "execution_count": 53,
   "metadata": {},
   "outputs": [],
   "source": [
    "#Create a DataFrame using a Dictionary\n",
    "data={'feature_names':X_train.columns,'feature_importance':clf.feature_importances_}\n",
    "fi_importance = pd.DataFrame(data).sort_values(by=['feature_importance'], ascending=False)\n"
   ]
  },
  {
   "cell_type": "code",
   "execution_count": 54,
   "metadata": {},
   "outputs": [
    {
     "data": {
      "text/html": [
       "<div>\n",
       "<style scoped>\n",
       "    .dataframe tbody tr th:only-of-type {\n",
       "        vertical-align: middle;\n",
       "    }\n",
       "\n",
       "    .dataframe tbody tr th {\n",
       "        vertical-align: top;\n",
       "    }\n",
       "\n",
       "    .dataframe thead th {\n",
       "        text-align: right;\n",
       "    }\n",
       "</style>\n",
       "<table border=\"1\" class=\"dataframe\">\n",
       "  <thead>\n",
       "    <tr style=\"text-align: right;\">\n",
       "      <th></th>\n",
       "      <th>feature_names</th>\n",
       "      <th>feature_importance</th>\n",
       "    </tr>\n",
       "  </thead>\n",
       "  <tbody>\n",
       "    <tr>\n",
       "      <th>12</th>\n",
       "      <td>002011005001_tp</td>\n",
       "      <td>0.266066</td>\n",
       "    </tr>\n",
       "    <tr>\n",
       "      <th>14</th>\n",
       "      <td>001006002005_tp</td>\n",
       "      <td>0.109046</td>\n",
       "    </tr>\n",
       "    <tr>\n",
       "      <th>11</th>\n",
       "      <td>009002001000_tp</td>\n",
       "      <td>0.035057</td>\n",
       "    </tr>\n",
       "    <tr>\n",
       "      <th>8</th>\n",
       "      <td>002011005004_tp</td>\n",
       "      <td>0.029556</td>\n",
       "    </tr>\n",
       "    <tr>\n",
       "      <th>16</th>\n",
       "      <td>002011004000_tp</td>\n",
       "      <td>0.026174</td>\n",
       "    </tr>\n",
       "  </tbody>\n",
       "</table>\n",
       "</div>"
      ],
      "text/plain": [
       "      feature_names  feature_importance\n",
       "12  002011005001_tp  0.266066          \n",
       "14  001006002005_tp  0.109046          \n",
       "11  009002001000_tp  0.035057          \n",
       "8   002011005004_tp  0.029556          \n",
       "16  002011004000_tp  0.026174          "
      ]
     },
     "execution_count": 54,
     "metadata": {},
     "output_type": "execute_result"
    }
   ],
   "source": [
    "fi_importance.head()"
   ]
  },
  {
   "cell_type": "code",
   "execution_count": 55,
   "metadata": {},
   "outputs": [
    {
     "data": {
      "text/html": [
       "<div>\n",
       "<style scoped>\n",
       "    .dataframe tbody tr th:only-of-type {\n",
       "        vertical-align: middle;\n",
       "    }\n",
       "\n",
       "    .dataframe tbody tr th {\n",
       "        vertical-align: top;\n",
       "    }\n",
       "\n",
       "    .dataframe thead th {\n",
       "        text-align: right;\n",
       "    }\n",
       "</style>\n",
       "<table border=\"1\" class=\"dataframe\">\n",
       "  <thead>\n",
       "    <tr style=\"text-align: right;\">\n",
       "      <th></th>\n",
       "      <th>touchpoint_id</th>\n",
       "      <th>touchpoint_name</th>\n",
       "      <th>feature_importance</th>\n",
       "    </tr>\n",
       "  </thead>\n",
       "  <tbody>\n",
       "    <tr>\n",
       "      <th>0</th>\n",
       "      <td>002011005001_tp</td>\n",
       "      <td>收到短信活动主题</td>\n",
       "      <td>0.266066</td>\n",
       "    </tr>\n",
       "    <tr>\n",
       "      <th>1</th>\n",
       "      <td>001006002005_tp</td>\n",
       "      <td>金线索</td>\n",
       "      <td>0.109046</td>\n",
       "    </tr>\n",
       "    <tr>\n",
       "      <th>2</th>\n",
       "      <td>009002001000_tp</td>\n",
       "      <td>销售代表跟进邀约</td>\n",
       "      <td>0.035057</td>\n",
       "    </tr>\n",
       "    <tr>\n",
       "      <th>3</th>\n",
       "      <td>002011005004_tp</td>\n",
       "      <td>收到短信推介主题</td>\n",
       "      <td>0.029556</td>\n",
       "    </tr>\n",
       "    <tr>\n",
       "      <th>4</th>\n",
       "      <td>002011004000_tp</td>\n",
       "      <td>AI外呼未接通</td>\n",
       "      <td>0.026174</td>\n",
       "    </tr>\n",
       "  </tbody>\n",
       "</table>\n",
       "</div>"
      ],
      "text/plain": [
       "     touchpoint_id touchpoint_name  feature_importance\n",
       "0  002011005001_tp  收到短信活动主题        0.266066          \n",
       "1  001006002005_tp  金线索             0.109046          \n",
       "2  009002001000_tp  销售代表跟进邀约        0.035057          \n",
       "3  002011005004_tp  收到短信推介主题        0.029556          \n",
       "4  002011004000_tp  AI外呼未接通         0.026174          "
      ]
     },
     "execution_count": 55,
     "metadata": {},
     "output_type": "execute_result"
    }
   ],
   "source": [
    "fi_importance = fi_importance.merge(id_mapping[['touchpoint_id','touchpoint_name']], left_on = 'feature_names',right_on = 'touchpoint_id')\n",
    "fi_importance = fi_importance[['touchpoint_id','touchpoint_name','feature_importance']]\n",
    "fi_importance.head()"
   ]
  },
  {
   "cell_type": "code",
   "execution_count": 56,
   "metadata": {},
   "outputs": [],
   "source": [
    "fi_importance.to_csv('feature_importance_fail_final_report.csv',index = False)"
   ]
  },
  {
   "cell_type": "code",
   "execution_count": null,
   "metadata": {},
   "outputs": [],
   "source": []
  }
 ],
 "metadata": {
  "kernelspec": {
   "display_name": "python37_smcsandbox",
   "language": "python",
   "name": "python3"
  },
  "language_info": {
   "codemirror_mode": {
    "name": "ipython",
    "version": 3
   },
   "file_extension": ".py",
   "mimetype": "text/x-python",
   "name": "python",
   "nbconvert_exporter": "python",
   "pygments_lexer": "ipython3",
   "version": "3.7.5"
  }
 },
 "nbformat": 4,
 "nbformat_minor": 2
}
