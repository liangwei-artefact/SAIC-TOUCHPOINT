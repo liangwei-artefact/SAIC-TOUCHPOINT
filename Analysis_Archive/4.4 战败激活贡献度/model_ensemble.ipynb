{
 "cells": [
  {
   "cell_type": "code",
   "execution_count": 44,
   "metadata": {},
   "outputs": [],
   "source": [
    "import pandas as pd\n",
    "import numpy as np"
   ]
  },
  {
   "cell_type": "code",
   "execution_count": 55,
   "metadata": {},
   "outputs": [],
   "source": [
    "markov_file = '战败激活贡献度_final_report.csv'\n",
    "ml_file = 'feature_importance_fail_final_report.csv'"
   ]
  },
  {
   "cell_type": "code",
   "execution_count": 56,
   "metadata": {},
   "outputs": [],
   "source": [
    "def get_model_ensemble_file(markov_file,ml_file):\n",
    "    markov = pd.read_csv(markov_file)\n",
    "    ml = pd.read_csv(ml_file) \n",
    "    result = markov.merge(ml[['touchpoint_id','feature_importance']],on = 'touchpoint_id')\n",
    "    result = result[['touchpoint_id','touchpoint_name','share_in_result','feature_importance']]\n",
    "    result['markov_rank'] = result['share_in_result'].rank(ascending = False,method = 'dense')\n",
    "    result['ml_rank'] = result['feature_importance'].rank(ascending = False,method = 'dense')\n",
    "    result['rank_sum'] = result['ml_rank'] + result['markov_rank']\n",
    "    result['weighted_importance'] = 0.6*result['share_in_result'] +0.4*result['feature_importance']\n",
    "    result['method1_rank'] = result['weighted_importance'].rank(ascending = False,method = 'dense')\n",
    "    result['method2_rank'] = result['rank_sum'].rank(ascending = True,method = 'dense')\n",
    "    return result"
   ]
  },
  {
   "cell_type": "code",
   "execution_count": 57,
   "metadata": {},
   "outputs": [],
   "source": [
    "result = get_model_ensemble_file(markov_file,ml_file)"
   ]
  },
  {
   "cell_type": "code",
   "execution_count": 58,
   "metadata": {},
   "outputs": [
    {
     "data": {
      "text/html": [
       "<div>\n",
       "<style scoped>\n",
       "    .dataframe tbody tr th:only-of-type {\n",
       "        vertical-align: middle;\n",
       "    }\n",
       "\n",
       "    .dataframe tbody tr th {\n",
       "        vertical-align: top;\n",
       "    }\n",
       "\n",
       "    .dataframe thead th {\n",
       "        text-align: right;\n",
       "    }\n",
       "</style>\n",
       "<table border=\"1\" class=\"dataframe\">\n",
       "  <thead>\n",
       "    <tr style=\"text-align: right;\">\n",
       "      <th></th>\n",
       "      <th>touchpoint_id</th>\n",
       "      <th>touchpoint_name</th>\n",
       "      <th>share_in_result</th>\n",
       "      <th>feature_importance</th>\n",
       "      <th>markov_rank</th>\n",
       "      <th>ml_rank</th>\n",
       "      <th>rank_sum</th>\n",
       "      <th>weighted_importance</th>\n",
       "      <th>method1_rank</th>\n",
       "      <th>method2_rank</th>\n",
       "    </tr>\n",
       "  </thead>\n",
       "  <tbody>\n",
       "    <tr>\n",
       "      <th>0</th>\n",
       "      <td>009002001000_tp</td>\n",
       "      <td>销售代表跟进邀约</td>\n",
       "      <td>0.075272</td>\n",
       "      <td>0.035057</td>\n",
       "      <td>1.0</td>\n",
       "      <td>3.0</td>\n",
       "      <td>4.0</td>\n",
       "      <td>0.059186</td>\n",
       "      <td>2.0</td>\n",
       "      <td>1.0</td>\n",
       "    </tr>\n",
       "    <tr>\n",
       "      <th>1</th>\n",
       "      <td>014003000000_tp</td>\n",
       "      <td>同意战败申请</td>\n",
       "      <td>0.069524</td>\n",
       "      <td>0.000000</td>\n",
       "      <td>2.0</td>\n",
       "      <td>253.0</td>\n",
       "      <td>255.0</td>\n",
       "      <td>0.041714</td>\n",
       "      <td>8.0</td>\n",
       "      <td>107.0</td>\n",
       "    </tr>\n",
       "    <tr>\n",
       "      <th>2</th>\n",
       "      <td>009002002000_tp</td>\n",
       "      <td>销售代表跟进电话</td>\n",
       "      <td>0.067735</td>\n",
       "      <td>0.020764</td>\n",
       "      <td>3.0</td>\n",
       "      <td>10.0</td>\n",
       "      <td>13.0</td>\n",
       "      <td>0.048947</td>\n",
       "      <td>4.0</td>\n",
       "      <td>2.0</td>\n",
       "    </tr>\n",
       "    <tr>\n",
       "      <th>3</th>\n",
       "      <td>009002007000_tp</td>\n",
       "      <td>销售代表跟进其他</td>\n",
       "      <td>0.066711</td>\n",
       "      <td>0.020280</td>\n",
       "      <td>4.0</td>\n",
       "      <td>11.0</td>\n",
       "      <td>15.0</td>\n",
       "      <td>0.048138</td>\n",
       "      <td>5.0</td>\n",
       "      <td>4.0</td>\n",
       "    </tr>\n",
       "    <tr>\n",
       "      <th>4</th>\n",
       "      <td>014004000000_tp</td>\n",
       "      <td>完全战败</td>\n",
       "      <td>0.063134</td>\n",
       "      <td>0.000000</td>\n",
       "      <td>5.0</td>\n",
       "      <td>253.0</td>\n",
       "      <td>258.0</td>\n",
       "      <td>0.037880</td>\n",
       "      <td>10.0</td>\n",
       "      <td>110.0</td>\n",
       "    </tr>\n",
       "  </tbody>\n",
       "</table>\n",
       "</div>"
      ],
      "text/plain": [
       "     touchpoint_id touchpoint_name  share_in_result  feature_importance  \\\n",
       "0  009002001000_tp        销售代表跟进邀约         0.075272            0.035057   \n",
       "1  014003000000_tp          同意战败申请         0.069524            0.000000   \n",
       "2  009002002000_tp        销售代表跟进电话         0.067735            0.020764   \n",
       "3  009002007000_tp        销售代表跟进其他         0.066711            0.020280   \n",
       "4  014004000000_tp            完全战败         0.063134            0.000000   \n",
       "\n",
       "   markov_rank  ml_rank  rank_sum  weighted_importance  method1_rank  \\\n",
       "0          1.0      3.0       4.0             0.059186           2.0   \n",
       "1          2.0    253.0     255.0             0.041714           8.0   \n",
       "2          3.0     10.0      13.0             0.048947           4.0   \n",
       "3          4.0     11.0      15.0             0.048138           5.0   \n",
       "4          5.0    253.0     258.0             0.037880          10.0   \n",
       "\n",
       "   method2_rank  \n",
       "0           1.0  \n",
       "1         107.0  \n",
       "2           2.0  \n",
       "3           4.0  \n",
       "4         110.0  "
      ]
     },
     "execution_count": 58,
     "metadata": {},
     "output_type": "execute_result"
    }
   ],
   "source": [
    "result.head()"
   ]
  },
  {
   "cell_type": "code",
   "execution_count": 59,
   "metadata": {},
   "outputs": [],
   "source": [
    "result.to_csv('战败激活模型融合.csv',index = False)"
   ]
  },
  {
   "cell_type": "code",
   "execution_count": null,
   "metadata": {},
   "outputs": [],
   "source": []
  }
 ],
 "metadata": {
  "kernelspec": {
   "display_name": "python37_smcsandbox",
   "language": "python",
   "name": "python3"
  },
  "language_info": {
   "codemirror_mode": {
    "name": "ipython",
    "version": 3
   },
   "file_extension": ".py",
   "mimetype": "text/x-python",
   "name": "python",
   "nbconvert_exporter": "python",
   "pygments_lexer": "ipython3",
   "version": "3.7.5"
  }
 },
 "nbformat": 4,
 "nbformat_minor": 2
}
