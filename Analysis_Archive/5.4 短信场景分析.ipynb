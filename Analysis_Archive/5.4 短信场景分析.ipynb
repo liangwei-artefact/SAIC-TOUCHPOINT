{
 "cells": [
  {
   "cell_type": "code",
   "execution_count": 1,
   "metadata": {},
   "outputs": [],
   "source": [
    "import pandas as pd\n",
    "import numpy as np\n",
    "import datetime\n",
    "from datetime import datetime\n",
    "import itertools"
   ]
  },
  {
   "cell_type": "markdown",
   "metadata": {},
   "source": [
    "##### Fetch data"
   ]
  },
  {
   "cell_type": "code",
   "execution_count": 2,
   "metadata": {},
   "outputs": [],
   "source": [
    "names = ['mobile','action_time','touchpoint_id','action_rank']\n",
    "df = pd.read_csv('data/rw_tp_analysis_base.csv',sep = '\\t', names = names)\n",
    "df['mobile'] = df['mobile'].astype(str)"
   ]
  },
  {
   "cell_type": "code",
   "execution_count": 3,
   "metadata": {},
   "outputs": [],
   "source": [
    "df['touchpoint_id'] = ['013002002000_rw' if i == '013004002000_rw' else i for i in df['touchpoint_id']]"
   ]
  },
  {
   "cell_type": "code",
   "execution_count": 4,
   "metadata": {},
   "outputs": [
    {
     "data": {
      "text/html": [
       "<div>\n",
       "<style scoped>\n",
       "    .dataframe tbody tr th:only-of-type {\n",
       "        vertical-align: middle;\n",
       "    }\n",
       "\n",
       "    .dataframe tbody tr th {\n",
       "        vertical-align: top;\n",
       "    }\n",
       "\n",
       "    .dataframe thead th {\n",
       "        text-align: right;\n",
       "    }\n",
       "</style>\n",
       "<table border=\"1\" class=\"dataframe\">\n",
       "  <thead>\n",
       "    <tr style=\"text-align: right;\">\n",
       "      <th></th>\n",
       "      <th>mobile</th>\n",
       "      <th>action_time</th>\n",
       "      <th>touchpoint_id</th>\n",
       "      <th>action_rank</th>\n",
       "    </tr>\n",
       "  </thead>\n",
       "  <tbody>\n",
       "    <tr>\n",
       "      <th>0</th>\n",
       "      <td>13001009310</td>\n",
       "      <td>2021-03-08 17:52:58</td>\n",
       "      <td>002005005001_rw</td>\n",
       "      <td>1</td>\n",
       "    </tr>\n",
       "    <tr>\n",
       "      <th>1</th>\n",
       "      <td>13001124343</td>\n",
       "      <td>2021-04-24 06:25:03</td>\n",
       "      <td>001008001001_rw</td>\n",
       "      <td>1</td>\n",
       "    </tr>\n",
       "    <tr>\n",
       "      <th>2</th>\n",
       "      <td>13001124343</td>\n",
       "      <td>2021-04-24 06:25:03</td>\n",
       "      <td>001001001000_rw</td>\n",
       "      <td>2</td>\n",
       "    </tr>\n",
       "  </tbody>\n",
       "</table>\n",
       "</div>"
      ],
      "text/plain": [
       "        mobile          action_time    touchpoint_id  action_rank\n",
       "0  13001009310  2021-03-08 17:52:58  002005005001_rw            1\n",
       "1  13001124343  2021-04-24 06:25:03  001008001001_rw            1\n",
       "2  13001124343  2021-04-24 06:25:03  001001001000_rw            2"
      ]
     },
     "execution_count": 4,
     "metadata": {},
     "output_type": "execute_result"
    }
   ],
   "source": [
    "df.head(3)"
   ]
  },
  {
   "cell_type": "code",
   "execution_count": 5,
   "metadata": {},
   "outputs": [],
   "source": [
    "# id mapping\n",
    "id_mapping = pd.read_csv('data/rw_id_mapping.csv')\n",
    "tp_name = {k:v for k,v in zip(id_mapping.touchpoint_id,id_mapping.touchpoint_name)}"
   ]
  },
  {
   "cell_type": "code",
   "execution_count": 6,
   "metadata": {},
   "outputs": [],
   "source": [
    "df = df.merge(id_mapping, on = 'touchpoint_id', how = 'left')"
   ]
  },
  {
   "cell_type": "code",
   "execution_count": 7,
   "metadata": {},
   "outputs": [],
   "source": [
    "df = df[df.touchpoint_id.isna()==False]"
   ]
  },
  {
   "cell_type": "markdown",
   "metadata": {},
   "source": [
    "- 提取关键节点"
   ]
  },
  {
   "cell_type": "code",
   "execution_count": 8,
   "metadata": {},
   "outputs": [
    {
     "name": "stderr",
     "output_type": "stream",
     "text": [
      "/app/anaconda3/envs/python37_smcsandbox/lib/python3.7/site-packages/IPython/core/interactiveshell.py:3063: DtypeWarning: Columns (0) have mixed types.Specify dtype option on import or set low_memory=False.\n",
      "  interactivity=interactivity, compiler=compiler, result=result)\n"
     ]
    }
   ],
   "source": [
    "# RW deal date\n",
    "deal_date = pd.read_csv('data/rw_deal_base.csv',sep = '\\t', names = ['mobile','deal_time'])"
   ]
  },
  {
   "cell_type": "code",
   "execution_count": 19,
   "metadata": {},
   "outputs": [],
   "source": [
    "deal_date = deal_date.dropna()\n",
    "deal_date['deal_time'] = pd.to_datetime(deal_date['deal_time'])\n",
    "min_deal_df = deal_date.groupby(by='mobile',as_index=False).agg({'deal_time':'min'})"
   ]
  },
  {
   "cell_type": "code",
   "execution_count": 20,
   "metadata": {},
   "outputs": [],
   "source": [
    "# 意向前\n",
    "oppor_df = df[df.touchpoint_id == '004000000000_rw']\n",
    "\n",
    "min_oppor_df = oppor_df[['mobile','action_time']].groupby(by='mobile',as_index=False).agg({'action_time':'min'})\n",
    "min_oppor_df.columns = ['mobile','oppor_time']"
   ]
  },
  {
   "cell_type": "code",
   "execution_count": 21,
   "metadata": {},
   "outputs": [],
   "source": [
    "df_arrive_store = df[df.touchpoint_id=='006000000000_rw']\n",
    "min_visit_df = df_arrive_store[['mobile','action_time']].groupby(by='mobile',as_index=False).agg({'action_time':'min'})\\\n",
    ".rename(columns={'action_time':'visit_time'})"
   ]
  },
  {
   "cell_type": "code",
   "execution_count": 22,
   "metadata": {},
   "outputs": [],
   "source": [
    "register_df = df[df.touchpoint_id.str.startswith('002001')].groupby(by='mobile',as_index=False).agg({'action_time':'min'})\n",
    "register_df.columns = ['mobile','register_time']"
   ]
  },
  {
   "cell_type": "markdown",
   "metadata": {},
   "source": [
    "#### MA"
   ]
  },
  {
   "cell_type": "code",
   "execution_count": 47,
   "metadata": {},
   "outputs": [],
   "source": [
    "sms_df = df[(df.touchpoint_id.str.startswith('002005005')) | (df.touchpoint_id.str.startswith('002005006'))]"
   ]
  },
  {
   "cell_type": "code",
   "execution_count": 48,
   "metadata": {},
   "outputs": [],
   "source": [
    "sms_df = sms_df.merge(min_deal_df,on='mobile',how='left').merge(min_oppor_df,on='mobile',how='left').merge(register_df,on='mobile',how='left')"
   ]
  },
  {
   "cell_type": "code",
   "execution_count": 49,
   "metadata": {},
   "outputs": [
    {
     "name": "stderr",
     "output_type": "stream",
     "text": [
      "/app/anaconda3/envs/python37_smcsandbox/lib/python3.7/site-packages/ipykernel_launcher.py:2: SettingWithCopyWarning: \n",
      "A value is trying to be set on a copy of a slice from a DataFrame\n",
      "\n",
      "See the caveats in the documentation: https://pandas.pydata.org/pandas-docs/stable/user_guide/indexing.html#returning-a-view-versus-a-copy\n",
      "  \n"
     ]
    }
   ],
   "source": [
    "sms_df['sent_stage'] = np.nan\n",
    "sms_df['sent_stage'][sms_df.action_time > sms_df.deal_time] = 'deal'\n",
    "sms_df['sent_stage'][((sms_df.action_time < sms_df.oppor_time) | (sms_df.oppor_time.isna())) & (sms_df.sent_stage.isna() == True)] = 'potential'\n",
    "sms_df['sent_stage'] = sms_df['sent_stage'].fillna('cust')"
   ]
  },
  {
   "cell_type": "code",
   "execution_count": 50,
   "metadata": {},
   "outputs": [],
   "source": [
    "# 不同类型短信各人群发放数及占比\n",
    "pd.pivot_table(data=sms_df,columns='sent_stage',index='touchpoint_name',values='mobile',aggfunc='count').to_csv('data/rw_result/sms_sent_cust_stage.csv')"
   ]
  },
  {
   "cell_type": "code",
   "execution_count": 55,
   "metadata": {},
   "outputs": [],
   "source": [
    "# 因为只有老MA有点击短链的记录，加工后的触点无法区分新老MA，故需要单独拉取老MA数据, 作为点击短链的分母\n",
    "# 以下为拉取逻辑:\n",
    "df = hc.sql('''\n",
    "SELECT\n",
    "    a.mobile,\n",
    "    CASE WHEN sms_type IN ('活动','服务','潜客','推介','挽回','增换购','调研','保客','促活') \n",
    "    THEN sms_type ELSE '其他'\n",
    "    END AS sms_type,\n",
    "    action_time\n",
    "FROM\n",
    "(\n",
    "    SELECT \n",
    "    phone as mobile,\n",
    "    detail['content_title'] as sms_name,\n",
    "    sms_type_mapping(detail['content_title']) as sms_type,\n",
    "    cast(from_unixtime(unix_timestamp(cast(detail['timestamp'] as string), 'yyyyMMddHHmmss')) as TIMESTAMP) as action_time,\n",
    "    CASE WHEN detail['zz1_cho9_mia'] = 101 THEN 'RW'\n",
    "    WHEN detail['zz1_cho9_mia'] = 121 THEN 'MG'\n",
    "    END AS brand,\n",
    "    pt\n",
    "    FROM cdp.cdm_cdp_customer_behavior_detail_only\n",
    "    WHERE TYPE = 'ma_message'\n",
    "    AND detail['zz1_cho9_mia'] = 101\n",
    "    AND detail['content_title'] not like '%test%'\n",
    "    AND detail['content_title'] not like '%测试%'\n",
    "    AND pt >= '20200101' \n",
    "    AND pt <= '20210620'\n",
    ") a \n",
    "INNER JOIN marketing_modeling.tmp_rw_tp_analysis_users_v2 b -- 需要分析的RW的用户池\n",
    "ON a.mobile = b.mobile\n",
    "GROUP BY a.mobile, sms_type, action_time\n",
    "''').toPandas()\n",
    "\n",
    "df.to_csv('../tp_analysis/data/rw_sms_data.csv',index=False,encoding='utf-8')\n",
    "\n",
    "# RW old MA data\n",
    "tmp_sms = pd.read_csv('data/rw_sms_data.csv')"
   ]
  },
  {
   "cell_type": "code",
   "execution_count": 56,
   "metadata": {},
   "outputs": [],
   "source": [
    "tmp_sms.mobile = tmp_sms.mobile.astype(str)\n",
    "tmp_sms = tmp_sms.merge(min_deal_df,on='mobile',how='left').merge(min_oppor_df,on='mobile',how='left').merge(register_df,on='mobile',how='left')"
   ]
  },
  {
   "cell_type": "code",
   "execution_count": 57,
   "metadata": {},
   "outputs": [
    {
     "name": "stderr",
     "output_type": "stream",
     "text": [
      "/app/anaconda3/envs/python37_smcsandbox/lib/python3.7/site-packages/ipykernel_launcher.py:2: SettingWithCopyWarning: \n",
      "A value is trying to be set on a copy of a slice from a DataFrame\n",
      "\n",
      "See the caveats in the documentation: https://pandas.pydata.org/pandas-docs/stable/user_guide/indexing.html#returning-a-view-versus-a-copy\n",
      "  \n"
     ]
    }
   ],
   "source": [
    "tmp_sms['sent_stage'] = np.nan\n",
    "tmp_sms['sent_stage'][tmp_sms.action_time > tmp_sms.deal_time] = 'deal'\n",
    "tmp_sms['sent_stage'][((tmp_sms.action_time < tmp_sms.oppor_time) | (tmp_sms.oppor_time.isna())) & (tmp_sms.sent_stage.isna() == True) ] = 'potential'\n",
    "tmp_sms['sent_stage'] = tmp_sms['sent_stage'].fillna('cust')"
   ]
  },
  {
   "cell_type": "code",
   "execution_count": 58,
   "metadata": {},
   "outputs": [
    {
     "data": {
      "text/html": [
       "<div>\n",
       "<style scoped>\n",
       "    .dataframe tbody tr th:only-of-type {\n",
       "        vertical-align: middle;\n",
       "    }\n",
       "\n",
       "    .dataframe tbody tr th {\n",
       "        vertical-align: top;\n",
       "    }\n",
       "\n",
       "    .dataframe thead th {\n",
       "        text-align: right;\n",
       "    }\n",
       "</style>\n",
       "<table border=\"1\" class=\"dataframe\">\n",
       "  <thead>\n",
       "    <tr style=\"text-align: right;\">\n",
       "      <th>sent_stage</th>\n",
       "      <th>cust</th>\n",
       "      <th>deal</th>\n",
       "      <th>potential</th>\n",
       "    </tr>\n",
       "    <tr>\n",
       "      <th>sms_type</th>\n",
       "      <th></th>\n",
       "      <th></th>\n",
       "      <th></th>\n",
       "    </tr>\n",
       "  </thead>\n",
       "  <tbody>\n",
       "    <tr>\n",
       "      <th>保客</th>\n",
       "      <td>10</td>\n",
       "      <td>34013</td>\n",
       "      <td>483</td>\n",
       "    </tr>\n",
       "    <tr>\n",
       "      <th>其他</th>\n",
       "      <td>1038</td>\n",
       "      <td>1344</td>\n",
       "      <td>194</td>\n",
       "    </tr>\n",
       "    <tr>\n",
       "      <th>挽回</th>\n",
       "      <td>3703</td>\n",
       "      <td>470</td>\n",
       "      <td>12064</td>\n",
       "    </tr>\n",
       "    <tr>\n",
       "      <th>推介</th>\n",
       "      <td>4724</td>\n",
       "      <td>31096</td>\n",
       "      <td>5559</td>\n",
       "    </tr>\n",
       "    <tr>\n",
       "      <th>服务</th>\n",
       "      <td>44</td>\n",
       "      <td>74299</td>\n",
       "      <td>8</td>\n",
       "    </tr>\n",
       "    <tr>\n",
       "      <th>活动</th>\n",
       "      <td>7125</td>\n",
       "      <td>301170</td>\n",
       "      <td>19122</td>\n",
       "    </tr>\n",
       "    <tr>\n",
       "      <th>潜客</th>\n",
       "      <td>84355</td>\n",
       "      <td>20498</td>\n",
       "      <td>4901</td>\n",
       "    </tr>\n",
       "    <tr>\n",
       "      <th>调研</th>\n",
       "      <td>7626</td>\n",
       "      <td>200254</td>\n",
       "      <td>320</td>\n",
       "    </tr>\n",
       "  </tbody>\n",
       "</table>\n",
       "</div>"
      ],
      "text/plain": [
       "sent_stage   cust    deal  potential\n",
       "sms_type                            \n",
       "保客             10   34013        483\n",
       "其他           1038    1344        194\n",
       "挽回           3703     470      12064\n",
       "推介           4724   31096       5559\n",
       "服务             44   74299          8\n",
       "活动           7125  301170      19122\n",
       "潜客          84355   20498       4901\n",
       "调研           7626  200254        320"
      ]
     },
     "execution_count": 58,
     "metadata": {},
     "output_type": "execute_result"
    }
   ],
   "source": [
    "pd.pivot_table(data=tmp_sms,columns='sent_stage',index='sms_type',values='mobile',aggfunc='count')"
   ]
  },
  {
   "cell_type": "markdown",
   "metadata": {},
   "source": [
    "- 3日后APP注册比"
   ]
  },
  {
   "cell_type": "code",
   "execution_count": 60,
   "metadata": {},
   "outputs": [],
   "source": [
    "sms_df['is_register_diff'] = (pd.to_datetime(sms_df.register_time) - pd.to_datetime(sms_df.action_time)).apply(lambda x:x.total_seconds()/3600)\n",
    "sms_df['is_register'] = [1 if i > 0 and i <= 72 else 0 for i in sms_df.is_register_diff]\n",
    "sms_df['is_register_raw'] = [0 if i < 0 else 1 for i in sms_df.is_register_diff]"
   ]
  },
  {
   "cell_type": "code",
   "execution_count": 73,
   "metadata": {},
   "outputs": [],
   "source": [
    "is_register = pd.pivot_table(data=sms_df,columns='sent_stage',index='touchpoint_name',values='is_register',aggfunc='sum')\n",
    "is_register.columns = [i+'_register' for i in is_register.columns]"
   ]
  },
  {
   "cell_type": "code",
   "execution_count": 74,
   "metadata": {},
   "outputs": [],
   "source": [
    "is_register_raw = pd.pivot_table(data=sms_df,columns='sent_stage',index='touchpoint_name',values='is_register_raw',aggfunc='sum')\n",
    "is_register_raw.columns = [i+'_raw' for i in is_register_raw.columns]"
   ]
  },
  {
   "cell_type": "code",
   "execution_count": 76,
   "metadata": {},
   "outputs": [],
   "source": [
    "is_register_raw.merge(is_register,left_index=True,right_index=True,how='left').to_csv('data/rw_result/is_register.csv')"
   ]
  },
  {
   "cell_type": "markdown",
   "metadata": {},
   "source": [
    "- 3日后新增意向比"
   ]
  },
  {
   "cell_type": "code",
   "execution_count": 77,
   "metadata": {},
   "outputs": [],
   "source": [
    "sms_df['is_oppor'] = (pd.to_datetime(sms_df.oppor_time) - pd.to_datetime(sms_df.action_time)).apply(lambda x:x.total_seconds()/3600)\n",
    "sms_df['is_oppor'] = [1 if i > 0 and i <= 72 else 0 for i in sms_df.is_oppor]\n",
    "pd.pivot_table(data=sms_df,columns='sent_stage',index='touchpoint_name',values='is_oppor',aggfunc='sum')\\\n",
    ".to_csv('data/rw_result/is_oppor.csv')"
   ]
  },
  {
   "cell_type": "markdown",
   "metadata": {},
   "source": [
    "- 短信后成交率"
   ]
  },
  {
   "cell_type": "code",
   "execution_count": 81,
   "metadata": {},
   "outputs": [],
   "source": [
    "sms_df['is_deal'] = (pd.to_datetime(sms_df.deal_time) - pd.to_datetime(sms_df.action_time)).apply(lambda x:x.total_seconds()/3600)\n",
    "sms_df['is_deal'] = [1 if i > 0 else 0 for i in sms_df.is_deal]\n",
    "pd.pivot_table(data=sms_df,columns='sent_stage',index='touchpoint_name',values='is_deal',aggfunc='sum')\\\n",
    ".to_csv('data/rw_result/is_deal.csv')"
   ]
  }
 ],
 "metadata": {
  "kernelspec": {
   "display_name": "python37_smcsandbox",
   "language": "python",
   "name": "python3"
  },
  "language_info": {
   "codemirror_mode": {
    "name": "ipython",
    "version": 3
   },
   "file_extension": ".py",
   "mimetype": "text/x-python",
   "name": "python",
   "nbconvert_exporter": "python",
   "pygments_lexer": "ipython3",
   "version": "3.7.5"
  }
 },
 "nbformat": 4,
 "nbformat_minor": 2
}
